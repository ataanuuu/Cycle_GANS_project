{
  "cells": [
    {
      "cell_type": "markdown",
      "id": "2043b5a2",
      "metadata": {
        "id": "2043b5a2"
      },
      "source": [
        "## Python Basics"
      ]
    },
    {
      "cell_type": "markdown",
      "id": "4da92ed3",
      "metadata": {
        "id": "4da92ed3"
      },
      "source": [
        "### Question 1 (5 points)\n",
        "**Complete the function `str_cmp` to return `True` if two strings are the same irrespective of lowercase/uppercase and whitespaces. Else, return `False`.**"
      ]
    },
    {
      "cell_type": "code",
      "execution_count": null,
      "id": "35a5617a",
      "metadata": {
        "id": "35a5617a"
      },
      "outputs": [],
      "source": [
        "def str_cmp(str_1, str_2):\n",
        "  # YOUR CODE HERE\n",
        "  str1=str_1.lower()\n",
        "  str11=str1.replace(\" \",\"\")\n",
        "  str2=str_2.lower()\n",
        "  str12=str2.replace(\" \",\"\")\n",
        "  if len(str11) != len(str12):\n",
        "    return False\n",
        "  for i in range(len(str11)):\n",
        "    if str11[i] !=str12[i]:\n",
        "      return False\n",
        "  return True\n"
      ]
    },
    {
      "cell_type": "code",
      "execution_count": null,
      "id": "de42b747",
      "metadata": {
        "id": "de42b747",
        "colab": {
          "base_uri": "https://localhost:8080/"
        },
        "outputId": "a3536daf-0a37-4675-bfa8-6bbe9a7bab23"
      },
      "outputs": [
        {
          "output_type": "stream",
          "name": "stdout",
          "text": [
            "Passed test case 1\n",
            "====================\n",
            "Passed test case 2\n",
            "====================\n",
            "Passed test case 3\n",
            "====================\n",
            "Passed test case 4\n",
            "====================\n",
            "Passed test case 5\n",
            "====================\n",
            "*****************************\n",
            "**  PASSED ALL TEST CASES  **\n",
            "*****************************\n"
          ]
        }
      ],
      "source": [
        "# TEST CASES -- DO NOT MODIFY\n",
        "\n",
        "# Test Case 1\n",
        "assert str_cmp(\"csce\", \"csce\") == True, \"Failed test case 1\"\n",
        "print(\"Passed test case 1\\n\" + \"=\"*20)\n",
        "\n",
        "# Test Case 2\n",
        "assert str_cmp(\"csce\", \"csce412\") == False, \"Failed test case 2\"\n",
        "print(\"Passed test case 2\\n\" + \"=\"*20)\n",
        "\n",
        "# Test Case 3\n",
        "assert str_cmp(\"MaChine LeArnIng\", \"machine learning\") == True, \"Failed test case 3\"\n",
        "print(\"Passed test case 3\\n\" + \"=\"*20)\n",
        "\n",
        "# Test Case 4\n",
        "assert str_cmp(\"Machine Learning!\", \"Machine Learning\") == False, \"Failed test case 4\"\n",
        "print(\"Passed test case 4\\n\" + \"=\"*20)\n",
        "\n",
        "# Test Case 5\n",
        "assert str_cmp(\"  Machine Learning\", \"machine    Learning \") == True, \"Failed test case 5\"\n",
        "print(\"Passed test case 5\\n\" + \"=\"*20)\n",
        "\n",
        "print(\"*\"*29 + \"\\n**  PASSED ALL TEST CASES  **\\n\" + \"*\"*29)"
      ]
    },
    {
      "cell_type": "markdown",
      "id": "538dfd1a",
      "metadata": {
        "id": "538dfd1a"
      },
      "source": [
        "### Question 2 (5 points)\n",
        "**Complete the function `power_list` in which each element is raised by its index to create a new list. Return the sum of the elements of the new list.**  \n",
        "\n",
        "Example:  \n",
        "given list: [1, 2, 3, 4]  \n",
        "new list: [1, 2, 9, 64]  \n",
        "sum of the elements of new list: 76"
      ]
    },
    {
      "cell_type": "code",
      "execution_count": null,
      "id": "e103a1ec",
      "metadata": {
        "id": "e103a1ec"
      },
      "outputs": [],
      "source": [
        "def power_list(arr):\n",
        "  ## YOUR CODE HERE\n",
        "  sum=0\n",
        "  for i in range(len(arr)):\n",
        "    sum+=pow(arr[i],i)\n",
        "  return sum"
      ]
    },
    {
      "cell_type": "code",
      "execution_count": null,
      "id": "945f921a",
      "metadata": {
        "id": "945f921a",
        "colab": {
          "base_uri": "https://localhost:8080/"
        },
        "outputId": "de6efdef-705b-4229-efa9-6a3c0c975781"
      },
      "outputs": [
        {
          "output_type": "stream",
          "name": "stdout",
          "text": [
            "Passed test case 1\n",
            "====================\n",
            "Passed test case 2\n",
            "====================\n",
            "*****************************\n",
            "**  PASSED ALL TEST CASES  **\n",
            "*****************************\n"
          ]
        }
      ],
      "source": [
        "# TEST CASES -- DO NOT MODIFY\n",
        "\n",
        "# Test Case 1\n",
        "assert power_list([i for i in range(5)]) == 289, \"Failed test case 1\"\n",
        "print(\"Passed test case 1\\n\" + \"=\"*20)\n",
        "\n",
        "# Test Case 2\n",
        "assert power_list([-i for i in range(10, -1, -1)]) == 48, \"Failed test case 2\"\n",
        "print(\"Passed test case 2\\n\" + \"=\"*20)\n",
        "\n",
        "print(\"*\"*29 + \"\\n**  PASSED ALL TEST CASES  **\\n\" + \"*\"*29)"
      ]
    },
    {
      "cell_type": "markdown",
      "id": "bf2cfd31",
      "metadata": {
        "id": "bf2cfd31"
      },
      "source": [
        "### Question 3 (10 points)\n",
        "**Complete the function `create_stats` that returns the mean and median values of the values arranged in a nested list.**"
      ]
    },
    {
      "cell_type": "code",
      "execution_count": null,
      "id": "663e8d08",
      "metadata": {
        "id": "663e8d08"
      },
      "outputs": [],
      "source": [
        "def create_stats(universities):\n",
        "  \"\"\"\n",
        "    Return a tuple of (mean students enrolled, median students enrolled, mean tuition, median tuition)\n",
        "    Return a tuple of (mean cars sold, median cars sold, mean MSRP, median MSRP)\n",
        "    \"\"\"\n",
        "  def median(lst):\n",
        "    sort_lst = sorted(lst)\n",
        "    n = len(sort_lst)\n",
        "    mid = n // 2\n",
        "    if n % 2 == 0:\n",
        "        return (sort_lst[mid - 1] + sort_lst[mid]) / 2\n",
        "    else:\n",
        "        return sort_lst[mid]\n",
        "  stud_enroll=[]\n",
        "  tuition=[]\n",
        "  for uni in universities:\n",
        "    stud_enroll.append(uni[1])\n",
        "    tuition.append(uni[2])\n",
        "  mean_std=sum(stud_enroll)/(len(stud_enroll))\n",
        "  mean_tui=sum(tuition)/(len(tuition))\n",
        "  median_std=median(stud_enroll)\n",
        "  median_tui=median(tuition)\n",
        "  return mean_std,median_std,mean_tui,median_tui"
      ]
    },
    {
      "cell_type": "code",
      "execution_count": null,
      "id": "cef665e2",
      "metadata": {
        "id": "cef665e2",
        "colab": {
          "base_uri": "https://localhost:8080/"
        },
        "outputId": "00f4259c-b729-4518-921e-c6e80cf72890"
      },
      "outputs": [
        {
          "output_type": "stream",
          "name": "stdout",
          "text": [
            "Passed test case 1\n",
            "====================\n",
            "Passed test case 2\n",
            "====================\n",
            "*****************************\n",
            "**  PASSED ALL TEST CASES  **\n",
            "*****************************\n"
          ]
        }
      ],
      "source": [
        "# TEST CASES -- DO NOT MODIFY\n",
        "\n",
        "# [[university name, students enrolled, tuition]]\n",
        "universities = [\n",
        "    [\"Harvard\", 19627, 39849],\n",
        "    [\"Massachusetts Institute of Technology\", 10566, 40732],\n",
        "    [\"Princeton\", 7806, 37000],\n",
        "    [\"Rice\", 5870, 35551],\n",
        "    [\"Stanford\", 19539, 40569],\n",
        "    [\"Yale\", 11706, 40500],\n",
        "]\n",
        "\n",
        "# [[model, cars sold, MSRP]]\n",
        "cars = [\n",
        "    [\"Ford F-series\", 52314, 35000],\n",
        "    [\"Toyota RAV4\", 41145, 30000],\n",
        "    [\"Honda CR-V\", 31530, 32000],\n",
        "    [\"Toyota Camry\", 32959, 28000],\n",
        "    [\"Honda Civic\", 28318, 23000]\n",
        "]\n",
        "\n",
        "# Test Case 1\n",
        "assert create_stats(universities) == (12519.0, 11136.0, 39033.5, 40174.5), \"Failed test case 1\"\n",
        "print(\"Passed test case 1\\n\" + \"=\"*20)\n",
        "\n",
        "# Test Case 2\n",
        "assert create_stats(cars) == (37253.2, 32959, 29600.0, 30000), \"Failed test case 2\"\n",
        "print(\"Passed test case 2\\n\" + \"=\"*20)\n",
        "\n",
        "print(\"*\"*29 + \"\\n**  PASSED ALL TEST CASES  **\\n\" + \"*\"*29)"
      ]
    },
    {
      "cell_type": "markdown",
      "id": "f518dfb5",
      "metadata": {
        "id": "f518dfb5"
      },
      "source": [
        "# NumPy Basics"
      ]
    },
    {
      "cell_type": "code",
      "execution_count": null,
      "id": "58b94afd",
      "metadata": {
        "id": "58b94afd"
      },
      "outputs": [],
      "source": [
        "import numpy as np"
      ]
    },
    {
      "cell_type": "markdown",
      "id": "9f7c5978",
      "metadata": {
        "id": "9f7c5978"
      },
      "source": [
        "### Question 4 (5 points)\n",
        "**Complete the function `matrix_reshape` to reshape a matrix to the target dimensions given by `n_rows` and `n_cols`.**"
      ]
    },
    {
      "cell_type": "code",
      "execution_count": null,
      "id": "7b2ee854",
      "metadata": {
        "id": "7b2ee854"
      },
      "outputs": [],
      "source": [
        "import numpy as np\n",
        "def matrix_reshape(mat, n_rows, n_cols):\n",
        "    # YOUR CODE HERE\n",
        "  return np.reshape(mat,(n_rows,n_cols))\n"
      ]
    },
    {
      "cell_type": "code",
      "execution_count": null,
      "id": "009922e4",
      "metadata": {
        "id": "009922e4",
        "colab": {
          "base_uri": "https://localhost:8080/"
        },
        "outputId": "794994b5-e839-4f26-ec73-97cd668d7d95"
      },
      "outputs": [
        {
          "output_type": "stream",
          "name": "stdout",
          "text": [
            "Passed test case 1\n",
            "====================\n",
            "Passed test case 2\n",
            "====================\n",
            "*****************************\n",
            "**  PASSED ALL TEST CASES  **\n",
            "*****************************\n"
          ]
        }
      ],
      "source": [
        "# TEST CASES -- DO NOT MODIFY\n",
        "import numpy as np\n",
        "A = np.array([\n",
        "    [3, -4, 2, 9],\n",
        "    [6, 1, -5, 2],\n",
        "    [-7, 8, -1, 6]\n",
        "])\n",
        "\n",
        "# Test Case 1\n",
        "assert (matrix_reshape(np.arange(15), 3, 5) == np.array([[ 0,  1,  2,  3,  4], [ 5,  6,  7,  8,  9],\n",
        "                                                            [10, 11, 12, 13, 14]])).all(), \"Failed test case 1\"\n",
        "print(\"Passed test case 1\\n\" + \"=\"*20)\n",
        "\n",
        "# Test Case 2\n",
        "assert (matrix_reshape(A, 2, 6) == np.array([[ 3, -4,  2,  9,  6,  1],\n",
        "       [-5,  2, -7,  8, -1,  6]])).all(), \"Failed test case 2\"\n",
        "print(\"Passed test case 2\\n\" + \"=\"*20)\n",
        "\n",
        "print(\"*\"*29 + \"\\n**  PASSED ALL TEST CASES  **\\n\" + \"*\"*29)"
      ]
    },
    {
      "cell_type": "markdown",
      "id": "6be8fe6d",
      "metadata": {
        "id": "6be8fe6d"
      },
      "source": [
        "### Question 5 (5 points)\n",
        "**Complete the function `dot_product` that returns the dot product of two matrices. Dot product is also known as matrix multiplication.**"
      ]
    },
    {
      "cell_type": "code",
      "execution_count": null,
      "id": "477e0de2",
      "metadata": {
        "id": "477e0de2"
      },
      "outputs": [],
      "source": [
        "def dot_product(mat_1, mat_2):\n",
        "  # YOUR CODE HERE\n",
        "  return np.dot(mat_1, mat_2)\n"
      ]
    },
    {
      "cell_type": "code",
      "execution_count": null,
      "id": "45463c9e",
      "metadata": {
        "id": "45463c9e",
        "colab": {
          "base_uri": "https://localhost:8080/"
        },
        "outputId": "4dde561e-00be-4b08-c44f-5fe25cae3915"
      },
      "outputs": [
        {
          "output_type": "stream",
          "name": "stdout",
          "text": [
            "Passed test case 1\n",
            "====================\n",
            "Passed test case 2\n",
            "====================\n",
            "Passed test case 3\n",
            "====================\n",
            "*****************************\n",
            "**  PASSED ALL TEST CASES  **\n",
            "*****************************\n"
          ]
        }
      ],
      "source": [
        "# TEST CASES -- DO NOT MODIFY\n",
        "\n",
        "A = np.array([\n",
        "    [3, -4, 2, 9],\n",
        "    [6, 1, -5, 2],\n",
        "    [-7, 8, -1, 6]\n",
        "])\n",
        "\n",
        "# Test Case 1\n",
        "assert dot_product(A[0,:], A[1,:]) == 22, \"Failed test case 1\"\n",
        "print(\"Passed test case 1\\n\" + \"=\"*20)\n",
        "\n",
        "# Test Case 2\n",
        "assert (dot_product(A[0,:], A.T) == np.array([110,  22,  -1])).all(), \"Failed test case 2\"\n",
        "print(\"Passed test case 2\\n\" + \"=\"*20)\n",
        "\n",
        "# Test Case 3\n",
        "assert (dot_product(A, A.T) == np.array([[110,  22,  -1], [ 22,  66, -17],\n",
        "                                               [ -1, -17, 150]])).all(), \"Failed test case 3\"\n",
        "print(\"Passed test case 3\\n\" + \"=\"*20)\n",
        "\n",
        "print(\"*\"*29 + \"\\n**  PASSED ALL TEST CASES  **\\n\" + \"*\"*29)"
      ]
    },
    {
      "cell_type": "markdown",
      "id": "7e8ead58",
      "metadata": {
        "id": "7e8ead58"
      },
      "source": [
        "### Question 6 (5 points)\n",
        "**Complete the function `cross_product` that returns the cross product of two matrices.**"
      ]
    },
    {
      "cell_type": "code",
      "execution_count": null,
      "id": "79123733",
      "metadata": {
        "id": "79123733"
      },
      "outputs": [],
      "source": [
        "def cross_product(mat_1, mat_2):\n",
        "    # YOUR CODE HERE\n",
        "    return np.cross(mat_1, mat_2)\n",
        "\n",
        "\n"
      ]
    },
    {
      "cell_type": "code",
      "execution_count": null,
      "id": "5297b399",
      "metadata": {
        "id": "5297b399",
        "colab": {
          "base_uri": "https://localhost:8080/"
        },
        "outputId": "60f4b0a5-dbcb-4dbf-8b18-19b67553b8ad"
      },
      "outputs": [
        {
          "output_type": "stream",
          "name": "stdout",
          "text": [
            "Passed test case 1\n",
            "====================\n",
            "Passed test case 2\n",
            "====================\n",
            "*****************************\n",
            "**  PASSED ALL TEST CASES  **\n",
            "*****************************\n"
          ]
        }
      ],
      "source": [
        "# TEST CASES -- DO NOT MODIFY\n",
        "\n",
        "A = np.array([\n",
        "    [3, -4, 2, 9],\n",
        "    [6, 1, -5, 2],\n",
        "    [-7, 8, -1, 6]\n",
        "])\n",
        "\n",
        "# Test Case 1\n",
        "assert cross_product(A[0,:2], A[:2,1]) == -13, \"Failed test case 1\"\n",
        "print(\"Passed test case 1\\n\" + \"=\"*20)\n",
        "\n",
        "# Test Case 2\n",
        "assert cross_product(A[:2,:2], A[2:,2:])[0] == 14, \"Failed test case 2\"\n",
        "print(\"Passed test case 2\\n\" + \"=\"*20)\n",
        "\n",
        "print(\"*\"*29 + \"\\n**  PASSED ALL TEST CASES  **\\n\" + \"*\"*29)"
      ]
    },
    {
      "cell_type": "markdown",
      "source": [],
      "metadata": {
        "id": "Dk4zk4dGv9TU"
      },
      "id": "Dk4zk4dGv9TU"
    },
    {
      "cell_type": "markdown",
      "id": "cd8ff4f9",
      "metadata": {
        "id": "cd8ff4f9"
      },
      "source": [
        "### Question 7 (5 points)\n",
        "**Complete the function `inverse` that computes the inverse of a matrix.**"
      ]
    },
    {
      "cell_type": "code",
      "execution_count": null,
      "id": "f6602906",
      "metadata": {
        "id": "f6602906"
      },
      "outputs": [],
      "source": [
        "def inverse(mat):\n",
        "  # YOUR CODE HERE\n",
        "  return np.linalg.inv(mat)\n"
      ]
    },
    {
      "cell_type": "code",
      "execution_count": null,
      "id": "ae2d0a7e",
      "metadata": {
        "id": "ae2d0a7e",
        "colab": {
          "base_uri": "https://localhost:8080/"
        },
        "outputId": "e967aeca-2ace-49b7-d152-54f1e3889aa5"
      },
      "outputs": [
        {
          "output_type": "stream",
          "name": "stdout",
          "text": [
            "Passed test case 1\n",
            "====================\n",
            "Passed test case 2\n",
            "====================\n",
            "*****************************\n",
            "**  PASSED ALL TEST CASES  **\n",
            "*****************************\n"
          ]
        }
      ],
      "source": [
        "# TEST CASES -- DO NOT MODIFY\n",
        "\n",
        "A = np.array([\n",
        "    [6, 1, 1],\n",
        "    [4, -2, 5],\n",
        "    [2, 8, 7]\n",
        "])\n",
        "\n",
        "# Test Case 1\n",
        "assert np.allclose(inverse(A), np.array([[ 0.17647059, -0.00326797, -0.02287582],\n",
        "       [ 0.05882353, -0.13071895,  0.08496732],\n",
        "       [-0.11764706,  0.1503268 ,  0.05228758]])), \"Failed test case 1\"\n",
        "print(\"Passed test case 1\\n\" + \"=\"*20)\n",
        "\n",
        "# Test Case 2\n",
        "assert (inverse(A[:2,:2]) == np.array([[ 0.125 ,  0.0625],\n",
        "       [ 0.25  , -0.375 ]])).all(), \"Failed test case 2\"\n",
        "print(\"Passed test case 2\\n\" + \"=\"*20)\n",
        "\n",
        "print(\"*\"*29 + \"\\n**  PASSED ALL TEST CASES  **\\n\" + \"*\"*29)"
      ]
    },
    {
      "cell_type": "markdown",
      "id": "676a062c",
      "metadata": {
        "id": "676a062c"
      },
      "source": [
        "### Question 8 (10 points)\n",
        "**Complete the function `subtract_mean` that subtracts the row-wise mean from each row of a matrix.**"
      ]
    },
    {
      "cell_type": "code",
      "execution_count": 6,
      "id": "d961fe24",
      "metadata": {
        "id": "d961fe24"
      },
      "outputs": [],
      "source": [
        "import numpy as np\n",
        "\n",
        "def subtract_mean(mat):\n",
        "    row_mean = np.mean(mat, axis=1)\n",
        "    mat = mat.astype(row_mean.dtype)\n",
        "    for i in range(len(mat)):\n",
        "        mat[i] -= row_mean[i]\n",
        "    return mat\n"
      ]
    },
    {
      "cell_type": "code",
      "execution_count": 7,
      "id": "2c022f5d",
      "metadata": {
        "id": "2c022f5d",
        "colab": {
          "base_uri": "https://localhost:8080/"
        },
        "outputId": "2e8d71f2-4cec-4fba-842f-82a275a4986c"
      },
      "outputs": [
        {
          "output_type": "stream",
          "name": "stdout",
          "text": [
            "Passed test case 1\n",
            "====================\n",
            "Passed test case 2\n",
            "====================\n",
            "*****************************\n",
            "**  PASSED ALL TEST CASES  **\n",
            "*****************************\n"
          ]
        }
      ],
      "source": [
        "import numpy as np\n",
        "\n",
        "A = np.array([\n",
        "    [3, -4, 2, 9],\n",
        "    [6, 1, -5, 2],\n",
        "    [-7, 8, -1, 6]\n",
        "])\n",
        "\n",
        "# Test Case 1\n",
        "assert (subtract_mean(np.arange(12).reshape(4,3)) == np.array([[-1.,  0.,  1.], [-1.,  0.,  1.],\n",
        "       [-1.,  0.,  1.], [-1.,  0.,  1.]])).all(), \"Failed test case 1\"\n",
        "print(\"Passed test case 1\\n\" + \"=\"*20)\n",
        "\n",
        "# Test Case 2\n",
        "assert (subtract_mean(A) == np.array([[0.5, -6.5, -0.5,  6.5], [5. ,  0. , -6. ,  1. ],\n",
        "        [-8.5,  6.5, -2.5,  4.5]])).all(), \"Failed test case 2\"\n",
        "print(\"Passed test case 2\\n\" + \"=\"*20)\n",
        "\n",
        "print(\"*\"*29 + \"\\n**  PASSED ALL TEST CASES  **\\n\" + \"*\"*29)"
      ]
    },
    {
      "cell_type": "markdown",
      "id": "936fb3bc",
      "metadata": {
        "id": "936fb3bc"
      },
      "source": [
        "### Question 9 (10 points)\n",
        "**Complete the function `moving_average` that computes averages over a sliding window of size `window_size` for a 1-D array.**"
      ]
    },
    {
      "cell_type": "code",
      "execution_count": null,
      "id": "95012d0c",
      "metadata": {
        "id": "95012d0c"
      },
      "outputs": [],
      "source": [
        "def moving_average(arr, window_size):\n",
        "    # YOUR CODE HERE\n",
        "  ans=[]\n",
        "  for i in range(len(arr)-window_size+1):\n",
        "    sum=0\n",
        "    for j in range(window_size):\n",
        "      sum+=arr[i+j]\n",
        "    ans.append(sum/(window_size))\n",
        "\n",
        "  return np.array(ans)\n"
      ]
    },
    {
      "cell_type": "code",
      "execution_count": null,
      "id": "463a46d1",
      "metadata": {
        "id": "463a46d1",
        "colab": {
          "base_uri": "https://localhost:8080/"
        },
        "outputId": "54a7f6c5-7d16-44af-b614-925a2cd1c315"
      },
      "outputs": [
        {
          "output_type": "stream",
          "name": "stdout",
          "text": [
            "Passed test case 1\n",
            "====================\n",
            "Passed test case 2\n",
            "====================\n",
            "*****************************\n",
            "**  PASSED ALL TEST CASES  **\n",
            "*****************************\n"
          ]
        }
      ],
      "source": [
        "# Test Case 1\n",
        "import numpy as np\n",
        "assert (moving_average(np.arange(10), 3) == np.arange(8)+1).all(), \"Failed test case 1\"\n",
        "print(\"Passed test case 1\\n\" + \"=\"*20)\n",
        "\n",
        "# Test Case 2\n",
        "assert (moving_average(np.array([-10, 5, 6, -4, 7, 9]), 2) ==\n",
        "        np.array([-2.5, 5.5, 1, 1.5, 8])).all(), \"Failed test case 2\"\n",
        "print(\"Passed test case 2\\n\" + \"=\"*20)\n",
        "\n",
        "print(\"*\"*29 + \"\\n**  PASSED ALL TEST CASES  **\\n\" + \"*\"*29)"
      ]
    },
    {
      "cell_type": "markdown",
      "id": "9aa618f6",
      "metadata": {
        "id": "9aa618f6"
      },
      "source": [
        "# Pandas Basics"
      ]
    },
    {
      "cell_type": "code",
      "execution_count": null,
      "id": "edd1866d",
      "metadata": {
        "id": "edd1866d"
      },
      "outputs": [],
      "source": [
        "import pandas as pd"
      ]
    },
    {
      "cell_type": "markdown",
      "id": "2395daa3",
      "metadata": {
        "id": "2395daa3"
      },
      "source": [
        "\n",
        "**Data**   \n"
      ]
    },
    {
      "cell_type": "code",
      "execution_count": null,
      "id": "dc153bef",
      "metadata": {
        "id": "dc153bef"
      },
      "outputs": [],
      "source": [
        "data = {'From': ['delhi', 'Lucknow', 'delhi',\n",
        "                   'Mumbai', 'Chennai'],\n",
        "        'To': ['Hyderabad', 'Kochi', 'Chandigarh', 'Hyderabad', 'Kolkata'],\n",
        "        'FlightNumber': [10045, np.nan, 10065, np.nan, 10085],\n",
        "        'Delay_1': [23, np.nan, 24, 13, 67],\n",
        "        'Delay_2': [47, np.nan, 43, np.nan, 32],\n",
        "        'Delay_3': [np.nan, np.nan, 87, np.nan, np.nan],\n",
        "        'Airline': ['Air India', 'Indigo', 'Go Air',\n",
        "                    'Indigo', 'Vistara']}"
      ]
    },
    {
      "cell_type": "code",
      "execution_count": null,
      "id": "015629c8",
      "metadata": {
        "id": "015629c8"
      },
      "outputs": [],
      "source": [
        "df = pd.DataFrame(data)"
      ]
    },
    {
      "cell_type": "code",
      "execution_count": null,
      "id": "6822ed9f",
      "metadata": {
        "id": "6822ed9f"
      },
      "outputs": [],
      "source": [
        "df.head()"
      ]
    },
    {
      "cell_type": "markdown",
      "id": "1d9d8114",
      "metadata": {
        "id": "1d9d8114"
      },
      "source": [
        "### Question 10 (5 points)\n",
        "**Calculate the number of unique cities in `df`.**"
      ]
    },
    {
      "cell_type": "code",
      "execution_count": null,
      "id": "346c1a8a",
      "metadata": {
        "id": "346c1a8a",
        "colab": {
          "base_uri": "https://localhost:8080/"
        },
        "outputId": "289404db-acf2-4b0c-b548-7fbfd65884b0"
      },
      "outputs": [
        {
          "output_type": "stream",
          "name": "stdout",
          "text": [
            "8\n"
          ]
        }
      ],
      "source": [
        "## YOUR CODE HERE\n",
        "uniq_cty = pd.unique(pd.concat([df['From'], df['To']]))\n",
        "print(len(uniq_cty))"
      ]
    },
    {
      "cell_type": "markdown",
      "id": "c465de2a",
      "metadata": {
        "id": "c465de2a"
      },
      "source": [
        "### Question 11 (5 points)\n",
        "**Compute the no. of flights flying out of `Delhi`.**"
      ]
    },
    {
      "cell_type": "code",
      "execution_count": null,
      "id": "8d9d5fe8",
      "metadata": {
        "id": "8d9d5fe8",
        "colab": {
          "base_uri": "https://localhost:8080/"
        },
        "outputId": "b1330038-b61f-49b9-f7ba-5ba7af1b91ff"
      },
      "outputs": [
        {
          "output_type": "stream",
          "name": "stdout",
          "text": [
            "2\n"
          ]
        }
      ],
      "source": [
        "## YOUR CODE HERE\n",
        "no_of_flig=df['From'].value_counts()['delhi']\n",
        "print(no_of_flig)"
      ]
    },
    {
      "cell_type": "markdown",
      "id": "b68b65f8",
      "metadata": {
        "id": "b68b65f8"
      },
      "source": [
        "### Question 12 (5 points)\n",
        "**Which cities are served by `Indigo`?**"
      ]
    },
    {
      "cell_type": "code",
      "execution_count": null,
      "id": "717d4485",
      "metadata": {
        "id": "717d4485",
        "colab": {
          "base_uri": "https://localhost:8080/"
        },
        "outputId": "e36395a4-d320-46fc-e957-f499e1e5c154"
      },
      "outputs": [
        {
          "output_type": "stream",
          "name": "stdout",
          "text": [
            "['Lucknow', 'Mumbai']\n"
          ]
        }
      ],
      "source": [
        "## YOUR CODE HERE\n",
        "ans=[]\n",
        "for index, row in df[df['Airline'] == 'Indigo'].iterrows():\n",
        "    # Append the value from the first column to the list\n",
        "    ans.append(row[0])\n",
        "print(ans)"
      ]
    },
    {
      "cell_type": "markdown",
      "id": "466270e6",
      "metadata": {
        "id": "466270e6"
      },
      "source": [
        "### Question 13 (5 points)\n",
        "**Calculate the total number of missing values (they are `NaN`) in `df`.**"
      ]
    },
    {
      "cell_type": "code",
      "execution_count": null,
      "id": "2d8f4abd",
      "metadata": {
        "id": "2d8f4abd",
        "colab": {
          "base_uri": "https://localhost:8080/"
        },
        "outputId": "5ee28451-71c8-4e4c-ddb7-dcdf46a69137"
      },
      "outputs": [
        {
          "output_type": "stream",
          "name": "stdout",
          "text": [
            "9\n"
          ]
        }
      ],
      "source": [
        "# YOUR CODE HERE\n",
        "df = pd.DataFrame(data)\n",
        "tot_nan_val = df.isnull().sum().sum()\n",
        "print(tot_nan_val)"
      ]
    },
    {
      "cell_type": "markdown",
      "id": "b26b0d55",
      "metadata": {
        "id": "b26b0d55"
      },
      "source": [
        "### Task 14 (10 points)\n",
        "**Compute the average delay, disregarding any `NaN` values, across all flights. Subsequently, update `df` by substituting all `NaN` values within the `Delay_1`, `Delay_2`, and `Delay_3` columns with this computed average delay.**"
      ]
    },
    {
      "cell_type": "code",
      "execution_count": null,
      "id": "b0e6425c",
      "metadata": {
        "id": "b0e6425c"
      },
      "outputs": [],
      "source": [
        "# YOUR CODE HERE\n",
        "import pandas as pd\n",
        "import numpy as np\n",
        "data = {'From': ['delhi', 'Lucknow', 'delhi',\n",
        "                   'Mumbai', 'Chennai'],\n",
        "        'To': ['Hyderabad', 'Kochi', 'Chandigarh', 'Hyderabad', 'Kolkata'],\n",
        "        'FlightNumber': [10045, np.nan, 10065, np.nan, 10085],\n",
        "        'Delay_1': [23, np.nan, 24, 13, 67],\n",
        "        'Delay_2': [47, np.nan, 43, np.nan, 32],\n",
        "        'Delay_3': [np.nan, np.nan, 87, np.nan, np.nan],\n",
        "        'Airline': ['Air India', 'Indigo', 'Go Air',\n",
        "                    'Indigo', 'Vistara']}\n",
        "df = pd.DataFrame(data)\n",
        "avg=df[[\"Delay_1\",\"Delay_2\",\"Delay_3\"]].mean(skipna=True)\n",
        "df[[\"Delay_1\",\"Delay_2\",\"Delay_3\"]]=df[[\"Delay_1\",\"Delay_2\",\"Delay_3\"]].fillna(avg)"
      ]
    },
    {
      "cell_type": "code",
      "execution_count": null,
      "id": "94c59963",
      "metadata": {
        "id": "94c59963",
        "colab": {
          "base_uri": "https://localhost:8080/",
          "height": 206
        },
        "outputId": "e9c2aaa0-dd9e-414e-f19a-9f7d3306e7d8"
      },
      "outputs": [
        {
          "output_type": "execute_result",
          "data": {
            "text/plain": [
              "      From          To  FlightNumber  Delay_1    Delay_2  Delay_3    Airline\n",
              "0    delhi   Hyderabad       10045.0    23.00  47.000000     87.0  Air India\n",
              "1  Lucknow       Kochi           NaN    31.75  40.666667     87.0     Indigo\n",
              "2    delhi  Chandigarh       10065.0    24.00  43.000000     87.0     Go Air\n",
              "3   Mumbai   Hyderabad           NaN    13.00  40.666667     87.0     Indigo\n",
              "4  Chennai     Kolkata       10085.0    67.00  32.000000     87.0    Vistara"
            ],
            "text/html": [
              "\n",
              "  <div id=\"df-3be04c7b-9fcf-4540-a749-bff2765b0982\" class=\"colab-df-container\">\n",
              "    <div>\n",
              "<style scoped>\n",
              "    .dataframe tbody tr th:only-of-type {\n",
              "        vertical-align: middle;\n",
              "    }\n",
              "\n",
              "    .dataframe tbody tr th {\n",
              "        vertical-align: top;\n",
              "    }\n",
              "\n",
              "    .dataframe thead th {\n",
              "        text-align: right;\n",
              "    }\n",
              "</style>\n",
              "<table border=\"1\" class=\"dataframe\">\n",
              "  <thead>\n",
              "    <tr style=\"text-align: right;\">\n",
              "      <th></th>\n",
              "      <th>From</th>\n",
              "      <th>To</th>\n",
              "      <th>FlightNumber</th>\n",
              "      <th>Delay_1</th>\n",
              "      <th>Delay_2</th>\n",
              "      <th>Delay_3</th>\n",
              "      <th>Airline</th>\n",
              "    </tr>\n",
              "  </thead>\n",
              "  <tbody>\n",
              "    <tr>\n",
              "      <th>0</th>\n",
              "      <td>delhi</td>\n",
              "      <td>Hyderabad</td>\n",
              "      <td>10045.0</td>\n",
              "      <td>23.00</td>\n",
              "      <td>47.000000</td>\n",
              "      <td>87.0</td>\n",
              "      <td>Air India</td>\n",
              "    </tr>\n",
              "    <tr>\n",
              "      <th>1</th>\n",
              "      <td>Lucknow</td>\n",
              "      <td>Kochi</td>\n",
              "      <td>NaN</td>\n",
              "      <td>31.75</td>\n",
              "      <td>40.666667</td>\n",
              "      <td>87.0</td>\n",
              "      <td>Indigo</td>\n",
              "    </tr>\n",
              "    <tr>\n",
              "      <th>2</th>\n",
              "      <td>delhi</td>\n",
              "      <td>Chandigarh</td>\n",
              "      <td>10065.0</td>\n",
              "      <td>24.00</td>\n",
              "      <td>43.000000</td>\n",
              "      <td>87.0</td>\n",
              "      <td>Go Air</td>\n",
              "    </tr>\n",
              "    <tr>\n",
              "      <th>3</th>\n",
              "      <td>Mumbai</td>\n",
              "      <td>Hyderabad</td>\n",
              "      <td>NaN</td>\n",
              "      <td>13.00</td>\n",
              "      <td>40.666667</td>\n",
              "      <td>87.0</td>\n",
              "      <td>Indigo</td>\n",
              "    </tr>\n",
              "    <tr>\n",
              "      <th>4</th>\n",
              "      <td>Chennai</td>\n",
              "      <td>Kolkata</td>\n",
              "      <td>10085.0</td>\n",
              "      <td>67.00</td>\n",
              "      <td>32.000000</td>\n",
              "      <td>87.0</td>\n",
              "      <td>Vistara</td>\n",
              "    </tr>\n",
              "  </tbody>\n",
              "</table>\n",
              "</div>\n",
              "    <div class=\"colab-df-buttons\">\n",
              "\n",
              "  <div class=\"colab-df-container\">\n",
              "    <button class=\"colab-df-convert\" onclick=\"convertToInteractive('df-3be04c7b-9fcf-4540-a749-bff2765b0982')\"\n",
              "            title=\"Convert this dataframe to an interactive table.\"\n",
              "            style=\"display:none;\">\n",
              "\n",
              "  <svg xmlns=\"http://www.w3.org/2000/svg\" height=\"24px\" viewBox=\"0 -960 960 960\">\n",
              "    <path d=\"M120-120v-720h720v720H120Zm60-500h600v-160H180v160Zm220 220h160v-160H400v160Zm0 220h160v-160H400v160ZM180-400h160v-160H180v160Zm440 0h160v-160H620v160ZM180-180h160v-160H180v160Zm440 0h160v-160H620v160Z\"/>\n",
              "  </svg>\n",
              "    </button>\n",
              "\n",
              "  <style>\n",
              "    .colab-df-container {\n",
              "      display:flex;\n",
              "      gap: 12px;\n",
              "    }\n",
              "\n",
              "    .colab-df-convert {\n",
              "      background-color: #E8F0FE;\n",
              "      border: none;\n",
              "      border-radius: 50%;\n",
              "      cursor: pointer;\n",
              "      display: none;\n",
              "      fill: #1967D2;\n",
              "      height: 32px;\n",
              "      padding: 0 0 0 0;\n",
              "      width: 32px;\n",
              "    }\n",
              "\n",
              "    .colab-df-convert:hover {\n",
              "      background-color: #E2EBFA;\n",
              "      box-shadow: 0px 1px 2px rgba(60, 64, 67, 0.3), 0px 1px 3px 1px rgba(60, 64, 67, 0.15);\n",
              "      fill: #174EA6;\n",
              "    }\n",
              "\n",
              "    .colab-df-buttons div {\n",
              "      margin-bottom: 4px;\n",
              "    }\n",
              "\n",
              "    [theme=dark] .colab-df-convert {\n",
              "      background-color: #3B4455;\n",
              "      fill: #D2E3FC;\n",
              "    }\n",
              "\n",
              "    [theme=dark] .colab-df-convert:hover {\n",
              "      background-color: #434B5C;\n",
              "      box-shadow: 0px 1px 3px 1px rgba(0, 0, 0, 0.15);\n",
              "      filter: drop-shadow(0px 1px 2px rgba(0, 0, 0, 0.3));\n",
              "      fill: #FFFFFF;\n",
              "    }\n",
              "  </style>\n",
              "\n",
              "    <script>\n",
              "      const buttonEl =\n",
              "        document.querySelector('#df-3be04c7b-9fcf-4540-a749-bff2765b0982 button.colab-df-convert');\n",
              "      buttonEl.style.display =\n",
              "        google.colab.kernel.accessAllowed ? 'block' : 'none';\n",
              "\n",
              "      async function convertToInteractive(key) {\n",
              "        const element = document.querySelector('#df-3be04c7b-9fcf-4540-a749-bff2765b0982');\n",
              "        const dataTable =\n",
              "          await google.colab.kernel.invokeFunction('convertToInteractive',\n",
              "                                                    [key], {});\n",
              "        if (!dataTable) return;\n",
              "\n",
              "        const docLinkHtml = 'Like what you see? Visit the ' +\n",
              "          '<a target=\"_blank\" href=https://colab.research.google.com/notebooks/data_table.ipynb>data table notebook</a>'\n",
              "          + ' to learn more about interactive tables.';\n",
              "        element.innerHTML = '';\n",
              "        dataTable['output_type'] = 'display_data';\n",
              "        await google.colab.output.renderOutput(dataTable, element);\n",
              "        const docLink = document.createElement('div');\n",
              "        docLink.innerHTML = docLinkHtml;\n",
              "        element.appendChild(docLink);\n",
              "      }\n",
              "    </script>\n",
              "  </div>\n",
              "\n",
              "\n",
              "<div id=\"df-021ed47a-99af-46c2-bb77-4cd0982b7208\">\n",
              "  <button class=\"colab-df-quickchart\" onclick=\"quickchart('df-021ed47a-99af-46c2-bb77-4cd0982b7208')\"\n",
              "            title=\"Suggest charts\"\n",
              "            style=\"display:none;\">\n",
              "\n",
              "<svg xmlns=\"http://www.w3.org/2000/svg\" height=\"24px\"viewBox=\"0 0 24 24\"\n",
              "     width=\"24px\">\n",
              "    <g>\n",
              "        <path d=\"M19 3H5c-1.1 0-2 .9-2 2v14c0 1.1.9 2 2 2h14c1.1 0 2-.9 2-2V5c0-1.1-.9-2-2-2zM9 17H7v-7h2v7zm4 0h-2V7h2v10zm4 0h-2v-4h2v4z\"/>\n",
              "    </g>\n",
              "</svg>\n",
              "  </button>\n",
              "\n",
              "<style>\n",
              "  .colab-df-quickchart {\n",
              "      --bg-color: #E8F0FE;\n",
              "      --fill-color: #1967D2;\n",
              "      --hover-bg-color: #E2EBFA;\n",
              "      --hover-fill-color: #174EA6;\n",
              "      --disabled-fill-color: #AAA;\n",
              "      --disabled-bg-color: #DDD;\n",
              "  }\n",
              "\n",
              "  [theme=dark] .colab-df-quickchart {\n",
              "      --bg-color: #3B4455;\n",
              "      --fill-color: #D2E3FC;\n",
              "      --hover-bg-color: #434B5C;\n",
              "      --hover-fill-color: #FFFFFF;\n",
              "      --disabled-bg-color: #3B4455;\n",
              "      --disabled-fill-color: #666;\n",
              "  }\n",
              "\n",
              "  .colab-df-quickchart {\n",
              "    background-color: var(--bg-color);\n",
              "    border: none;\n",
              "    border-radius: 50%;\n",
              "    cursor: pointer;\n",
              "    display: none;\n",
              "    fill: var(--fill-color);\n",
              "    height: 32px;\n",
              "    padding: 0;\n",
              "    width: 32px;\n",
              "  }\n",
              "\n",
              "  .colab-df-quickchart:hover {\n",
              "    background-color: var(--hover-bg-color);\n",
              "    box-shadow: 0 1px 2px rgba(60, 64, 67, 0.3), 0 1px 3px 1px rgba(60, 64, 67, 0.15);\n",
              "    fill: var(--button-hover-fill-color);\n",
              "  }\n",
              "\n",
              "  .colab-df-quickchart-complete:disabled,\n",
              "  .colab-df-quickchart-complete:disabled:hover {\n",
              "    background-color: var(--disabled-bg-color);\n",
              "    fill: var(--disabled-fill-color);\n",
              "    box-shadow: none;\n",
              "  }\n",
              "\n",
              "  .colab-df-spinner {\n",
              "    border: 2px solid var(--fill-color);\n",
              "    border-color: transparent;\n",
              "    border-bottom-color: var(--fill-color);\n",
              "    animation:\n",
              "      spin 1s steps(1) infinite;\n",
              "  }\n",
              "\n",
              "  @keyframes spin {\n",
              "    0% {\n",
              "      border-color: transparent;\n",
              "      border-bottom-color: var(--fill-color);\n",
              "      border-left-color: var(--fill-color);\n",
              "    }\n",
              "    20% {\n",
              "      border-color: transparent;\n",
              "      border-left-color: var(--fill-color);\n",
              "      border-top-color: var(--fill-color);\n",
              "    }\n",
              "    30% {\n",
              "      border-color: transparent;\n",
              "      border-left-color: var(--fill-color);\n",
              "      border-top-color: var(--fill-color);\n",
              "      border-right-color: var(--fill-color);\n",
              "    }\n",
              "    40% {\n",
              "      border-color: transparent;\n",
              "      border-right-color: var(--fill-color);\n",
              "      border-top-color: var(--fill-color);\n",
              "    }\n",
              "    60% {\n",
              "      border-color: transparent;\n",
              "      border-right-color: var(--fill-color);\n",
              "    }\n",
              "    80% {\n",
              "      border-color: transparent;\n",
              "      border-right-color: var(--fill-color);\n",
              "      border-bottom-color: var(--fill-color);\n",
              "    }\n",
              "    90% {\n",
              "      border-color: transparent;\n",
              "      border-bottom-color: var(--fill-color);\n",
              "    }\n",
              "  }\n",
              "</style>\n",
              "\n",
              "  <script>\n",
              "    async function quickchart(key) {\n",
              "      const quickchartButtonEl =\n",
              "        document.querySelector('#' + key + ' button');\n",
              "      quickchartButtonEl.disabled = true;  // To prevent multiple clicks.\n",
              "      quickchartButtonEl.classList.add('colab-df-spinner');\n",
              "      try {\n",
              "        const charts = await google.colab.kernel.invokeFunction(\n",
              "            'suggestCharts', [key], {});\n",
              "      } catch (error) {\n",
              "        console.error('Error during call to suggestCharts:', error);\n",
              "      }\n",
              "      quickchartButtonEl.classList.remove('colab-df-spinner');\n",
              "      quickchartButtonEl.classList.add('colab-df-quickchart-complete');\n",
              "    }\n",
              "    (() => {\n",
              "      let quickchartButtonEl =\n",
              "        document.querySelector('#df-021ed47a-99af-46c2-bb77-4cd0982b7208 button');\n",
              "      quickchartButtonEl.style.display =\n",
              "        google.colab.kernel.accessAllowed ? 'block' : 'none';\n",
              "    })();\n",
              "  </script>\n",
              "</div>\n",
              "\n",
              "    </div>\n",
              "  </div>\n"
            ],
            "application/vnd.google.colaboratory.intrinsic+json": {
              "type": "dataframe",
              "variable_name": "df",
              "summary": "{\n  \"name\": \"df\",\n  \"rows\": 5,\n  \"fields\": [\n    {\n      \"column\": \"From\",\n      \"properties\": {\n        \"dtype\": \"string\",\n        \"num_unique_values\": 4,\n        \"samples\": [\n          \"Lucknow\",\n          \"Chennai\",\n          \"delhi\"\n        ],\n        \"semantic_type\": \"\",\n        \"description\": \"\"\n      }\n    },\n    {\n      \"column\": \"To\",\n      \"properties\": {\n        \"dtype\": \"string\",\n        \"num_unique_values\": 4,\n        \"samples\": [\n          \"Kochi\",\n          \"Kolkata\",\n          \"Hyderabad\"\n        ],\n        \"semantic_type\": \"\",\n        \"description\": \"\"\n      }\n    },\n    {\n      \"column\": \"FlightNumber\",\n      \"properties\": {\n        \"dtype\": \"number\",\n        \"std\": 20.0,\n        \"min\": 10045.0,\n        \"max\": 10085.0,\n        \"num_unique_values\": 3,\n        \"samples\": [\n          10045.0,\n          10065.0,\n          10085.0\n        ],\n        \"semantic_type\": \"\",\n        \"description\": \"\"\n      }\n    },\n    {\n      \"column\": \"Delay_1\",\n      \"properties\": {\n        \"dtype\": \"number\",\n        \"std\": 20.801141795584204,\n        \"min\": 13.0,\n        \"max\": 67.0,\n        \"num_unique_values\": 5,\n        \"samples\": [\n          31.75,\n          67.0,\n          24.0\n        ],\n        \"semantic_type\": \"\",\n        \"description\": \"\"\n      }\n    },\n    {\n      \"column\": \"Delay_2\",\n      \"properties\": {\n        \"dtype\": \"number\",\n        \"std\": 5.49241901776136,\n        \"min\": 32.0,\n        \"max\": 47.0,\n        \"num_unique_values\": 4,\n        \"samples\": [\n          40.666666666666664,\n          32.0,\n          47.0\n        ],\n        \"semantic_type\": \"\",\n        \"description\": \"\"\n      }\n    },\n    {\n      \"column\": \"Delay_3\",\n      \"properties\": {\n        \"dtype\": \"number\",\n        \"std\": 0.0,\n        \"min\": 87.0,\n        \"max\": 87.0,\n        \"num_unique_values\": 1,\n        \"samples\": [\n          87.0\n        ],\n        \"semantic_type\": \"\",\n        \"description\": \"\"\n      }\n    },\n    {\n      \"column\": \"Airline\",\n      \"properties\": {\n        \"dtype\": \"string\",\n        \"num_unique_values\": 4,\n        \"samples\": [\n          \"Indigo\"\n        ],\n        \"semantic_type\": \"\",\n        \"description\": \"\"\n      }\n    }\n  ]\n}"
            }
          },
          "metadata": {},
          "execution_count": 4
        }
      ],
      "source": [
        "df.head()"
      ]
    },
    {
      "cell_type": "markdown",
      "id": "c5452f65",
      "metadata": {
        "id": "c5452f65"
      },
      "source": [
        "### Task 15 (10 points)\n",
        "**Fill in missing values in the `FlightNumber` column. The `FlightNumber` is expected to increase by 10 with each subsequent row. For instance, at row indices 1 and 3, the `FlightNumber` should be 10055 and 10075 respectively. Adjust the `df` to incorporate these changes and convert the column to integer type.**"
      ]
    },
    {
      "cell_type": "code",
      "execution_count": null,
      "id": "cce26572",
      "metadata": {
        "id": "cce26572"
      },
      "outputs": [],
      "source": [
        "## YOUR CODE HERE\n",
        "for i in range(len(df)):\n",
        "  fill=10045+(i*10)\n",
        "  if pd.isna(df.at[i, 'FlightNumber']):\n",
        "    df.at[i, 'FlightNumber'] = fill\n",
        "df.head()\n",
        "df['FlightNumber'] = df['FlightNumber'].astype(int)\n"
      ]
    },
    {
      "cell_type": "code",
      "execution_count": null,
      "id": "7f581e05",
      "metadata": {
        "id": "7f581e05",
        "colab": {
          "base_uri": "https://localhost:8080/",
          "height": 206
        },
        "outputId": "7d4f5874-79b6-43b3-8776-2d1fcbeec0ff"
      },
      "outputs": [
        {
          "output_type": "execute_result",
          "data": {
            "text/plain": [
              "      From          To  FlightNumber  Delay_1  Delay_2  Delay_3    Airline\n",
              "0    delhi   Hyderabad         10045     23.0     47.0      NaN  Air India\n",
              "1  Lucknow       Kochi         10055      NaN      NaN      NaN     Indigo\n",
              "2    delhi  Chandigarh         10065     24.0     43.0     87.0     Go Air\n",
              "3   Mumbai   Hyderabad         10075     13.0      NaN      NaN     Indigo\n",
              "4  Chennai     Kolkata         10085     67.0     32.0      NaN    Vistara"
            ],
            "text/html": [
              "\n",
              "  <div id=\"df-e79c16ac-5433-4f58-8ce5-b979dad0cf5e\" class=\"colab-df-container\">\n",
              "    <div>\n",
              "<style scoped>\n",
              "    .dataframe tbody tr th:only-of-type {\n",
              "        vertical-align: middle;\n",
              "    }\n",
              "\n",
              "    .dataframe tbody tr th {\n",
              "        vertical-align: top;\n",
              "    }\n",
              "\n",
              "    .dataframe thead th {\n",
              "        text-align: right;\n",
              "    }\n",
              "</style>\n",
              "<table border=\"1\" class=\"dataframe\">\n",
              "  <thead>\n",
              "    <tr style=\"text-align: right;\">\n",
              "      <th></th>\n",
              "      <th>From</th>\n",
              "      <th>To</th>\n",
              "      <th>FlightNumber</th>\n",
              "      <th>Delay_1</th>\n",
              "      <th>Delay_2</th>\n",
              "      <th>Delay_3</th>\n",
              "      <th>Airline</th>\n",
              "    </tr>\n",
              "  </thead>\n",
              "  <tbody>\n",
              "    <tr>\n",
              "      <th>0</th>\n",
              "      <td>delhi</td>\n",
              "      <td>Hyderabad</td>\n",
              "      <td>10045</td>\n",
              "      <td>23.0</td>\n",
              "      <td>47.0</td>\n",
              "      <td>NaN</td>\n",
              "      <td>Air India</td>\n",
              "    </tr>\n",
              "    <tr>\n",
              "      <th>1</th>\n",
              "      <td>Lucknow</td>\n",
              "      <td>Kochi</td>\n",
              "      <td>10055</td>\n",
              "      <td>NaN</td>\n",
              "      <td>NaN</td>\n",
              "      <td>NaN</td>\n",
              "      <td>Indigo</td>\n",
              "    </tr>\n",
              "    <tr>\n",
              "      <th>2</th>\n",
              "      <td>delhi</td>\n",
              "      <td>Chandigarh</td>\n",
              "      <td>10065</td>\n",
              "      <td>24.0</td>\n",
              "      <td>43.0</td>\n",
              "      <td>87.0</td>\n",
              "      <td>Go Air</td>\n",
              "    </tr>\n",
              "    <tr>\n",
              "      <th>3</th>\n",
              "      <td>Mumbai</td>\n",
              "      <td>Hyderabad</td>\n",
              "      <td>10075</td>\n",
              "      <td>13.0</td>\n",
              "      <td>NaN</td>\n",
              "      <td>NaN</td>\n",
              "      <td>Indigo</td>\n",
              "    </tr>\n",
              "    <tr>\n",
              "      <th>4</th>\n",
              "      <td>Chennai</td>\n",
              "      <td>Kolkata</td>\n",
              "      <td>10085</td>\n",
              "      <td>67.0</td>\n",
              "      <td>32.0</td>\n",
              "      <td>NaN</td>\n",
              "      <td>Vistara</td>\n",
              "    </tr>\n",
              "  </tbody>\n",
              "</table>\n",
              "</div>\n",
              "    <div class=\"colab-df-buttons\">\n",
              "\n",
              "  <div class=\"colab-df-container\">\n",
              "    <button class=\"colab-df-convert\" onclick=\"convertToInteractive('df-e79c16ac-5433-4f58-8ce5-b979dad0cf5e')\"\n",
              "            title=\"Convert this dataframe to an interactive table.\"\n",
              "            style=\"display:none;\">\n",
              "\n",
              "  <svg xmlns=\"http://www.w3.org/2000/svg\" height=\"24px\" viewBox=\"0 -960 960 960\">\n",
              "    <path d=\"M120-120v-720h720v720H120Zm60-500h600v-160H180v160Zm220 220h160v-160H400v160Zm0 220h160v-160H400v160ZM180-400h160v-160H180v160Zm440 0h160v-160H620v160ZM180-180h160v-160H180v160Zm440 0h160v-160H620v160Z\"/>\n",
              "  </svg>\n",
              "    </button>\n",
              "\n",
              "  <style>\n",
              "    .colab-df-container {\n",
              "      display:flex;\n",
              "      gap: 12px;\n",
              "    }\n",
              "\n",
              "    .colab-df-convert {\n",
              "      background-color: #E8F0FE;\n",
              "      border: none;\n",
              "      border-radius: 50%;\n",
              "      cursor: pointer;\n",
              "      display: none;\n",
              "      fill: #1967D2;\n",
              "      height: 32px;\n",
              "      padding: 0 0 0 0;\n",
              "      width: 32px;\n",
              "    }\n",
              "\n",
              "    .colab-df-convert:hover {\n",
              "      background-color: #E2EBFA;\n",
              "      box-shadow: 0px 1px 2px rgba(60, 64, 67, 0.3), 0px 1px 3px 1px rgba(60, 64, 67, 0.15);\n",
              "      fill: #174EA6;\n",
              "    }\n",
              "\n",
              "    .colab-df-buttons div {\n",
              "      margin-bottom: 4px;\n",
              "    }\n",
              "\n",
              "    [theme=dark] .colab-df-convert {\n",
              "      background-color: #3B4455;\n",
              "      fill: #D2E3FC;\n",
              "    }\n",
              "\n",
              "    [theme=dark] .colab-df-convert:hover {\n",
              "      background-color: #434B5C;\n",
              "      box-shadow: 0px 1px 3px 1px rgba(0, 0, 0, 0.15);\n",
              "      filter: drop-shadow(0px 1px 2px rgba(0, 0, 0, 0.3));\n",
              "      fill: #FFFFFF;\n",
              "    }\n",
              "  </style>\n",
              "\n",
              "    <script>\n",
              "      const buttonEl =\n",
              "        document.querySelector('#df-e79c16ac-5433-4f58-8ce5-b979dad0cf5e button.colab-df-convert');\n",
              "      buttonEl.style.display =\n",
              "        google.colab.kernel.accessAllowed ? 'block' : 'none';\n",
              "\n",
              "      async function convertToInteractive(key) {\n",
              "        const element = document.querySelector('#df-e79c16ac-5433-4f58-8ce5-b979dad0cf5e');\n",
              "        const dataTable =\n",
              "          await google.colab.kernel.invokeFunction('convertToInteractive',\n",
              "                                                    [key], {});\n",
              "        if (!dataTable) return;\n",
              "\n",
              "        const docLinkHtml = 'Like what you see? Visit the ' +\n",
              "          '<a target=\"_blank\" href=https://colab.research.google.com/notebooks/data_table.ipynb>data table notebook</a>'\n",
              "          + ' to learn more about interactive tables.';\n",
              "        element.innerHTML = '';\n",
              "        dataTable['output_type'] = 'display_data';\n",
              "        await google.colab.output.renderOutput(dataTable, element);\n",
              "        const docLink = document.createElement('div');\n",
              "        docLink.innerHTML = docLinkHtml;\n",
              "        element.appendChild(docLink);\n",
              "      }\n",
              "    </script>\n",
              "  </div>\n",
              "\n",
              "\n",
              "<div id=\"df-990c647d-a204-4e73-8286-ada9cbcdd0fd\">\n",
              "  <button class=\"colab-df-quickchart\" onclick=\"quickchart('df-990c647d-a204-4e73-8286-ada9cbcdd0fd')\"\n",
              "            title=\"Suggest charts\"\n",
              "            style=\"display:none;\">\n",
              "\n",
              "<svg xmlns=\"http://www.w3.org/2000/svg\" height=\"24px\"viewBox=\"0 0 24 24\"\n",
              "     width=\"24px\">\n",
              "    <g>\n",
              "        <path d=\"M19 3H5c-1.1 0-2 .9-2 2v14c0 1.1.9 2 2 2h14c1.1 0 2-.9 2-2V5c0-1.1-.9-2-2-2zM9 17H7v-7h2v7zm4 0h-2V7h2v10zm4 0h-2v-4h2v4z\"/>\n",
              "    </g>\n",
              "</svg>\n",
              "  </button>\n",
              "\n",
              "<style>\n",
              "  .colab-df-quickchart {\n",
              "      --bg-color: #E8F0FE;\n",
              "      --fill-color: #1967D2;\n",
              "      --hover-bg-color: #E2EBFA;\n",
              "      --hover-fill-color: #174EA6;\n",
              "      --disabled-fill-color: #AAA;\n",
              "      --disabled-bg-color: #DDD;\n",
              "  }\n",
              "\n",
              "  [theme=dark] .colab-df-quickchart {\n",
              "      --bg-color: #3B4455;\n",
              "      --fill-color: #D2E3FC;\n",
              "      --hover-bg-color: #434B5C;\n",
              "      --hover-fill-color: #FFFFFF;\n",
              "      --disabled-bg-color: #3B4455;\n",
              "      --disabled-fill-color: #666;\n",
              "  }\n",
              "\n",
              "  .colab-df-quickchart {\n",
              "    background-color: var(--bg-color);\n",
              "    border: none;\n",
              "    border-radius: 50%;\n",
              "    cursor: pointer;\n",
              "    display: none;\n",
              "    fill: var(--fill-color);\n",
              "    height: 32px;\n",
              "    padding: 0;\n",
              "    width: 32px;\n",
              "  }\n",
              "\n",
              "  .colab-df-quickchart:hover {\n",
              "    background-color: var(--hover-bg-color);\n",
              "    box-shadow: 0 1px 2px rgba(60, 64, 67, 0.3), 0 1px 3px 1px rgba(60, 64, 67, 0.15);\n",
              "    fill: var(--button-hover-fill-color);\n",
              "  }\n",
              "\n",
              "  .colab-df-quickchart-complete:disabled,\n",
              "  .colab-df-quickchart-complete:disabled:hover {\n",
              "    background-color: var(--disabled-bg-color);\n",
              "    fill: var(--disabled-fill-color);\n",
              "    box-shadow: none;\n",
              "  }\n",
              "\n",
              "  .colab-df-spinner {\n",
              "    border: 2px solid var(--fill-color);\n",
              "    border-color: transparent;\n",
              "    border-bottom-color: var(--fill-color);\n",
              "    animation:\n",
              "      spin 1s steps(1) infinite;\n",
              "  }\n",
              "\n",
              "  @keyframes spin {\n",
              "    0% {\n",
              "      border-color: transparent;\n",
              "      border-bottom-color: var(--fill-color);\n",
              "      border-left-color: var(--fill-color);\n",
              "    }\n",
              "    20% {\n",
              "      border-color: transparent;\n",
              "      border-left-color: var(--fill-color);\n",
              "      border-top-color: var(--fill-color);\n",
              "    }\n",
              "    30% {\n",
              "      border-color: transparent;\n",
              "      border-left-color: var(--fill-color);\n",
              "      border-top-color: var(--fill-color);\n",
              "      border-right-color: var(--fill-color);\n",
              "    }\n",
              "    40% {\n",
              "      border-color: transparent;\n",
              "      border-right-color: var(--fill-color);\n",
              "      border-top-color: var(--fill-color);\n",
              "    }\n",
              "    60% {\n",
              "      border-color: transparent;\n",
              "      border-right-color: var(--fill-color);\n",
              "    }\n",
              "    80% {\n",
              "      border-color: transparent;\n",
              "      border-right-color: var(--fill-color);\n",
              "      border-bottom-color: var(--fill-color);\n",
              "    }\n",
              "    90% {\n",
              "      border-color: transparent;\n",
              "      border-bottom-color: var(--fill-color);\n",
              "    }\n",
              "  }\n",
              "</style>\n",
              "\n",
              "  <script>\n",
              "    async function quickchart(key) {\n",
              "      const quickchartButtonEl =\n",
              "        document.querySelector('#' + key + ' button');\n",
              "      quickchartButtonEl.disabled = true;  // To prevent multiple clicks.\n",
              "      quickchartButtonEl.classList.add('colab-df-spinner');\n",
              "      try {\n",
              "        const charts = await google.colab.kernel.invokeFunction(\n",
              "            'suggestCharts', [key], {});\n",
              "      } catch (error) {\n",
              "        console.error('Error during call to suggestCharts:', error);\n",
              "      }\n",
              "      quickchartButtonEl.classList.remove('colab-df-spinner');\n",
              "      quickchartButtonEl.classList.add('colab-df-quickchart-complete');\n",
              "    }\n",
              "    (() => {\n",
              "      let quickchartButtonEl =\n",
              "        document.querySelector('#df-990c647d-a204-4e73-8286-ada9cbcdd0fd button');\n",
              "      quickchartButtonEl.style.display =\n",
              "        google.colab.kernel.accessAllowed ? 'block' : 'none';\n",
              "    })();\n",
              "  </script>\n",
              "</div>\n",
              "\n",
              "    </div>\n",
              "  </div>\n"
            ],
            "application/vnd.google.colaboratory.intrinsic+json": {
              "type": "dataframe",
              "variable_name": "df",
              "summary": "{\n  \"name\": \"df\",\n  \"rows\": 5,\n  \"fields\": [\n    {\n      \"column\": \"From\",\n      \"properties\": {\n        \"dtype\": \"string\",\n        \"num_unique_values\": 4,\n        \"samples\": [\n          \"Lucknow\",\n          \"Chennai\",\n          \"delhi\"\n        ],\n        \"semantic_type\": \"\",\n        \"description\": \"\"\n      }\n    },\n    {\n      \"column\": \"To\",\n      \"properties\": {\n        \"dtype\": \"string\",\n        \"num_unique_values\": 4,\n        \"samples\": [\n          \"Kochi\",\n          \"Kolkata\",\n          \"Hyderabad\"\n        ],\n        \"semantic_type\": \"\",\n        \"description\": \"\"\n      }\n    },\n    {\n      \"column\": \"FlightNumber\",\n      \"properties\": {\n        \"dtype\": \"number\",\n        \"std\": 15,\n        \"min\": 10045,\n        \"max\": 10085,\n        \"num_unique_values\": 5,\n        \"samples\": [\n          10055,\n          10085,\n          10065\n        ],\n        \"semantic_type\": \"\",\n        \"description\": \"\"\n      }\n    },\n    {\n      \"column\": \"Delay_1\",\n      \"properties\": {\n        \"dtype\": \"number\",\n        \"std\": 24.01908963026423,\n        \"min\": 13.0,\n        \"max\": 67.0,\n        \"num_unique_values\": 4,\n        \"samples\": [\n          24.0,\n          67.0,\n          23.0\n        ],\n        \"semantic_type\": \"\",\n        \"description\": \"\"\n      }\n    },\n    {\n      \"column\": \"Delay_2\",\n      \"properties\": {\n        \"dtype\": \"number\",\n        \"std\": 7.767453465154029,\n        \"min\": 32.0,\n        \"max\": 47.0,\n        \"num_unique_values\": 3,\n        \"samples\": [\n          47.0,\n          43.0,\n          32.0\n        ],\n        \"semantic_type\": \"\",\n        \"description\": \"\"\n      }\n    },\n    {\n      \"column\": \"Delay_3\",\n      \"properties\": {\n        \"dtype\": \"number\",\n        \"std\": null,\n        \"min\": 87.0,\n        \"max\": 87.0,\n        \"num_unique_values\": 1,\n        \"samples\": [\n          87.0\n        ],\n        \"semantic_type\": \"\",\n        \"description\": \"\"\n      }\n    },\n    {\n      \"column\": \"Airline\",\n      \"properties\": {\n        \"dtype\": \"string\",\n        \"num_unique_values\": 4,\n        \"samples\": [\n          \"Indigo\"\n        ],\n        \"semantic_type\": \"\",\n        \"description\": \"\"\n      }\n    }\n  ]\n}"
            }
          },
          "metadata": {},
          "execution_count": 27
        }
      ],
      "source": [
        "df.head()"
      ]
    },
    {
      "cell_type": "code",
      "execution_count": null,
      "id": "3b3dc16b",
      "metadata": {
        "id": "3b3dc16b",
        "colab": {
          "base_uri": "https://localhost:8080/"
        },
        "outputId": "b01a4c08-7c8d-46f4-9d74-edba4d9cf895"
      },
      "outputs": [
        {
          "output_type": "stream",
          "name": "stdout",
          "text": [
            "<class 'pandas.core.frame.DataFrame'>\n",
            "RangeIndex: 5 entries, 0 to 4\n",
            "Data columns (total 7 columns):\n",
            " #   Column        Non-Null Count  Dtype  \n",
            "---  ------        --------------  -----  \n",
            " 0   From          5 non-null      object \n",
            " 1   To            5 non-null      object \n",
            " 2   FlightNumber  5 non-null      int64  \n",
            " 3   Delay_1       4 non-null      float64\n",
            " 4   Delay_2       3 non-null      float64\n",
            " 5   Delay_3       1 non-null      float64\n",
            " 6   Airline       5 non-null      object \n",
            "dtypes: float64(3), int64(1), object(3)\n",
            "memory usage: 408.0+ bytes\n"
          ]
        }
      ],
      "source": [
        "df.info()"
      ]
    }
  ],
  "metadata": {
    "kernelspec": {
      "display_name": "Python 3",
      "language": "python",
      "name": "python3"
    },
    "language_info": {
      "codemirror_mode": {
        "name": "ipython",
        "version": 3
      },
      "file_extension": ".py",
      "mimetype": "text/x-python",
      "name": "python",
      "nbconvert_exporter": "python",
      "pygments_lexer": "ipython3",
      "version": "3.6.13"
    },
    "colab": {
      "provenance": []
    }
  },
  "nbformat": 4,
  "nbformat_minor": 5
}
