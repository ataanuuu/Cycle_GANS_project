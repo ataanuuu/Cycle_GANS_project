{
  "nbformat": 4,
  "nbformat_minor": 0,
  "metadata": {
    "colab": {
      "provenance": [],
      "include_colab_link": true
    },
    "kernelspec": {
      "name": "python3",
      "display_name": "Python 3"
    },
    "language_info": {
      "name": "python"
    }
  },
  "cells": [
    {
      "cell_type": "markdown",
      "metadata": {
        "id": "view-in-github",
        "colab_type": "text"
      },
      "source": [
        "<a href=\"https://colab.research.google.com/github/shrutisekhar02/Cycle_GANS_project/blob/main/CYCLE_GANS_Assignment1_230723.ipynb\" target=\"_parent\"><img src=\"https://colab.research.google.com/assets/colab-badge.svg\" alt=\"Open In Colab\"/></a>"
      ]
    },
    {
      "cell_type": "markdown",
      "source": [
        "Instructions for the assignment\n",
        "\n",
        "\n",
        "*   Fill the codeblocks according to the comments given\n",
        "*   Hints are given wherever required\n",
        "*   Please note that copying will not be tolerated, and appropriate action will be taken if we suspect any misconduct.\n",
        "*   You're welcome to utilize any online resources in case you feel stuck anywhere :-)\n",
        "\n",
        "\n",
        "\n",
        "\n",
        "\n",
        "\n",
        "\n"
      ],
      "metadata": {
        "id": "kIAcUXNYVeGR"
      }
    },
    {
      "cell_type": "markdown",
      "source": [
        "# Section A *(2 Marks each)*"
      ],
      "metadata": {
        "id": "UhXvUdK6Stt_"
      }
    },
    {
      "cell_type": "markdown",
      "source": [
        "## NumPy (Numerical Python)\n",
        "**bold text**\n",
        "### Multidimensional array object\n",
        "- Array is a grid of homogeneous elements which can be indexed in various ways\n",
        "- Different from Python list which can store different data types\n",
        "- NumPy stores multidimensional arrays as an instance of **ndarray**\n",
        "\n"
      ],
      "metadata": {
        "id": "oc77CrhjAGlR"
      }
    },
    {
      "cell_type": "code",
      "source": [
        "import numpy as np"
      ],
      "metadata": {
        "id": "WGtRigfyBpgb"
      },
      "execution_count": 1,
      "outputs": []
    },
    {
      "cell_type": "code",
      "execution_count": 2,
      "metadata": {
        "id": "UR9ftRnU8_lu",
        "colab": {
          "base_uri": "https://localhost:8080/"
        },
        "outputId": "f363cf11-a038-4af8-a32f-b139d72cc05a"
      },
      "outputs": [
        {
          "output_type": "stream",
          "name": "stdout",
          "text": [
            "[1 2 3 4 5]\n",
            "1\n",
            "[[1 2 3]\n",
            " [3 4 5]\n",
            " [4 5 6]]\n",
            "2\n"
          ]
        }
      ],
      "source": [
        "# Python list to initialize a one dimensional NumPy array of numbers 1 to 5 and then print it\n",
        "list1=[1,2,3,4,5]\n",
        "a=np.array(list1)\n",
        "print(a)\n",
        "print(a.ndim)\n",
        "# Python list to initialize a two dimensional NumPy array of shape [3,3] and then print it\n",
        "list2=[[1,2,3],[3,4,5],[4,5,6]]\n",
        "b=np.array(list2)\n",
        "print(b)\n",
        "print(b.ndim)"
      ]
    },
    {
      "cell_type": "code",
      "source": [
        "# Write a NumPy function to create an array with random values of shape [3,4]\n",
        "a=np.random.randn(3,4)\n",
        "print(a)\n",
        "# Write a NumPy function to create an array with all elements initialized as zero of shape [3,4]\n",
        "a=np.zeros([3,4])\n",
        "print(a)\n",
        "\n",
        "# Write a NumPy function to create an array with all elements initialized as ones of shape [3,4]\n",
        "a=np.ones([3,4])\n",
        "print(a)"
      ],
      "metadata": {
        "id": "WZf-M7KnBkhu",
        "colab": {
          "base_uri": "https://localhost:8080/"
        },
        "outputId": "4715f581-f750-4d61-9cb4-e21f4df368b6"
      },
      "execution_count": 3,
      "outputs": [
        {
          "output_type": "stream",
          "name": "stdout",
          "text": [
            "[[-0.3124983  -1.9060346  -0.39870975  1.1753493 ]\n",
            " [ 1.08933542  0.36196163  1.16957728  0.84432188]\n",
            " [-1.88385181 -0.52430057  1.04502447 -0.8006374 ]]\n",
            "[[0. 0. 0. 0.]\n",
            " [0. 0. 0. 0.]\n",
            " [0. 0. 0. 0.]]\n",
            "[[1. 1. 1. 1.]\n",
            " [1. 1. 1. 1.]\n",
            " [1. 1. 1. 1.]]\n"
          ]
        }
      ]
    },
    {
      "cell_type": "code",
      "source": [
        "# Write a NumPy function to create an array containing a range of evenly spaced intervals\n",
        "a=np.arange(0,100,20)\n",
        "print(a)\n",
        "# Hint : Use np.arange or np.linspace"
      ],
      "metadata": {
        "id": "Uagv5WtWBknb",
        "colab": {
          "base_uri": "https://localhost:8080/"
        },
        "outputId": "9cd51a1b-a2af-46e7-e924-c6dc46e56bef"
      },
      "execution_count": 4,
      "outputs": [
        {
          "output_type": "stream",
          "name": "stdout",
          "text": [
            "[ 0 20 40 60 80]\n"
          ]
        }
      ]
    },
    {
      "cell_type": "markdown",
      "source": [
        "### Basic array operations\n",
        "- algebraic operations\n",
        "- logical operations"
      ],
      "metadata": {
        "id": "dFeKiGA5CNXx"
      }
    },
    {
      "cell_type": "code",
      "source": [
        "a = np.array([[-4,6,8], [9, 3, 1], [1, 8, 5]])\n",
        "b = np.array([[11,16,18], [90, 37, 81], [61, 48, 75]])"
      ],
      "metadata": {
        "id": "mZbgCNnRDVbV"
      },
      "execution_count": 5,
      "outputs": []
    },
    {
      "cell_type": "code",
      "source": [
        "# Write a NumPy function to add, subtract, multiply and divide arrays 'a' and 'b'\n",
        "add=np.add(a,b)\n",
        "sub=np.subtract(a,b)\n",
        "mul=np.multiply(a,b)\n",
        "div=np.divide(a,b)\n",
        "print(add,\"\\n\\n\",sub,\"\\n\\n\",mul,\"\\n\\n\",div)"
      ],
      "metadata": {
        "id": "QajfAkNHCMqe",
        "colab": {
          "base_uri": "https://localhost:8080/"
        },
        "outputId": "63616aa0-4e16-4c2f-cea6-c37391bace95"
      },
      "execution_count": 6,
      "outputs": [
        {
          "output_type": "stream",
          "name": "stdout",
          "text": [
            "[[ 7 22 26]\n",
            " [99 40 82]\n",
            " [62 56 80]] \n",
            "\n",
            " [[-15 -10 -10]\n",
            " [-81 -34 -80]\n",
            " [-60 -40 -70]] \n",
            "\n",
            " [[-44  96 144]\n",
            " [810 111  81]\n",
            " [ 61 384 375]] \n",
            "\n",
            " [[-0.36363636  0.375       0.44444444]\n",
            " [ 0.1         0.08108108  0.01234568]\n",
            " [ 0.01639344  0.16666667  0.06666667]]\n"
          ]
        }
      ]
    },
    {
      "cell_type": "code",
      "source": [
        "# Write a NumPy function to get the sum of the array 'a' along axis=0\n",
        "axis0=np.sum(a,axis=0)\n",
        "print(axis0)\n",
        "\n",
        "# Write a NumPy function to get the sum of the array 'a' along axis=1\n",
        "axis1=np.sum(a,axis=1)\n",
        "print(axis1)\n"
      ],
      "metadata": {
        "id": "hfBR7r80C_qh",
        "colab": {
          "base_uri": "https://localhost:8080/"
        },
        "outputId": "8c265b08-f7cb-4901-aa0f-30a5a06aabb3"
      },
      "execution_count": 7,
      "outputs": [
        {
          "output_type": "stream",
          "name": "stdout",
          "text": [
            "[ 6 17 14]\n",
            "[10 13 14]\n"
          ]
        }
      ]
    },
    {
      "cell_type": "code",
      "source": [
        "# Write a NumPy function to reverse the array 'a'\n",
        "reverse=np.flip(a)\n",
        "print(reverse)\n",
        "\n",
        "# Write a NumPy function to reverse the array 'a' along axis=0\n",
        "revaxis0=np.flip(a,axis=0)\n",
        "print(revaxis0)\n",
        "\n",
        "# Write a NumPy function to reverse the array 'a' along axis=1\n",
        "revaxis1=np.flip(a,axis=1)\n",
        "print(revaxis1)\n"
      ],
      "metadata": {
        "id": "rBTxfTuFDSiA",
        "colab": {
          "base_uri": "https://localhost:8080/"
        },
        "outputId": "d1628d00-de97-43f3-92e3-bc9f7cb313d0"
      },
      "execution_count": 8,
      "outputs": [
        {
          "output_type": "stream",
          "name": "stdout",
          "text": [
            "[[ 5  8  1]\n",
            " [ 1  3  9]\n",
            " [ 8  6 -4]]\n",
            "[[ 1  8  5]\n",
            " [ 9  3  1]\n",
            " [-4  6  8]]\n",
            "[[ 8  6 -4]\n",
            " [ 1  3  9]\n",
            " [ 5  8  1]]\n"
          ]
        }
      ]
    },
    {
      "cell_type": "markdown",
      "source": [
        "### Sorting and concatenation\n",
        "- sort arrays\n",
        "- join multiple arrays\n"
      ],
      "metadata": {
        "id": "WnCvXc3jCdWH"
      }
    },
    {
      "cell_type": "code",
      "source": [
        "a = np.array([[-4,6,8], [9, 3, 1], [1, 8, 5]])\n",
        "b = np.array([[11,16,18], [90, 37, 81], [61, 48, 75]])"
      ],
      "metadata": {
        "id": "Qsg-EPq7EbPx"
      },
      "execution_count": 9,
      "outputs": []
    },
    {
      "cell_type": "code",
      "source": [
        "# Write a NumPy function to sort the array 'a'\n",
        "sort=np.sort(a)\n",
        "print(sort)\n",
        "# Write a NumPy function to sort the array 'a' along axis=0\n",
        "sort0=np.sort(a,axis=0)\n",
        "print(sort0)\n",
        "# Write a NumPy function to sort the array 'a' along axis=1\n",
        "sort1=np.sort(a,axis=1)\n",
        "print(sort1)\n",
        "\n",
        "# Write a NumPy function to sort the array 'a' in descending order along axis=0\n",
        "sortdesc=-np.sort(-a,axis=0)\n",
        "print(sortdesc)\n"
      ],
      "metadata": {
        "id": "_7VfP1anCc0O",
        "colab": {
          "base_uri": "https://localhost:8080/"
        },
        "outputId": "7ef1c546-b073-4cbf-97f3-9218edb90fee"
      },
      "execution_count": 10,
      "outputs": [
        {
          "output_type": "stream",
          "name": "stdout",
          "text": [
            "[[-4  6  8]\n",
            " [ 1  3  9]\n",
            " [ 1  5  8]]\n",
            "[[-4  3  1]\n",
            " [ 1  6  5]\n",
            " [ 9  8  8]]\n",
            "[[-4  6  8]\n",
            " [ 1  3  9]\n",
            " [ 1  5  8]]\n",
            "[[ 9  8  8]\n",
            " [ 1  6  5]\n",
            " [-4  3  1]]\n"
          ]
        }
      ]
    },
    {
      "cell_type": "code",
      "source": [
        "# Write a NumPy function to argsort the array along axis=0\n",
        "axis0=np.argsort(a,axis=0)\n",
        "print(axis0)\n",
        "\n",
        "# Write a NumPy function to argsort the array along axis=1\n",
        "axis1=np.argsort(a,axis=1)\n",
        "print(axis1)"
      ],
      "metadata": {
        "id": "6BqbtdLYEWng",
        "colab": {
          "base_uri": "https://localhost:8080/"
        },
        "outputId": "76b93ed3-d9dc-4033-f092-73e283851121"
      },
      "execution_count": 11,
      "outputs": [
        {
          "output_type": "stream",
          "name": "stdout",
          "text": [
            "[[0 1 1]\n",
            " [2 0 2]\n",
            " [1 2 0]]\n",
            "[[0 1 2]\n",
            " [2 1 0]\n",
            " [0 2 1]]\n"
          ]
        }
      ]
    },
    {
      "cell_type": "code",
      "source": [
        "# Write a NumPy function to concatenate the arrays 'a' and 'b'\n",
        "conc=np.concatenate((a,b),axis=None)\n",
        "print(conc)\n",
        "\n",
        "# Write a NumPy function to concatenate the arrays 'a' and 'b' along axis = 0\n",
        "\n",
        "conc0=np.concatenate((a,b),axis=0)\n",
        "print(conc0)\n",
        "# Note: You can do the same function using stacking, discover and try that :)\n",
        "stack=np.vstack((a,b))\n",
        "print(stack)\n"
      ],
      "metadata": {
        "id": "cixOoXZhEY8-",
        "colab": {
          "base_uri": "https://localhost:8080/"
        },
        "outputId": "858988c9-8857-4d09-bf9c-c6edb861230a"
      },
      "execution_count": 12,
      "outputs": [
        {
          "output_type": "stream",
          "name": "stdout",
          "text": [
            "[-4  6  8  9  3  1  1  8  5 11 16 18 90 37 81 61 48 75]\n",
            "[[-4  6  8]\n",
            " [ 9  3  1]\n",
            " [ 1  8  5]\n",
            " [11 16 18]\n",
            " [90 37 81]\n",
            " [61 48 75]]\n",
            "[[-4  6  8]\n",
            " [ 9  3  1]\n",
            " [ 1  8  5]\n",
            " [11 16 18]\n",
            " [90 37 81]\n",
            " [61 48 75]]\n"
          ]
        }
      ]
    },
    {
      "cell_type": "markdown",
      "source": [
        "### Reshaping arrays\n",
        "- the number of dimensions of the array\n",
        "-  shape of n-dimensional array as a tuple with n elements s.t. $i^{th}$ element is the length of the $i^{th}$ dimension of the array\n",
        "- total number of elements of the array\n",
        "- reshapes the array\n",
        "- flattens multidimensional array into a 1D array\n",
        "- adds new dimensions to the array"
      ],
      "metadata": {
        "id": "aY0j33z2EjNx"
      }
    },
    {
      "cell_type": "code",
      "source": [
        "a = np.array([[4,6,8], [9, 3, 1], [1, 8, 5]])"
      ],
      "metadata": {
        "id": "sStUkoh1FG4N"
      },
      "execution_count": 13,
      "outputs": []
    },
    {
      "cell_type": "code",
      "source": [
        "# Write a NumPy function to get the Number of dimensions\n",
        "dim=np.ndim(a)\n",
        "print(dim)\n",
        "\n",
        "# Write a NumPy function to get the Shape of the array\n",
        "shape=np.shape(a)\n",
        "print(shape)\n",
        "\n",
        "# Write a NumPy function to get the Size of the array\n",
        "size=np.size(a)\n",
        "print(size)\n"
      ],
      "metadata": {
        "id": "vb35oi57Ev1f",
        "colab": {
          "base_uri": "https://localhost:8080/"
        },
        "outputId": "df510802-c7e1-4a3a-a8ec-b8d9d6e32707"
      },
      "execution_count": 14,
      "outputs": [
        {
          "output_type": "stream",
          "name": "stdout",
          "text": [
            "2\n",
            "(3, 3)\n",
            "9\n"
          ]
        }
      ]
    },
    {
      "cell_type": "code",
      "source": [
        "# Write a NumPy function to Reshape the array 'a' to the dimension (1,9)\n",
        "b=a.reshape((1,9))\n",
        "print(b)"
      ],
      "metadata": {
        "id": "MznU0NWKE54c",
        "colab": {
          "base_uri": "https://localhost:8080/"
        },
        "outputId": "9bb10a39-ec77-4add-b757-926d7a90387e"
      },
      "execution_count": 15,
      "outputs": [
        {
          "output_type": "stream",
          "name": "stdout",
          "text": [
            "[[4 6 8 9 3 1 1 8 5]]\n"
          ]
        }
      ]
    },
    {
      "cell_type": "code",
      "source": [
        "# Write a NumPy function to add a new axis to the array 'a'\n",
        "# Note : Show atleast two different ways of doing this\n",
        "b=np.expand_dims(a,axis=0)\n",
        "print(b)\n",
        "print(np.shape(b))\n",
        "print(\"\\n\\n\")\n",
        "b=a.reshape((1,)+a.shape)\n",
        "print(b)\n",
        "print(np.shape(b))"
      ],
      "metadata": {
        "id": "p1dlxcNYE8tv",
        "colab": {
          "base_uri": "https://localhost:8080/"
        },
        "outputId": "6a851257-0a25-4b3a-cc3a-ffe57d15e410"
      },
      "execution_count": 16,
      "outputs": [
        {
          "output_type": "stream",
          "name": "stdout",
          "text": [
            "[[[4 6 8]\n",
            "  [9 3 1]\n",
            "  [1 8 5]]]\n",
            "(1, 3, 3)\n",
            "\n",
            "\n",
            "\n",
            "[[[4 6 8]\n",
            "  [9 3 1]\n",
            "  [1 8 5]]]\n",
            "(1, 3, 3)\n"
          ]
        }
      ]
    },
    {
      "cell_type": "markdown",
      "source": [
        "### Indexing and slicing\n",
        "- NumPy allows indexing array using tuple of nonnegative integers, booleans, array or integers"
      ],
      "metadata": {
        "id": "Ng4xWkwpFtao"
      }
    },
    {
      "cell_type": "code",
      "source": [
        "a = np.array([[4,6,0], [0, 3, 1], [1, 8, 5]])"
      ],
      "metadata": {
        "id": "swrtOhPGGB7r"
      },
      "execution_count": 17,
      "outputs": []
    },
    {
      "cell_type": "code",
      "source": [
        "# Write a NumPy function to index and slice NumPy arrays similar to Python lists\n",
        "# Show all three - indexing by a integer, indexing by a tuple, using range\n",
        "print(a[2])\n",
        "print(a[(1,2)])\n",
        "print(a[2,0:2])"
      ],
      "metadata": {
        "id": "w3QaVYRyFs77",
        "colab": {
          "base_uri": "https://localhost:8080/"
        },
        "outputId": "22bd8b17-8b89-4237-f521-8750709fa36c"
      },
      "execution_count": 18,
      "outputs": [
        {
          "output_type": "stream",
          "name": "stdout",
          "text": [
            "[1 8 5]\n",
            "1\n",
            "[1 8]\n"
          ]
        }
      ]
    },
    {
      "cell_type": "code",
      "source": [
        "\n",
        "# Write a NumPy function to select values satisfying a specific condition like Values greater than 4\n",
        "\n",
        "print(a[a>4])#boolean indexing\n",
        "\n",
        "# Write a NumPy function to select values satisfying mulitple conditions like Values greater than 4 and divisible by 2\n",
        "print(a[(a>4)&(a%2==0)])\n"
      ],
      "metadata": {
        "id": "Xn2_z5h-Fmrd",
        "colab": {
          "base_uri": "https://localhost:8080/"
        },
        "outputId": "4f678c72-cf5d-4be8-dab4-afe41841d2b2"
      },
      "execution_count": 19,
      "outputs": [
        {
          "output_type": "stream",
          "name": "stdout",
          "text": [
            "[6 8 5]\n",
            "[6 8]\n"
          ]
        }
      ]
    },
    {
      "cell_type": "markdown",
      "source": [
        "### Copying arrays\n",
        "- new array object with a copy of the data\n",
        "- Changes made in the copy array is not reflected in the original array"
      ],
      "metadata": {
        "id": "GWU0EfaAG2ll"
      }
    },
    {
      "cell_type": "code",
      "source": [
        "a = np.array([[4,6,0], [0, 3, 1], [1, 8, 5]])"
      ],
      "metadata": {
        "id": "ijdgy02lHMJW"
      },
      "execution_count": 20,
      "outputs": []
    },
    {
      "cell_type": "code",
      "source": [
        "# Write a NumPy function to copy the array 'a' and finally print an array where all elements are increased by 1\n",
        "b=a.copy()\n",
        "b=b+1\n",
        "print(a)\n",
        "print(b)\n"
      ],
      "metadata": {
        "id": "FmgUdh66GuQH",
        "colab": {
          "base_uri": "https://localhost:8080/"
        },
        "outputId": "fb71ec80-80a2-416e-f398-e20afd5da67e"
      },
      "execution_count": 21,
      "outputs": [
        {
          "output_type": "stream",
          "name": "stdout",
          "text": [
            "[[4 6 0]\n",
            " [0 3 1]\n",
            " [1 8 5]]\n",
            "[[5 7 1]\n",
            " [1 4 2]\n",
            " [2 9 6]]\n"
          ]
        }
      ]
    },
    {
      "cell_type": "markdown",
      "source": [
        "## Pandas ( Python Data Analysis Library)\n",
        "\n",
        "### Main Features\n",
        "- Easy handling of missing data in both floating point and non-floating point data.\n",
        "- Automatic and explicit data alignment, making it easy to perform computations and transformations on data sets.\n",
        "\n"
      ],
      "metadata": {
        "id": "M1KLD5QxHsVw"
      }
    },
    {
      "cell_type": "markdown",
      "source": [
        "#### Generating the dataset"
      ],
      "metadata": {
        "id": "v1CuU3FeIq1a"
      }
    },
    {
      "cell_type": "markdown",
      "source": [
        "Run the following load command to get the 2-Dim iris dataset. Do the following operations on it and please dont edit this cell"
      ],
      "metadata": {
        "id": "fp36ZqOMIy7k"
      }
    },
    {
      "cell_type": "code",
      "source": [
        "url = 'https://archive.ics.uci.edu/ml/machine-learning-databases/iris/iris.data'\n",
        "iris_2d = np.genfromtxt(url, delimiter=',', dtype='float', usecols=[0,1,2,3])"
      ],
      "metadata": {
        "id": "A_O5RTBXIyK-"
      },
      "execution_count": 22,
      "outputs": []
    },
    {
      "cell_type": "markdown",
      "source": [
        "#### Basic Data Analysis"
      ],
      "metadata": {
        "id": "EILb6pPrS8Ju"
      }
    },
    {
      "cell_type": "code",
      "source": [
        "# Write a Pandas function to drop rows that contain a missing value.\n",
        "import pandas as pd\n",
        "iris_2d=pd.DataFrame(iris_2d)\n",
        "print(iris_2d.info())\n",
        "#150 non null entries in all 4 columns implies no null values\n",
        "\n",
        "iris_2d.dropna(inplace=True)"
      ],
      "metadata": {
        "id": "bViO1LLoI7sz",
        "colab": {
          "base_uri": "https://localhost:8080/"
        },
        "outputId": "4da395cf-6526-44b1-f96d-45e55297824f"
      },
      "execution_count": 24,
      "outputs": [
        {
          "output_type": "stream",
          "name": "stdout",
          "text": [
            "<class 'pandas.core.frame.DataFrame'>\n",
            "RangeIndex: 150 entries, 0 to 149\n",
            "Data columns (total 4 columns):\n",
            " #   Column  Non-Null Count  Dtype  \n",
            "---  ------  --------------  -----  \n",
            " 0   0       150 non-null    float64\n",
            " 1   1       150 non-null    float64\n",
            " 2   2       150 non-null    float64\n",
            " 3   3       150 non-null    float64\n",
            "dtypes: float64(4)\n",
            "memory usage: 4.8 KB\n",
            "None\n"
          ]
        }
      ]
    },
    {
      "cell_type": "code",
      "source": [
        "# Write a Pandas function to find the correlation between the first two columns.\n",
        "iris_2d[0].corr(iris_2d[1])"
      ],
      "metadata": {
        "id": "zp_BYv5EJDjJ",
        "colab": {
          "base_uri": "https://localhost:8080/"
        },
        "outputId": "631ec511-f7bb-416b-87ab-e1bcab05ef06"
      },
      "execution_count": 25,
      "outputs": [
        {
          "output_type": "execute_result",
          "data": {
            "text/plain": [
              "-0.10936924995064937"
            ]
          },
          "metadata": {},
          "execution_count": 25
        }
      ]
    },
    {
      "cell_type": "code",
      "source": [
        "# Write a Pandas function to find the mean, median and standard deviation of column 3.\n",
        "mean=iris_2d[2].mean()\n",
        "print(mean)\n",
        "median=iris_2d[2].median()\n",
        "print(median)\n",
        "mode=iris_2d[2].mode()\n",
        "print(mode)"
      ],
      "metadata": {
        "id": "0mjeoZCwJDoW",
        "colab": {
          "base_uri": "https://localhost:8080/"
        },
        "outputId": "7e645b8f-f027-4cc8-f0fe-72bd2824bf41"
      },
      "execution_count": 26,
      "outputs": [
        {
          "output_type": "stream",
          "name": "stdout",
          "text": [
            "3.758666666666666\n",
            "4.35\n",
            "0    1.5\n",
            "Name: 2, dtype: float64\n"
          ]
        }
      ]
    },
    {
      "cell_type": "code",
      "source": [
        "# Write a Pandas function to create a new column for volume in iris_2d, where volume is (pi x petallength x sepal_length^2)/3\n",
        "# Hints:\n",
        "# 1. Introduce new dimension to match iris_2d's\n",
        "# 2. Add the new column\n",
        "import math\n",
        "vol=(math.pi*iris_2d[2]*(iris_2d[0])**2)/3\n",
        "iris_2d[\"vol\"]=vol\n",
        "print(iris_2d)"
      ],
      "metadata": {
        "id": "bRiYEhWTJDrM",
        "colab": {
          "base_uri": "https://localhost:8080/"
        },
        "outputId": "f9b082b0-816e-452e-b023-e23328fd684f"
      },
      "execution_count": 27,
      "outputs": [
        {
          "output_type": "stream",
          "name": "stdout",
          "text": [
            "       0    1    2    3         vol\n",
            "0    5.1  3.5  1.4  0.2   38.132652\n",
            "1    4.9  3.0  1.4  0.2   35.200498\n",
            "2    4.7  3.2  1.3  0.2   30.072372\n",
            "3    4.6  3.1  1.5  0.2   33.238050\n",
            "4    5.0  3.6  1.4  0.2   36.651914\n",
            "..   ...  ...  ...  ...         ...\n",
            "145  6.7  3.0  5.2  2.3  244.445230\n",
            "146  6.3  2.5  5.0  1.9  207.816354\n",
            "147  6.5  3.0  5.2  2.0  230.069302\n",
            "148  6.2  3.4  5.4  2.3  217.373079\n",
            "149  5.9  3.0  5.1  1.8  185.910028\n",
            "\n",
            "[150 rows x 5 columns]\n"
          ]
        }
      ]
    },
    {
      "cell_type": "markdown",
      "source": [
        "# Section B *(2 Marks each)*"
      ],
      "metadata": {
        "id": "dGqrG93ELEQ3"
      }
    },
    {
      "cell_type": "markdown",
      "source": [
        "###NumPy"
      ],
      "metadata": {
        "id": "OLm8jv7tMH6h"
      }
    },
    {
      "cell_type": "markdown",
      "source": [
        "Q1 Let x = np.arange(4, dtype=np.int64). Create an array of ones with the same shape and type as X."
      ],
      "metadata": {
        "id": "zE1n0x7ZLRLU"
      }
    },
    {
      "cell_type": "code",
      "source": [
        "x=np.arange(4,dtype=np.int64)\n",
        "\n",
        "onearray=np.ones_like(x)\n",
        "print(onearray)\n",
        "print(onearray.shape,onearray.dtype)"
      ],
      "metadata": {
        "id": "H8o9C6b7LJzA",
        "colab": {
          "base_uri": "https://localhost:8080/"
        },
        "outputId": "f989c5cc-946b-4982-f581-edfa73fe8d33"
      },
      "execution_count": 28,
      "outputs": [
        {
          "output_type": "stream",
          "name": "stdout",
          "text": [
            "[1 1 1 1]\n",
            "(4,) int64\n"
          ]
        }
      ]
    },
    {
      "cell_type": "markdown",
      "source": [
        "Q2 Let x be an array [1, 2, 3, ..., 9]. Split x into 3 arrays, each of which has 4, 2, and 3 elements in the original order."
      ],
      "metadata": {
        "id": "PPYeTqoHLSNj"
      }
    },
    {
      "cell_type": "code",
      "source": [
        "x=np.arange(1,10)\n",
        "print(np.split(x,[4,6]))\n"
      ],
      "metadata": {
        "id": "DS9mr30LLYdg",
        "colab": {
          "base_uri": "https://localhost:8080/"
        },
        "outputId": "895df17b-536c-41f9-91a8-7071c0ab9775"
      },
      "execution_count": 29,
      "outputs": [
        {
          "output_type": "stream",
          "name": "stdout",
          "text": [
            "[array([1, 2, 3, 4]), array([5, 6]), array([7, 8, 9])]\n"
          ]
        }
      ]
    },
    {
      "cell_type": "markdown",
      "source": [
        "Q3 Initiate x as a 2x5 array with random values from 0 to 10(not inclusive).Get the maximum and minimum values and their indices of x along the second axis."
      ],
      "metadata": {
        "id": "b1wJaooRLXjN"
      }
    },
    {
      "cell_type": "code",
      "source": [
        "y=np.random.randint(0,10,size=10)\n",
        "x=y.reshape(2,5)\n",
        "print(\"max val:\",np.max(x,axis=1),\" index:\",np.argmax(x,axis=1),\"\\n\",\"min val:\",np.min(x,axis=1),\" index:\",np.argmin(x,axis=1))"
      ],
      "metadata": {
        "id": "GnXDqksjLf89",
        "colab": {
          "base_uri": "https://localhost:8080/"
        },
        "outputId": "01ae4427-a772-4aa3-e00a-886bd4bcaf20"
      },
      "execution_count": 30,
      "outputs": [
        {
          "output_type": "stream",
          "name": "stdout",
          "text": [
            "max val: [9 9]  index: [2 2] \n",
            " min val: [0 0]  index: [0 3]\n"
          ]
        }
      ]
    },
    {
      "cell_type": "markdown",
      "source": [
        "### Pandas"
      ],
      "metadata": {
        "id": "8_Q7fbyxMMHM"
      }
    },
    {
      "cell_type": "markdown",
      "source": [
        "Run the following load command and solve the following questions"
      ],
      "metadata": {
        "id": "3QpaFHkxJUho"
      }
    },
    {
      "cell_type": "markdown",
      "source": [],
      "metadata": {
        "id": "rRVxOiohxAjH"
      }
    },
    {
      "cell_type": "code",
      "source": [
        "url = 'https://archive.ics.uci.edu/ml/machine-learning-databases/iris/iris.data'\n",
        "iris = np.genfromtxt(url, delimiter=',', dtype='object')\n",
        "names = ('sepallength', 'sepalwidth', 'petallength', 'petalwidth', 'species')"
      ],
      "metadata": {
        "id": "mLdcY49iJDtl"
      },
      "execution_count": 31,
      "outputs": []
    },
    {
      "cell_type": "markdown",
      "source": [
        "Q4 Write a Pandas function to find the count of unique species."
      ],
      "metadata": {
        "id": "zbDepnx9RtV8"
      }
    },
    {
      "cell_type": "code",
      "source": [
        "iris=pd.DataFrame(iris,columns=names)\n",
        "\n",
        "iris['species'].nunique()\n"
      ],
      "metadata": {
        "id": "oAkO0UnqJDv7",
        "colab": {
          "base_uri": "https://localhost:8080/"
        },
        "outputId": "a9c861da-fa66-44b2-8e9c-99c5cff3bfbd"
      },
      "execution_count": 32,
      "outputs": [
        {
          "output_type": "execute_result",
          "data": {
            "text/plain": [
              "3"
            ]
          },
          "metadata": {},
          "execution_count": 32
        }
      ]
    },
    {
      "cell_type": "markdown",
      "source": [
        "Q5 Write a Pandas function to bin the petal length (3rd) column of iris_2d to form a text array, such that if petal length is:\n",
        "- Less than 3 –> ‘small’\n",
        "- 3-5 –> ‘medium’\n",
        "- greater than equal to 5 –> ‘large’"
      ],
      "metadata": {
        "id": "Usj5HlvyRxal"
      }
    },
    {
      "cell_type": "code",
      "source": [
        "\n",
        "\n",
        "#all values are in binary\n",
        "iris['petallength'] = iris['petallength'].astype(float)\n",
        "\n",
        "petal_len=pd.cut(iris['petallength'],bins=[0,3,5,float('inf')],labels=['small','medium','large'])\n",
        "print(petal_len)"
      ],
      "metadata": {
        "id": "gTWWJoLMJDxx",
        "colab": {
          "base_uri": "https://localhost:8080/"
        },
        "outputId": "cc6e56f6-7188-4361-ce56-eb8aa1005acf"
      },
      "execution_count": 33,
      "outputs": [
        {
          "output_type": "stream",
          "name": "stdout",
          "text": [
            "0       small\n",
            "1       small\n",
            "2       small\n",
            "3       small\n",
            "4       small\n",
            "        ...  \n",
            "145     large\n",
            "146    medium\n",
            "147     large\n",
            "148     large\n",
            "149     large\n",
            "Name: petallength, Length: 150, dtype: category\n",
            "Categories (3, object): ['small' < 'medium' < 'large']\n"
          ]
        }
      ]
    },
    {
      "cell_type": "markdown",
      "source": [
        "Q6 Write a Pandas function to find the most frequent value of petal length (3rd column) in iris dataset"
      ],
      "metadata": {
        "id": "IbBYP_8sSBrB"
      }
    },
    {
      "cell_type": "code",
      "source": [
        "print(iris['petallength'].mode()[0])"
      ],
      "metadata": {
        "id": "DNk_tlVWJufR",
        "colab": {
          "base_uri": "https://localhost:8080/"
        },
        "outputId": "f79a086e-9d62-42e8-9b3a-78490b07e06d"
      },
      "execution_count": 34,
      "outputs": [
        {
          "output_type": "stream",
          "name": "stdout",
          "text": [
            "1.5\n"
          ]
        }
      ]
    }
  ]
}