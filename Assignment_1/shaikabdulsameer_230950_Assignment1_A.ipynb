{
  "nbformat": 4,
  "nbformat_minor": 0,
  "metadata": {
    "colab": {
      "provenance": []
    },
    "kernelspec": {
      "name": "python3",
      "display_name": "Python 3"
    },
    "language_info": {
      "name": "python"
    }
  },
  "cells": [
    {
      "cell_type": "markdown",
      "source": [
        "Instructions for the assignment\n",
        "\n",
        "\n",
        "*   Fill the codeblocks according to the comments given\n",
        "*   Hints are given wherever required\n",
        "*   Please note that copying will not be tolerated, and appropriate action will be taken if we suspect any misconduct.\n",
        "*   You're welcome to utilize any online resources in case you feel stuck anywhere :-)\n",
        "\n",
        "\n",
        "\n",
        "\n",
        "\n",
        "\n",
        "\n"
      ],
      "metadata": {
        "id": "kIAcUXNYVeGR"
      }
    },
    {
      "cell_type": "markdown",
      "source": [
        "# Section A *(2 Marks each)*"
      ],
      "metadata": {
        "id": "UhXvUdK6Stt_"
      }
    },
    {
      "cell_type": "markdown",
      "source": [
        "## NumPy (Numerical Python)\n",
        "**bold text**\n",
        "### Multidimensional array object\n",
        "- Array is a grid of homogeneous elements which can be indexed in various ways\n",
        "- Different from Python list which can store different data types\n",
        "- NumPy stores multidimensional arrays as an instance of **ndarray**\n",
        "\n"
      ],
      "metadata": {
        "id": "oc77CrhjAGlR"
      }
    },
    {
      "cell_type": "code",
      "source": [
        "import numpy as np"
      ],
      "metadata": {
        "id": "WGtRigfyBpgb"
      },
      "execution_count": 3,
      "outputs": []
    },
    {
      "cell_type": "code",
      "execution_count": null,
      "metadata": {
        "id": "UR9ftRnU8_lu",
        "colab": {
          "base_uri": "https://localhost:8080/"
        },
        "outputId": "405c90d7-cbbb-4f1d-cf9a-c436f76edfd4"
      },
      "outputs": [
        {
          "output_type": "stream",
          "name": "stdout",
          "text": [
            "1\n",
            "2\n",
            "3\n",
            "4\n",
            "5\n",
            "[[70 19 25]\n",
            " [56 80 72]\n",
            " [57 93 48]]\n"
          ]
        }
      ],
      "source": [
        "# Python list to initialize a one dimensional NumPy array of numbers 1 to 5 and then print it\n",
        "import numpy as np\n",
        "list=np.array([1,2,3,4,5])\n",
        "for x in list:\n",
        "  print(x)\n",
        "# Python list to initialize a two dimensional NumPy array of shape [3,3] and then print it\n",
        "from numpy import random\n",
        "lst2=np.random.randint(100,size=(3,3))\n",
        "print(lst2)"
      ]
    },
    {
      "cell_type": "code",
      "source": [
        "# Write a NumPy function to create an array with random values of shape [3,4]\n",
        "import numpy\n",
        "from numpy import random\n",
        "\n",
        "def fun1():\n",
        "  arr = random.randint(100,size=(3,4))\n",
        "  return arr\n",
        "# Write a NumPy function to create an array with all elements initialized as zero of shape [3,4]\n",
        "def fun2():\n",
        "  arr2 = numpy.zeros((3,4))\n",
        "  return arr2\n",
        "# Write a NumPy function to create an array with all elements initialized as ones of shape [3,4]\n",
        "def fun3():\n",
        "  arr3=numpy.ones((3,4))\n",
        "  return arr3"
      ],
      "metadata": {
        "id": "WZf-M7KnBkhu",
        "colab": {
          "base_uri": "https://localhost:8080/"
        },
        "outputId": "2aa289f0-1134-4d01-a24d-6538f44d78c1"
      },
      "execution_count": null,
      "outputs": [
        {
          "output_type": "stream",
          "name": "stdout",
          "text": [
            "[0. 0. 0. 0.]\n",
            "[0. 0. 0. 0.]\n",
            "[0. 0. 0. 0.]\n",
            "[[1. 1. 1. 1.]\n",
            " [1. 1. 1. 1.]\n",
            " [1. 1. 1. 1.]]\n"
          ]
        }
      ]
    },
    {
      "cell_type": "code",
      "source": [
        "# Write a NumPy function to create an array containing a range of evenly spaced intervals\n",
        "import numpy as np\n",
        "def funct(start,end,gap):\n",
        "  arr=np.arange(start,end,gap)\n",
        "  return arr\n",
        "# Hint : Use np.arange or np.linspace"
      ],
      "metadata": {
        "id": "Uagv5WtWBknb",
        "colab": {
          "base_uri": "https://localhost:8080/"
        },
        "outputId": "d5156d2f-44e2-44b3-c812-215fe22740dc"
      },
      "execution_count": null,
      "outputs": [
        {
          "output_type": "stream",
          "name": "stdout",
          "text": [
            "[1 3 5]\n"
          ]
        }
      ]
    },
    {
      "cell_type": "markdown",
      "source": [
        "### Basic array operations\n",
        "- algebraic operations\n",
        "- logical operations"
      ],
      "metadata": {
        "id": "dFeKiGA5CNXx"
      }
    },
    {
      "cell_type": "code",
      "source": [
        "a = np.array([[-4,6,8], [9, 3, 1], [1, 8, 5]])\n",
        "b = np.array([[11,16,18], [90, 37, 81], [61, 48, 75]])"
      ],
      "metadata": {
        "id": "mZbgCNnRDVbV"
      },
      "execution_count": null,
      "outputs": []
    },
    {
      "cell_type": "code",
      "source": [
        "# Write a NumPy function to add, subtract, multiply and divide arrays 'a' and 'b'\n",
        "a = np.array([[-4,6,8], [9, 3, 1], [1, 8, 5]])\n",
        "b = np.array([[11,16,18], [90, 37, 81], [61, 48, 75]])\n",
        "import numpy as np\n",
        "def myadd(x,y):\n",
        "  return x+y\n",
        "def mysub(x,y):\n",
        "  return x-y\n",
        "def mymulti(x,y):\n",
        "  return x*y\n",
        "def mydiv(x,y):\n",
        "  return x/y\n",
        "myadd = np.frompyfunc(myadd, 2, 1)\n",
        "mysub = np.frompyfunc(mysub, 2, 1)\n",
        "mymulti = np.frompyfunc(mymulti, 2, 1)\n",
        "mydiv = np.frompyfunc(mydiv, 2, 1)"
      ],
      "metadata": {
        "id": "QajfAkNHCMqe",
        "colab": {
          "base_uri": "https://localhost:8080/"
        },
        "outputId": "02afcea4-05f2-4c42-9af9-ba37697b696d"
      },
      "execution_count": null,
      "outputs": [
        {
          "output_type": "stream",
          "name": "stdout",
          "text": [
            "[[-15 -10 -10]\n",
            " [-81 -34 -80]\n",
            " [-60 -40 -70]]\n"
          ]
        }
      ]
    },
    {
      "cell_type": "code",
      "source": [
        "# Write a NumPy function to get the sum of the array 'a' along axis=0\n",
        "import numpy as np\n",
        "a = np.array([[-4,6,8], [9, 3, 1], [1, 8, 5]])\n",
        "def sum0(arr):\n",
        "  return np.sum(arr,axis=0)\n",
        "# Write a NumPy function to get the sum of the array 'a' along axis=1\n",
        "def sum1(arr):\n",
        "  return np.sum(a,axis=1)"
      ],
      "metadata": {
        "id": "hfBR7r80C_qh",
        "colab": {
          "base_uri": "https://localhost:8080/"
        },
        "outputId": "19804469-e293-49a4-b2cb-99b5101888e7"
      },
      "execution_count": null,
      "outputs": [
        {
          "output_type": "stream",
          "name": "stdout",
          "text": [
            "[ 6 17 14]\n"
          ]
        }
      ]
    },
    {
      "cell_type": "code",
      "source": [
        "# Write a NumPy function to reverse the array 'a'\n",
        "import numpy\n",
        "\n",
        "a = np.array([[-4,6,8], [9, 3, 1], [1, 8, 5]])\n",
        "def rev(arr):\n",
        "  return numpy.flip(a)\n",
        "# Write a NumPy function to reverse the array 'a' along axis=0\n",
        "def rev0(arr):\n",
        "  return numpy.flip(a,axis=0)\n",
        "# Write a NumPy function to reverse the array 'a' along axis=1\n",
        "def rev1(arr):\n",
        "  return numpy.flip(a,axis=1)"
      ],
      "metadata": {
        "id": "rBTxfTuFDSiA"
      },
      "execution_count": null,
      "outputs": []
    },
    {
      "cell_type": "markdown",
      "source": [
        "### Sorting and concatenation\n",
        "- sort arrays\n",
        "- join multiple arrays\n"
      ],
      "metadata": {
        "id": "WnCvXc3jCdWH"
      }
    },
    {
      "cell_type": "code",
      "source": [
        "a = np.array([[-4,6,8], [9, 3, 1], [1, 8, 5]])\n",
        "b = np.array([[11,16,18], [90, 37, 81], [61, 48, 75]])"
      ],
      "metadata": {
        "id": "Qsg-EPq7EbPx"
      },
      "execution_count": null,
      "outputs": []
    },
    {
      "cell_type": "code",
      "source": [
        "# Write a NumPy function to sort the array 'a'\n",
        "import numpy as np\n",
        "a = np.array([[-4,6,8], [9, 3, 1], [1, 8, 5]])\n",
        "def sortarr(arr):\n",
        "  return np.sort(a)\n",
        "# Write a NumPy function to sort the array 'a' along axis=0\n",
        "a = np.array([[-4,6,8], [9, 3, 1], [1, 8, 5]])\n",
        "def sortarr0(arr):\n",
        "  return np.sort(a,axis=0)\n",
        "# Write a NumPy function to sort the array 'a' along axis=1\n",
        "def sortarr1(arr):\n",
        "  return np.sort(a,axis=1)\n",
        "# Write a NumPy function to sort the array 'a' in descending order along axis=0\n",
        "def sortdes(arr):\n",
        "  x=np.sort(a,axis=0)\n",
        "  return np.flip(x,axis=0)\n"
      ],
      "metadata": {
        "id": "_7VfP1anCc0O",
        "colab": {
          "base_uri": "https://localhost:8080/"
        },
        "outputId": "54108224-f8d8-475b-bd93-070ebd8122ad"
      },
      "execution_count": null,
      "outputs": [
        {
          "output_type": "stream",
          "name": "stdout",
          "text": [
            "[[-4  6  8]\n",
            " [ 1  3  9]\n",
            " [ 1  5  8]]\n",
            "[[-4  3  1]\n",
            " [ 1  6  5]\n",
            " [ 9  8  8]]\n",
            "[[-4  6  8]\n",
            " [ 1  3  9]\n",
            " [ 1  5  8]]\n",
            "[[-4  3  1]\n",
            " [ 1  6  5]\n",
            " [ 9  8  8]]\n",
            "[[ 9  8  8]\n",
            " [ 1  6  5]\n",
            " [-4  3  1]]\n"
          ]
        }
      ]
    },
    {
      "cell_type": "code",
      "source": [
        "# Write a NumPy function to argsort the array along axis=0\n",
        "import numpy as np\n",
        "arr=np.array([[1,5,6,7,2,3],[2,34,5,9,0,4]])\n",
        "def myargsort0(arr):\n",
        "  return np.argsort(arr,axis=0)\n",
        "# Write a NumPy function to argsort the array along axis=1\n",
        "def myargsort1(arr):\n",
        "  return np.argsort(arr,axis=1)"
      ],
      "metadata": {
        "id": "6BqbtdLYEWng",
        "colab": {
          "base_uri": "https://localhost:8080/"
        },
        "outputId": "76669fe6-9c3d-41f1-e4f5-4ed97e81d0b5"
      },
      "execution_count": null,
      "outputs": [
        {
          "output_type": "stream",
          "name": "stdout",
          "text": [
            "[[0 0 1 0 1 0]\n",
            " [1 1 0 1 0 1]]\n",
            "[[0 4 5 1 2 3]\n",
            " [5 2 4 1 0 3]]\n"
          ]
        }
      ]
    },
    {
      "cell_type": "code",
      "source": [
        "# Write a NumPy function to concatenate the arrays 'a' and 'b'\n",
        "import numpy as np\n",
        "a = np.array([[1, 2], [3, 4]])\n",
        "b = np.array([[5, 6]])\n",
        "def myconcat(a,b):\n",
        "  return np.concatenate((a, b))\n",
        "# Write a NumPy function to concatenate the arrays 'a' and 'b' along axis = 0\n",
        "def myconcat0(arr):\n",
        "  return np.concatenate((a, b), axis=0)\n",
        "# Note: You can do the same function using stacking, discover and try that :)\n"
      ],
      "metadata": {
        "id": "cixOoXZhEY8-",
        "colab": {
          "base_uri": "https://localhost:8080/"
        },
        "outputId": "17d4d55a-956d-4b7d-ae2d-d76e74376bad"
      },
      "execution_count": null,
      "outputs": [
        {
          "output_type": "stream",
          "name": "stdout",
          "text": [
            "[[1 2]\n",
            " [3 4]\n",
            " [5 6]]\n"
          ]
        }
      ]
    },
    {
      "cell_type": "markdown",
      "source": [
        "### Reshaping arrays\n",
        "- the number of dimensions of the array\n",
        "-  shape of n-dimensional array as a tuple with n elements s.t. $i^{th}$ element is the length of the $i^{th}$ dimension of the array\n",
        "- total number of elements of the array\n",
        "- reshapes the array\n",
        "- flattens multidimensional array into a 1D array\n",
        "- adds new dimensions to the array"
      ],
      "metadata": {
        "id": "aY0j33z2EjNx"
      }
    },
    {
      "cell_type": "code",
      "source": [
        "a = np.array([[4,6,8], [9, 3, 1], [1, 8, 5]])"
      ],
      "metadata": {
        "id": "sStUkoh1FG4N"
      },
      "execution_count": null,
      "outputs": []
    },
    {
      "cell_type": "code",
      "source": [
        "# Write a NumPy function to get the Number of dimensions\n",
        "import numpy as np\n",
        "a = np.array([[4,6,8], [9, 3, 1], [1, 8, 5]])\n",
        "def mydim(a):\n",
        "  return np.ndim(a)\n",
        "# Write a NumPy function to get the Shape of the array\n",
        "def myshap(a):\n",
        "  return np.shape(a)\n",
        "# Write a NumPy function to get the Size of the array\n",
        "def mysize(a):\n",
        "  return np.size(a)"
      ],
      "metadata": {
        "id": "vb35oi57Ev1f",
        "colab": {
          "base_uri": "https://localhost:8080/"
        },
        "outputId": "a90fac9f-2df6-4409-e372-e644e0c025a5"
      },
      "execution_count": null,
      "outputs": [
        {
          "output_type": "stream",
          "name": "stdout",
          "text": [
            "9\n"
          ]
        }
      ]
    },
    {
      "cell_type": "code",
      "source": [
        "# Write a NumPy function to Reshape the array 'a' to the dimension (1,9)\n",
        "import numpy as np\n",
        "a = np.array([[4,6,8], [9, 3, 1], [1, 8, 5]])\n",
        "def myreshap(a):\n",
        "  return np.reshape(a,(1,9))"
      ],
      "metadata": {
        "id": "MznU0NWKE54c",
        "colab": {
          "base_uri": "https://localhost:8080/"
        },
        "outputId": "d706de0d-0981-4621-ce03-e25ce01091c9"
      },
      "execution_count": null,
      "outputs": [
        {
          "output_type": "stream",
          "name": "stdout",
          "text": [
            "[[4 6 8 9 3 1 1 8 5]]\n"
          ]
        }
      ]
    },
    {
      "cell_type": "code",
      "source": [
        "# Write a NumPy function to add a new axis to the array 'a'\n",
        "# Note : Show atleast two different ways of doing this\n",
        "import numpy as np\n",
        "a = np.array([[4,6,8], [9, 3, 1], [1, 8, 5]])\n",
        "def addaxis1(a):\n",
        "  return a[np.newaxis]\n",
        "\n",
        "def addaxis2(a):\n",
        "  return np.expand_dims(a,0)\n",
        "\n",
        "print(addaxis1(a))"
      ],
      "metadata": {
        "id": "p1dlxcNYE8tv",
        "colab": {
          "base_uri": "https://localhost:8080/"
        },
        "outputId": "c94f4f86-9d3e-4e36-fd0a-631b8559b4d6"
      },
      "execution_count": null,
      "outputs": [
        {
          "output_type": "stream",
          "name": "stdout",
          "text": [
            "[[[4 6 8]\n",
            "  [9 3 1]\n",
            "  [1 8 5]]]\n"
          ]
        }
      ]
    },
    {
      "cell_type": "markdown",
      "source": [
        "### Indexing and slicing\n",
        "- NumPy allows indexing array using tuple of nonnegative integers, booleans, array or integers"
      ],
      "metadata": {
        "id": "Ng4xWkwpFtao"
      }
    },
    {
      "cell_type": "code",
      "source": [
        "a = np.array([[4,6,0], [0, 3, 1], [1, 8, 5]])"
      ],
      "metadata": {
        "id": "swrtOhPGGB7r"
      },
      "execution_count": 4,
      "outputs": []
    },
    {
      "cell_type": "code",
      "source": [
        "# Write a NumPy function to index and slice NumPy arrays similar to Python lists\n",
        "# Show all three - indexing by a integer, indexing by a tuple, using range\n",
        "print(a[1, 2:3])#indexing by slicing and integer\n",
        "print(a[(1,2)])#indexing by using tuple\n",
        "print(a[range(1,3),1])#indexing using range\n",
        "\n"
      ],
      "metadata": {
        "id": "w3QaVYRyFs77",
        "colab": {
          "base_uri": "https://localhost:8080/"
        },
        "outputId": "aab8cda4-a860-49d4-d44d-4f21b9fb6d42"
      },
      "execution_count": 8,
      "outputs": [
        {
          "output_type": "stream",
          "name": "stdout",
          "text": [
            "[1]\n",
            "1\n",
            "[3 8]\n"
          ]
        }
      ]
    },
    {
      "cell_type": "code",
      "source": [
        "# Write a NumPy function to select values satisfying a specific condition like Values greater than 4\n",
        "import numpy as np\n",
        "a = np.array([[4,6,0], [0, 3, 1], [1, 8, 5]])\n",
        "def grt4(a):\n",
        "  return a[a>4]\n",
        "# Write a NumPy function to select values satisfying mulitple conditions like Values greater than 4 and divisible by 2\n",
        "def grt4div2(a):\n",
        "  return a[(a>4)&(a%2==0)]\n"
      ],
      "metadata": {
        "id": "Xn2_z5h-Fmrd",
        "colab": {
          "base_uri": "https://localhost:8080/"
        },
        "outputId": "4a2ffc98-3346-4d32-ee4c-73935d2bd8a2"
      },
      "execution_count": null,
      "outputs": [
        {
          "output_type": "stream",
          "name": "stdout",
          "text": [
            "[6 8 5]\n",
            "[6 8]\n"
          ]
        }
      ]
    },
    {
      "cell_type": "markdown",
      "source": [
        "### Copying arrays\n",
        "- new array object with a copy of the data\n",
        "- Changes made in the copy array is not reflected in the original array"
      ],
      "metadata": {
        "id": "GWU0EfaAG2ll"
      }
    },
    {
      "cell_type": "code",
      "source": [
        "a = np.array([[4,6,0], [0, 3, 1], [1, 8, 5]])"
      ],
      "metadata": {
        "id": "ijdgy02lHMJW"
      },
      "execution_count": null,
      "outputs": []
    },
    {
      "cell_type": "code",
      "source": [
        "# Write a NumPy function to copy the array 'a' and finally print an array where all elements are increased by 1\n",
        "import numpy as np\n",
        "a = np.array([[4,6,0], [0, 3, 1], [1, 8, 5]])\n",
        "def mycpy(a):\n",
        "  return np.copy(a)\n",
        "a+=1\n",
        "for c in a:\n",
        "  for b in c:\n",
        "    print(b,end=\" \")\n",
        "  print(\"\\n\")"
      ],
      "metadata": {
        "id": "FmgUdh66GuQH",
        "colab": {
          "base_uri": "https://localhost:8080/"
        },
        "outputId": "14db5b72-3deb-4496-88e3-d47ca2e22e3a"
      },
      "execution_count": null,
      "outputs": [
        {
          "output_type": "stream",
          "name": "stdout",
          "text": [
            "5 7 1 \n",
            "\n",
            "1 4 2 \n",
            "\n",
            "2 9 6 \n",
            "\n"
          ]
        }
      ]
    },
    {
      "cell_type": "markdown",
      "source": [
        "## Pandas ( Python Data Analysis Library)\n",
        "\n",
        "### Main Features\n",
        "- Easy handling of missing data in both floating point and non-floating point data.\n",
        "- Automatic and explicit data alignment, making it easy to perform computations and transformations on data sets.\n",
        "\n"
      ],
      "metadata": {
        "id": "M1KLD5QxHsVw"
      }
    },
    {
      "cell_type": "markdown",
      "source": [
        "#### Generating the dataset"
      ],
      "metadata": {
        "id": "v1CuU3FeIq1a"
      }
    },
    {
      "cell_type": "markdown",
      "source": [
        "Run the following load command to get the 2-Dim iris dataset. Do the following operations on it and please dont edit this cell"
      ],
      "metadata": {
        "id": "fp36ZqOMIy7k"
      }
    },
    {
      "cell_type": "code",
      "source": [
        "url = 'https://archive.ics.uci.edu/ml/machine-learning-databases/iris/iris.data'\n",
        "iris_2d = np.genfromtxt(url, delimiter=',', dtype='float', usecols=[0,1,2,3])"
      ],
      "metadata": {
        "id": "A_O5RTBXIyK-"
      },
      "execution_count": null,
      "outputs": []
    },
    {
      "cell_type": "markdown",
      "source": [
        "#### Basic Data Analysis"
      ],
      "metadata": {
        "id": "EILb6pPrS8Ju"
      }
    },
    {
      "cell_type": "code",
      "source": [
        "# Write a Pandas function to drop rows that contain a missing value.\n",
        "import numpy as np\n",
        "\n",
        "import pandas as pd\n",
        "def drop_row(df):\n",
        "  return df.dropna()"
      ],
      "metadata": {
        "id": "bViO1LLoI7sz",
        "colab": {
          "base_uri": "https://localhost:8080/"
        },
        "outputId": "80183533-7c6a-4106-ed00-bc7c281ceeda"
      },
      "execution_count": null,
      "outputs": [
        {
          "output_type": "stream",
          "name": "stdout",
          "text": [
            "       0    1    2    3\n",
            "0    5.1  3.5  1.4  0.2\n",
            "1    4.9  3.0  1.4  0.2\n",
            "2    4.7  3.2  1.3  0.2\n",
            "3    4.6  3.1  1.5  0.2\n",
            "4    5.0  3.6  1.4  0.2\n",
            "..   ...  ...  ...  ...\n",
            "145  6.7  3.0  5.2  2.3\n",
            "146  6.3  2.5  5.0  1.9\n",
            "147  6.5  3.0  5.2  2.0\n",
            "148  6.2  3.4  5.4  2.3\n",
            "149  5.9  3.0  5.1  1.8\n",
            "\n",
            "[150 rows x 4 columns]\n"
          ]
        }
      ]
    },
    {
      "cell_type": "code",
      "source": [
        "# Write a Pandas function to find the correlation between the first two columns.\n",
        "import pandas as pd\n",
        "def correl(df):\n",
        "  return df[0].corr(df[1])"
      ],
      "metadata": {
        "id": "zp_BYv5EJDjJ"
      },
      "execution_count": null,
      "outputs": []
    },
    {
      "cell_type": "code",
      "source": [
        "# Write a Pandas function to find the mean, median and standard deviation of column 3.\n",
        "import pandas as pd\n",
        "def col_stats(df):\n",
        "  stats = {\n",
        "        \"mean\": df[2].mean(),\n",
        "        \"median\": df[2].median(),\n",
        "        \"standard_deviation\": df[2].std()\n",
        "    }\n",
        "  return stats"
      ],
      "metadata": {
        "id": "0mjeoZCwJDoW"
      },
      "execution_count": null,
      "outputs": []
    },
    {
      "cell_type": "code",
      "source": [
        "# Write a Pandas function to create a new column for volume in iris_2d, where volume is (pi x petallength x sepal_length^2)/3\n",
        "import pandas as pd\n",
        "import numpy as np\n",
        "def addvol(df):\n",
        "  vol=(df[2]*df[0]*df[0]*(np.pi))/3\n",
        "  df[4]=vol\n",
        "  return df\n",
        "df=pd.DataFrame(iris_2d)\n",
        "print(addvol(df))\n",
        "# Hints:\n",
        "# 1. Introduce new dimension to match iris_2d's\n",
        "# 2. Add the new column"
      ],
      "metadata": {
        "id": "bRiYEhWTJDrM",
        "colab": {
          "base_uri": "https://localhost:8080/"
        },
        "outputId": "7a30c8cc-1da3-408c-ac5d-e581b1756596"
      },
      "execution_count": null,
      "outputs": [
        {
          "output_type": "stream",
          "name": "stdout",
          "text": [
            "       0    1    2    3           4\n",
            "0    5.1  3.5  1.4  0.2   38.132652\n",
            "1    4.9  3.0  1.4  0.2   35.200498\n",
            "2    4.7  3.2  1.3  0.2   30.072372\n",
            "3    4.6  3.1  1.5  0.2   33.238050\n",
            "4    5.0  3.6  1.4  0.2   36.651914\n",
            "..   ...  ...  ...  ...         ...\n",
            "145  6.7  3.0  5.2  2.3  244.445230\n",
            "146  6.3  2.5  5.0  1.9  207.816354\n",
            "147  6.5  3.0  5.2  2.0  230.069302\n",
            "148  6.2  3.4  5.4  2.3  217.373079\n",
            "149  5.9  3.0  5.1  1.8  185.910028\n",
            "\n",
            "[150 rows x 5 columns]\n"
          ]
        }
      ]
    },
    {
      "cell_type": "markdown",
      "source": [
        "# Section B *(2 Marks each)*"
      ],
      "metadata": {
        "id": "dGqrG93ELEQ3"
      }
    },
    {
      "cell_type": "markdown",
      "source": [
        "###NumPy"
      ],
      "metadata": {
        "id": "OLm8jv7tMH6h"
      }
    },
    {
      "cell_type": "markdown",
      "source": [
        "Q1 Let x = np.arange(4, dtype=np.int64). Create an array of ones with the same shape and type as X."
      ],
      "metadata": {
        "id": "zE1n0x7ZLRLU"
      }
    },
    {
      "cell_type": "code",
      "source": [
        "arr=np.ones((1,4),dtype=np.int64)"
      ],
      "metadata": {
        "id": "H8o9C6b7LJzA",
        "colab": {
          "base_uri": "https://localhost:8080/"
        },
        "outputId": "76de003e-4fd4-4a50-91ee-6bca2f9168a9"
      },
      "execution_count": null,
      "outputs": [
        {
          "output_type": "stream",
          "name": "stdout",
          "text": [
            "[[1 1 1 1]]\n"
          ]
        }
      ]
    },
    {
      "cell_type": "markdown",
      "source": [
        "Q2 Let x be an array [1, 2, 3, ..., 9]. Split x into 3 arrays, each of which has 4, 2, and 3 elements in the original order."
      ],
      "metadata": {
        "id": "PPYeTqoHLSNj"
      }
    },
    {
      "cell_type": "code",
      "source": [
        "x=[1,2,3,4,5,6,7,8,9]\n",
        "a1=x[0:4]\n",
        "a2=x[4:6]\n",
        "a3=x[6:]"
      ],
      "metadata": {
        "id": "DS9mr30LLYdg",
        "colab": {
          "base_uri": "https://localhost:8080/"
        },
        "outputId": "00fd25f7-2cac-4f86-c794-afa6644163b8"
      },
      "execution_count": null,
      "outputs": [
        {
          "output_type": "stream",
          "name": "stdout",
          "text": [
            "[1, 2, 3, 4] [5, 6] [7, 8, 9]\n"
          ]
        }
      ]
    },
    {
      "cell_type": "markdown",
      "source": [
        "Q3 Initiate x as a 2x5 array with random values from 0 to 10(not inclusive).Get the maximum and minimum values and their indices of x along the second axis."
      ],
      "metadata": {
        "id": "b1wJaooRLXjN"
      }
    },
    {
      "cell_type": "code",
      "source": [
        "from numpy import random\n",
        "\n",
        "x=random.randint(10,size=(2,5))\n",
        "print(x)\n",
        "x.max(axis=1)"
      ],
      "metadata": {
        "id": "GnXDqksjLf89",
        "colab": {
          "base_uri": "https://localhost:8080/"
        },
        "outputId": "495f2256-f977-4cee-a80a-a116a0203fce"
      },
      "execution_count": null,
      "outputs": [
        {
          "output_type": "stream",
          "name": "stdout",
          "text": [
            "[[1 0 7 4 8]\n",
            " [0 4 7 0 2]]\n"
          ]
        },
        {
          "output_type": "execute_result",
          "data": {
            "text/plain": [
              "array([8, 7])"
            ]
          },
          "metadata": {},
          "execution_count": 14
        }
      ]
    },
    {
      "cell_type": "markdown",
      "source": [
        "### Pandas"
      ],
      "metadata": {
        "id": "8_Q7fbyxMMHM"
      }
    },
    {
      "cell_type": "markdown",
      "source": [
        "Run the following load command and solve the following questions"
      ],
      "metadata": {
        "id": "3QpaFHkxJUho"
      }
    },
    {
      "cell_type": "code",
      "source": [
        "url = 'https://archive.ics.uci.edu/ml/machine-learning-databases/iris/iris.data'\n",
        "iris = np.genfromtxt(url, delimiter=',', dtype='object')\n",
        "names = ('sepallength', 'sepalwidth', 'petallength', 'petalwidth', 'species')"
      ],
      "metadata": {
        "id": "mLdcY49iJDtl"
      },
      "execution_count": null,
      "outputs": []
    },
    {
      "cell_type": "markdown",
      "source": [
        "Q4 Write a Pandas function to find the count of unique species."
      ],
      "metadata": {
        "id": "zbDepnx9RtV8"
      }
    },
    {
      "cell_type": "code",
      "source": [
        "import pandas as pd\n",
        "def noofuniq(df):\n",
        "  uniqspecies=df[4].unique()\n",
        "  return len(uniqspecies)"
      ],
      "metadata": {
        "id": "oAkO0UnqJDv7",
        "colab": {
          "base_uri": "https://localhost:8080/"
        },
        "outputId": "d24d9e8f-b9db-4cd5-de77-64a6806171f1"
      },
      "execution_count": null,
      "outputs": [
        {
          "output_type": "stream",
          "name": "stdout",
          "text": [
            "          0       1       2       3                  4\n",
            "0    b'5.1'  b'3.5'  b'1.4'  b'0.2'     b'Iris-setosa'\n",
            "1    b'4.9'  b'3.0'  b'1.4'  b'0.2'     b'Iris-setosa'\n",
            "2    b'4.7'  b'3.2'  b'1.3'  b'0.2'     b'Iris-setosa'\n",
            "3    b'4.6'  b'3.1'  b'1.5'  b'0.2'     b'Iris-setosa'\n",
            "4    b'5.0'  b'3.6'  b'1.4'  b'0.2'     b'Iris-setosa'\n",
            "..      ...     ...     ...     ...                ...\n",
            "145  b'6.7'  b'3.0'  b'5.2'  b'2.3'  b'Iris-virginica'\n",
            "146  b'6.3'  b'2.5'  b'5.0'  b'1.9'  b'Iris-virginica'\n",
            "147  b'6.5'  b'3.0'  b'5.2'  b'2.0'  b'Iris-virginica'\n",
            "148  b'6.2'  b'3.4'  b'5.4'  b'2.3'  b'Iris-virginica'\n",
            "149  b'5.9'  b'3.0'  b'5.1'  b'1.8'  b'Iris-virginica'\n",
            "\n",
            "[150 rows x 5 columns]\n",
            "3\n"
          ]
        }
      ]
    },
    {
      "cell_type": "markdown",
      "source": [
        "# Q5 Write a Pandas function to bin the petal length (3rd) column of iris_2d to form a text array, such that if petal length is:\n",
        "- Less than 3 –> ‘small’\n",
        "- 3-5 –> ‘medium’\n",
        "- greater than equal to 5 –> ‘large’"
      ],
      "metadata": {
        "id": "Usj5HlvyRxal"
      }
    },
    {
      "cell_type": "code",
      "source": [
        "def bin_petal_len(iris_df):\n",
        "    pet_len = []\n",
        "    for length in iris_df[2]:\n",
        "        if length < 3:\n",
        "            pet_len.append('small')\n",
        "        elif length >= 3 and length < 5:\n",
        "            pet_len.append('medium')\n",
        "        else:\n",
        "            pet_len.append('large')\n",
        "    iris_df['pet_len'] = pet_len\n",
        "    return iris_df"
      ],
      "metadata": {
        "id": "gTWWJoLMJDxx"
      },
      "execution_count": null,
      "outputs": []
    },
    {
      "cell_type": "markdown",
      "source": [
        "Q6 Write a Pandas function to find the most frequent value of petal length (3rd column) in iris dataset"
      ],
      "metadata": {
        "id": "IbBYP_8sSBrB"
      }
    },
    {
      "cell_type": "code",
      "source": [
        "import pandas as pd\n",
        "def mostfreqpl(df):\n",
        "  return df[2].mode()"
      ],
      "metadata": {
        "id": "DNk_tlVWJufR"
      },
      "execution_count": null,
      "outputs": []
    }
  ]
}
