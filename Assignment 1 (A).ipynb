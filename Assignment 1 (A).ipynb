{
  "cells": [
    {
      "cell_type": "markdown",
      "metadata": {
        "id": "kIAcUXNYVeGR"
      },
      "source": [
        "Instructions for the assignment\n",
        "\n",
        "\n",
        "*   Fill the codeblocks according to the comments given\n",
        "*   Hints are given wherever required\n",
        "*   Please note that copying will not be tolerated, and appropriate action will be taken if we suspect any misconduct.\n",
        "*   You're welcome to utilize any online resources in case you feel stuck anywhere :-)\n",
        "\n",
        "\n",
        "\n",
        "\n",
        "\n",
        "\n",
        "\n"
      ]
    },
    {
      "cell_type": "markdown",
      "metadata": {
        "id": "UhXvUdK6Stt_"
      },
      "source": [
        "# Section A *(2 Marks each)*"
      ]
    },
    {
      "cell_type": "markdown",
      "metadata": {
        "id": "oc77CrhjAGlR"
      },
      "source": [
        "## NumPy (Numerical Python)\n",
        "**bold text**\n",
        "### Multidimensional array object\n",
        "- Array is a grid of homogeneous elements which can be indexed in various ways\n",
        "- Different from Python list which can store different data types\n",
        "- NumPy stores multidimensional arrays as an instance of **ndarray**\n",
        "\n"
      ]
    },
    {
      "cell_type": "code",
      "execution_count": 143,
      "metadata": {
        "id": "WGtRigfyBpgb"
      },
      "outputs": [],
      "source": [
        "import numpy as np"
      ]
    },
    {
      "cell_type": "code",
      "execution_count": 144,
      "metadata": {
        "id": "UR9ftRnU8_lu"
      },
      "outputs": [
        {
          "name": "stdout",
          "output_type": "stream",
          "text": [
            "[1 2 3 4 5]\n",
            "[[1 2 3]\n",
            " [4 5 6]]\n"
          ]
        }
      ],
      "source": [
        "# Python list to initialize a one dimensional NumPy array of numbers 1 to 5 and then print it\n",
        "list1 = [1,2,3,4,5]\n",
        "\n",
        "arr1 = np.array(list1)\n",
        "print(arr1)\n",
        "\n",
        "# Python list to initialize a two dimensional NumPy array of shape [3,3] and then print it\n",
        "list2 = [[1,2,3], [4,5,6]]\n",
        "\n",
        "arr2 = np.array(list2)\n",
        "print(arr2)"
      ]
    },
    {
      "cell_type": "code",
      "execution_count": 145,
      "metadata": {
        "id": "WZf-M7KnBkhu"
      },
      "outputs": [],
      "source": [
        "# Write a NumPy function to create an array with random values of shape [3,4]\n",
        "a1 = np.random.rand(3,4)\n",
        "# print(a1)\n",
        "\n",
        "# Write a NumPy function to create an array with all elements initialized as zero of shape [3,4]\n",
        "a2 = np.zeros((3,4))\n",
        "# print(a2)\n",
        "\n",
        "# Write a NumPy function to create an array with all elements initialized as ones of shape [3,4]\n",
        "a3 = np.ones((3,4))\n",
        "# print(a3)"
      ]
    },
    {
      "cell_type": "code",
      "execution_count": 146,
      "metadata": {
        "id": "Uagv5WtWBknb"
      },
      "outputs": [],
      "source": [
        "# Write a NumPy function to create an array containing a range of evenly spaced intervals\n",
        "# Hint : Use np.arange or np.linspace\n",
        "arr = np.linspace(1, 10, 19)             #(start, stop, step)\n",
        "# print(arr)"
      ]
    },
    {
      "cell_type": "markdown",
      "metadata": {
        "id": "dFeKiGA5CNXx"
      },
      "source": [
        "### Basic array operations\n",
        "- algebraic operations\n",
        "- logical operations"
      ]
    },
    {
      "cell_type": "code",
      "execution_count": 147,
      "metadata": {
        "id": "mZbgCNnRDVbV"
      },
      "outputs": [],
      "source": [
        "a = np.array([[-4,6, 8], \n",
        "              [9, 3, 1], \n",
        "              [1, 8, 5]])\n",
        "b = np.array([[11, 16, 18], \n",
        "              [90, 37, 81], \n",
        "              [61, 48, 75]])"
      ]
    },
    {
      "cell_type": "code",
      "execution_count": 148,
      "metadata": {
        "id": "QajfAkNHCMqe"
      },
      "outputs": [
        {
          "data": {
            "text/plain": [
              "array([[-0.36363636,  0.375     ,  0.44444444],\n",
              "       [ 0.1       ,  0.08108108,  0.01234568],\n",
              "       [ 0.01639344,  0.16666667,  0.06666667]])"
            ]
          },
          "execution_count": 148,
          "metadata": {},
          "output_type": "execute_result"
        }
      ],
      "source": [
        "# Write a NumPy function to add, subtract, multiply and divide arrays 'a' and 'b'\n",
        "np.add(a,b)\n",
        "np.subtract(a,b)\n",
        "np.multiply(a,b)\n",
        "np.divide(a,b)"
      ]
    },
    {
      "cell_type": "code",
      "execution_count": 149,
      "metadata": {
        "id": "hfBR7r80C_qh"
      },
      "outputs": [
        {
          "data": {
            "text/plain": [
              "array([10, 13, 14])"
            ]
          },
          "execution_count": 149,
          "metadata": {},
          "output_type": "execute_result"
        }
      ],
      "source": [
        "# Write a NumPy function to get the sum of the array 'a' along axis=0\n",
        "np.sum(a, axis=0)\n",
        "# Write a NumPy function to get the sum of the array 'a' along axis=1\n",
        "np.sum(a, axis=1)"
      ]
    },
    {
      "cell_type": "code",
      "execution_count": 150,
      "metadata": {
        "id": "rBTxfTuFDSiA"
      },
      "outputs": [],
      "source": [
        "# Write a NumPy function to reverse the array 'a'\n",
        "rev_a1 = np.flip(a)\n",
        "# print(rev_a1)\n",
        "\n",
        "# Write a NumPy function to reverse the array 'a' along axis=0\n",
        "rev_a2 = np.flip(a, axis=0)\n",
        "# print(rev_a2)\n",
        "\n",
        "# Write a NumPy function to reverse the array 'a' along axis=1\n",
        "rev_a3 = np.flip(a ,axis=1)\n",
        "# print(rev_a3)\n"
      ]
    },
    {
      "cell_type": "markdown",
      "metadata": {
        "id": "WnCvXc3jCdWH"
      },
      "source": [
        "### Sorting and concatenation\n",
        "- sort arrays\n",
        "- join multiple arrays\n"
      ]
    },
    {
      "cell_type": "code",
      "execution_count": 151,
      "metadata": {
        "id": "Qsg-EPq7EbPx"
      },
      "outputs": [],
      "source": [
        "a = np.array([[-4,6,8], \n",
        "              [9, 3, 1], \n",
        "              [1, 8, 5]])\n",
        "b = np.array([[11,16,18], \n",
        "              [90, 37, 81], \n",
        "              [61, 48, 75]])"
      ]
    },
    {
      "cell_type": "code",
      "execution_count": 152,
      "metadata": {
        "id": "_7VfP1anCc0O"
      },
      "outputs": [
        {
          "data": {
            "text/plain": [
              "array([[-4,  3,  1],\n",
              "       [ 1,  6,  5],\n",
              "       [ 9,  8,  8]])"
            ]
          },
          "execution_count": 152,
          "metadata": {},
          "output_type": "execute_result"
        }
      ],
      "source": [
        "# Write a NumPy function to sort the array 'a'\n",
        "np.sort(a)\n",
        "# Write a NumPy function to sort the array 'a' along axis=0\n",
        "np.sort(a ,axis=0)\n",
        "# Write a NumPy function to sort the array 'a' along axis=1\n",
        "np.sort(a ,axis=1)\n",
        "# Write a NumPy function to sort the array 'a' in descending order along axis=0\n",
        "np.sort(a[::-1], axis=0)"
      ]
    },
    {
      "cell_type": "code",
      "execution_count": 153,
      "metadata": {
        "id": "6BqbtdLYEWng"
      },
      "outputs": [
        {
          "data": {
            "text/plain": [
              "array([[0, 1, 2],\n",
              "       [2, 1, 0],\n",
              "       [0, 2, 1]], dtype=int64)"
            ]
          },
          "execution_count": 153,
          "metadata": {},
          "output_type": "execute_result"
        }
      ],
      "source": [
        "# Write a NumPy function to argsort the array along axis=0\n",
        "np.argsort(a, axis=0)\n",
        "# Write a NumPy function to argsort the array along axis=1\n",
        "np.argsort(a, axis=1)"
      ]
    },
    {
      "cell_type": "code",
      "execution_count": 154,
      "metadata": {
        "id": "cixOoXZhEY8-"
      },
      "outputs": [
        {
          "data": {
            "text/plain": [
              "array([[[-4,  6,  8],\n",
              "        [ 9,  3,  1],\n",
              "        [ 1,  8,  5]],\n",
              "\n",
              "       [[11, 16, 18],\n",
              "        [90, 37, 81],\n",
              "        [61, 48, 75]]])"
            ]
          },
          "execution_count": 154,
          "metadata": {},
          "output_type": "execute_result"
        }
      ],
      "source": [
        "# Write a NumPy function to concatenate the arrays 'a' and 'b'\n",
        "np.concatenate((a,b))\n",
        "# Write a NumPy function to concatenate the arrays 'a' and 'b' along axis = 0\n",
        "np.concatenate((a,b), axis=0)\n",
        "# Note: You can do the same function using stacking, discover and try that :)\n",
        "np.stack((a,b), axis=0)"
      ]
    },
    {
      "cell_type": "markdown",
      "metadata": {
        "id": "aY0j33z2EjNx"
      },
      "source": [
        "### Reshaping arrays\n",
        "- the number of dimensions of the array\n",
        "-  shape of n-dimensional array as a tuple with n elements s.t. $i^{th}$ element is the length of the $i^{th}$ dimension of the array\n",
        "- total number of elements of the array\n",
        "- reshapes the array\n",
        "- flattens multidimensional array into a 1D array\n",
        "- adds new dimensions to the array"
      ]
    },
    {
      "cell_type": "code",
      "execution_count": 155,
      "metadata": {
        "id": "sStUkoh1FG4N"
      },
      "outputs": [],
      "source": [
        "a = np.array([[4,6,8], \n",
        "              [9, 3, 1], \n",
        "              [1, 8, 5]])"
      ]
    },
    {
      "cell_type": "code",
      "execution_count": 156,
      "metadata": {
        "id": "vb35oi57Ev1f"
      },
      "outputs": [
        {
          "data": {
            "text/plain": [
              "9"
            ]
          },
          "execution_count": 156,
          "metadata": {},
          "output_type": "execute_result"
        }
      ],
      "source": [
        "# Write a NumPy function to get the Number of dimensions\n",
        "np.ndim(a)\n",
        "# Write a NumPy function to get the Shape of the array\n",
        "np.shape(a)\n",
        "# Write a NumPy function to get the Size of the array\n",
        "np.size(a)"
      ]
    },
    {
      "cell_type": "code",
      "execution_count": 157,
      "metadata": {
        "id": "MznU0NWKE54c"
      },
      "outputs": [],
      "source": [
        "# Write a NumPy function to Reshape the array 'a' to the dimension (1,9)\n",
        "a = np.reshape(a ,(1,9))      # (a, 9) gives a 1d array of same elements\n",
        "# print(a)"
      ]
    },
    {
      "cell_type": "code",
      "execution_count": 158,
      "metadata": {
        "id": "p1dlxcNYE8tv"
      },
      "outputs": [],
      "source": [
        "# Write a NumPy function to add a new axis to the array 'a'\n",
        "# Note : Show atleast two different ways of doing this\n",
        "a = a[np.newaxis]\n",
        "# print(a)\n",
        "a = np.expand_dims(a ,axis=0)\n",
        "# print(a)"
      ]
    },
    {
      "cell_type": "markdown",
      "metadata": {
        "id": "Ng4xWkwpFtao"
      },
      "source": [
        "### Indexing and slicing\n",
        "- NumPy allows indexing array using tuple of nonnegative integers, booleans, array or integers"
      ]
    },
    {
      "cell_type": "code",
      "execution_count": 159,
      "metadata": {
        "id": "swrtOhPGGB7r"
      },
      "outputs": [],
      "source": [
        "a = np.array([[4,6,0], \n",
        "              [0, 3, 1], \n",
        "              [1, 8, 5]])"
      ]
    },
    {
      "cell_type": "code",
      "execution_count": 160,
      "metadata": {
        "id": "w3QaVYRyFs77"
      },
      "outputs": [
        {
          "name": "stdout",
          "output_type": "stream",
          "text": [
            "[1 8]\n",
            "3\n",
            "4\n",
            "6\n",
            "0\n"
          ]
        }
      ],
      "source": [
        "# Write a NumPy function to index and slice NumPy arrays similar to Python lists\n",
        "# Show all three - indexing by a integer, indexing by a tuple, using range\n",
        "\n",
        "print(a[2, :2])    #indexing and slicing using int\n",
        "print(a[(1,1)])    #indexing using tuple (cannot slice in tuple as they are immutable)\n",
        "\n",
        "for i in range(len(a)):\n",
        "    print(a[0,i])  #using range\n"
      ]
    },
    {
      "cell_type": "code",
      "execution_count": 161,
      "metadata": {
        "id": "Xn2_z5h-Fmrd"
      },
      "outputs": [
        {
          "name": "stdout",
          "output_type": "stream",
          "text": [
            "[6 8 5]\n",
            "[6 8]\n"
          ]
        }
      ],
      "source": [
        "# Write a NumPy function to select values satisfying a specific condition like Values greater than 4\n",
        "print(a[a>4])\n",
        "# Write a NumPy function to select values satisfying mulitple conditions like Values greater than 4 and divisible by 2\n",
        "print(a[(a>4) & (a%2==0)])"
      ]
    },
    {
      "cell_type": "markdown",
      "metadata": {
        "id": "GWU0EfaAG2ll"
      },
      "source": [
        "### Copying arrays\n",
        "- new array object with a copy of the data\n",
        "- Changes made in the copy array is not reflected in the original array"
      ]
    },
    {
      "cell_type": "code",
      "execution_count": 162,
      "metadata": {
        "id": "ijdgy02lHMJW"
      },
      "outputs": [],
      "source": [
        "a = np.array([[4,6,0], \n",
        "              [0, 3, 1], \n",
        "              [1, 8, 5]])"
      ]
    },
    {
      "cell_type": "code",
      "execution_count": 163,
      "metadata": {
        "id": "FmgUdh66GuQH"
      },
      "outputs": [
        {
          "name": "stdout",
          "output_type": "stream",
          "text": [
            "[[5 7 1]\n",
            " [1 4 2]\n",
            " [2 9 6]]\n"
          ]
        }
      ],
      "source": [
        "# Write a NumPy function to copy the array 'a' and finally print an array where all elements are increased by 1\n",
        "b = np.copy(a)        # b = 1 also copies the array\n",
        "print(b+1)"
      ]
    },
    {
      "cell_type": "markdown",
      "metadata": {
        "id": "M1KLD5QxHsVw"
      },
      "source": [
        "## Pandas ( Python Data Analysis Library)\n",
        "\n",
        "### Main Features\n",
        "- Easy handling of missing data in both floating point and non-floating point data.\n",
        "- Automatic and explicit data alignment, making it easy to perform computations and transformations on data sets.\n",
        "\n"
      ]
    },
    {
      "cell_type": "markdown",
      "metadata": {
        "id": "v1CuU3FeIq1a"
      },
      "source": [
        "#### Generating the dataset"
      ]
    },
    {
      "cell_type": "markdown",
      "metadata": {
        "id": "fp36ZqOMIy7k"
      },
      "source": [
        "Run the following load command to get the 2-Dim iris dataset. Do the following operations on it and please dont edit this cell"
      ]
    },
    {
      "cell_type": "code",
      "execution_count": 164,
      "metadata": {
        "id": "A_O5RTBXIyK-"
      },
      "outputs": [],
      "source": [
        "url = 'https://archive.ics.uci.edu/ml/machine-learning-databases/iris/iris.data'\n",
        "iris_2d = np.genfromtxt(url, delimiter=',', dtype='float', usecols=[0,1,2,3])"
      ]
    },
    {
      "cell_type": "markdown",
      "metadata": {
        "id": "EILb6pPrS8Ju"
      },
      "source": [
        "#### Basic Data Analysis"
      ]
    },
    {
      "cell_type": "code",
      "execution_count": 165,
      "metadata": {
        "id": "bViO1LLoI7sz"
      },
      "outputs": [],
      "source": [
        "import pandas as pd\n",
        "\n",
        "# Write a Pandas function to drop rows that contain a missing value.\n",
        "df = pd.DataFrame(iris_2d)       \n",
        "\n",
        "df.isnull().sum()   # to check if any row has null entries \n",
        "df = df.dropna()\n",
        "# df.head()"
      ]
    },
    {
      "cell_type": "code",
      "execution_count": 166,
      "metadata": {
        "id": "zp_BYv5EJDjJ"
      },
      "outputs": [
        {
          "data": {
            "text/plain": [
              "-0.1093692499506493"
            ]
          },
          "execution_count": 166,
          "metadata": {},
          "output_type": "execute_result"
        }
      ],
      "source": [
        "# Write a Pandas function to find the correlation between the first two columns.\n",
        "df[0].corr(df[1])\n"
      ]
    },
    {
      "cell_type": "code",
      "execution_count": 167,
      "metadata": {
        "id": "0mjeoZCwJDoW"
      },
      "outputs": [
        {
          "data": {
            "text/plain": [
              "1.7644204199522626"
            ]
          },
          "execution_count": 167,
          "metadata": {},
          "output_type": "execute_result"
        }
      ],
      "source": [
        "# Write a Pandas function to find the mean, median and standard deviation of column 3.\n",
        "df[2].mean()\n",
        "df[2].median()\n",
        "df[2].std()"
      ]
    },
    {
      "cell_type": "code",
      "execution_count": 168,
      "metadata": {
        "id": "bRiYEhWTJDrM"
      },
      "outputs": [],
      "source": [
        "# Write a Pandas function to create a new column for volume in iris_2d, where volume is (pi x petallength x sepal_length^2)/3\n",
        "# Hints:\n",
        "# 1. Introduce new dimension to match iris_2d's\n",
        "# 2. Add the new column\n",
        "df['Volume'] = 3.14*df[2]*df[0]*df[0]/3\n",
        "# df.head()\n"
      ]
    },
    {
      "cell_type": "markdown",
      "metadata": {
        "id": "dGqrG93ELEQ3"
      },
      "source": [
        "# Section B *(2 Marks each)*"
      ]
    },
    {
      "cell_type": "markdown",
      "metadata": {
        "id": "OLm8jv7tMH6h"
      },
      "source": [
        "###NumPy"
      ]
    },
    {
      "cell_type": "markdown",
      "metadata": {
        "id": "zE1n0x7ZLRLU"
      },
      "source": [
        "Q1 Let x = np.arange(4, dtype=np.int64). Create an array of ones with the same shape and type as X."
      ]
    },
    {
      "cell_type": "code",
      "execution_count": 169,
      "metadata": {
        "id": "H8o9C6b7LJzA"
      },
      "outputs": [],
      "source": [
        "arr = np.ones(4, dtype=np.int64)\n",
        "# print(arr)"
      ]
    },
    {
      "cell_type": "markdown",
      "metadata": {
        "id": "PPYeTqoHLSNj"
      },
      "source": [
        "Q2 Let x be an array [1, 2, 3, ..., 9]. Split x into 3 arrays, each of which has 4, 2, and 3 elements in the original order."
      ]
    },
    {
      "cell_type": "code",
      "execution_count": 170,
      "metadata": {
        "id": "DS9mr30LLYdg"
      },
      "outputs": [],
      "source": [
        "x = [1,2,3,4,5,6,7,8,9]\n",
        "\n",
        "a = x[:4]\n",
        "# print(a)\n",
        "b = x[4:6]\n",
        "# print(b)\n",
        "c = x[6:9]\n",
        "# print(c)"
      ]
    },
    {
      "cell_type": "markdown",
      "metadata": {
        "id": "b1wJaooRLXjN"
      },
      "source": [
        "Q3 Initiate x as a 2x5 array with random values from 0 to 10(not inclusive).Get the maximum and minimum values and their indices of x along the second axis."
      ]
    },
    {
      "cell_type": "code",
      "execution_count": 171,
      "metadata": {
        "id": "GnXDqksjLf89"
      },
      "outputs": [
        {
          "data": {
            "text/plain": [
              "3"
            ]
          },
          "execution_count": 171,
          "metadata": {},
          "output_type": "execute_result"
        }
      ],
      "source": [
        "x = np.random.randint(0,10 ,size=(2,5))\n",
        "# print(x)\n",
        "# [1] is done to select the second axis i.e. row.\n",
        "x[1].max()     #value\n",
        "x[1].argmax()  #index\n",
        "x[1].min()\n",
        "x[1].argmin()\n"
      ]
    },
    {
      "cell_type": "markdown",
      "metadata": {
        "id": "8_Q7fbyxMMHM"
      },
      "source": [
        "### Pandas"
      ]
    },
    {
      "cell_type": "markdown",
      "metadata": {
        "id": "3QpaFHkxJUho"
      },
      "source": [
        "Run the following load command and solve the following questions"
      ]
    },
    {
      "cell_type": "code",
      "execution_count": 172,
      "metadata": {
        "id": "mLdcY49iJDtl"
      },
      "outputs": [],
      "source": [
        "url = 'https://archive.ics.uci.edu/ml/machine-learning-databases/iris/iris.data'\n",
        "iris = np.genfromtxt(url, delimiter=',', dtype='object')\n",
        "names = ('sepallength', 'sepalwidth', 'petallength', 'petalwidth', 'species')"
      ]
    },
    {
      "cell_type": "markdown",
      "metadata": {
        "id": "zbDepnx9RtV8"
      },
      "source": [
        "Q4 Write a Pandas function to find the count of unique species."
      ]
    },
    {
      "cell_type": "code",
      "execution_count": 173,
      "metadata": {
        "id": "oAkO0UnqJDv7"
      },
      "outputs": [
        {
          "data": {
            "text/plain": [
              "3"
            ]
          },
          "execution_count": 173,
          "metadata": {},
          "output_type": "execute_result"
        }
      ],
      "source": [
        "data_frame = pd.DataFrame(iris)\n",
        "# data_frame.head()\n",
        "\n",
        "data_frame[4].nunique()"
      ]
    },
    {
      "cell_type": "markdown",
      "metadata": {
        "id": "Usj5HlvyRxal"
      },
      "source": [
        "# Q5 Write a Pandas function to bin the petal length (3rd) column of iris_2d to form a text array, such that if petal length is:\n",
        "- Less than 3 –> ‘small’\n",
        "- 3-5 –> ‘medium’\n",
        "- greater than equal to 5 –> ‘large’"
      ]
    },
    {
      "cell_type": "code",
      "execution_count": 174,
      "metadata": {
        "id": "gTWWJoLMJDxx"
      },
      "outputs": [],
      "source": [
        "data_frame[2] = np.where((df[2] < 3.0), 'small', data_frame[2])                # works somewhat like if else\n",
        "data_frame[2] = np.where((df[2] >= 3.0) & (df[2] < 5.0), 'medium', data_frame[2])\n",
        "data_frame[2] = np.where((df[2] >= 5.0), 'large', data_frame[2])\n",
        "\n",
        "# data_frame[2].value_counts()"
      ]
    },
    {
      "cell_type": "markdown",
      "metadata": {
        "id": "IbBYP_8sSBrB"
      },
      "source": [
        "Q6 Write a Pandas function to find the most frequent value of petal length (3rd column) in iris dataset"
      ]
    },
    {
      "cell_type": "code",
      "execution_count": 175,
      "metadata": {
        "id": "DNk_tlVWJufR"
      },
      "outputs": [
        {
          "data": {
            "text/plain": [
              "0    medium\n",
              "Name: 2, dtype: object"
            ]
          },
          "execution_count": 175,
          "metadata": {},
          "output_type": "execute_result"
        }
      ],
      "source": [
        "data_frame[2].mode()"
      ]
    }
  ],
  "metadata": {
    "colab": {
      "provenance": []
    },
    "kernelspec": {
      "display_name": "Python 3",
      "name": "python3"
    },
    "language_info": {
      "codemirror_mode": {
        "name": "ipython",
        "version": 3
      },
      "file_extension": ".py",
      "mimetype": "text/x-python",
      "name": "python",
      "nbconvert_exporter": "python",
      "pygments_lexer": "ipython3",
      "version": "3.11.6"
    }
  },
  "nbformat": 4,
  "nbformat_minor": 0
}
