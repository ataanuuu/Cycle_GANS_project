{
  "nbformat": 4,
  "nbformat_minor": 0,
  "metadata": {
    "colab": {
      "provenance": []
    },
    "kernelspec": {
      "name": "python3",
      "display_name": "Python 3"
    },
    "language_info": {
      "name": "python"
    }
  },
  "cells": [
    {
      "cell_type": "markdown",
      "source": [
        "Instructions for the assignment\n",
        "\n",
        "\n",
        "*   Fill the codeblocks according to the comments given\n",
        "*   Hints are given wherever required\n",
        "*   Please note that copying will not be tolerated, and appropriate action will be taken if we suspect any misconduct.\n",
        "*   You're welcome to utilize any online resources in case you feel stuck anywhere :-)\n",
        "\n",
        "\n",
        "\n",
        "\n",
        "\n",
        "\n",
        "\n"
      ],
      "metadata": {
        "id": "kIAcUXNYVeGR"
      }
    },
    {
      "cell_type": "markdown",
      "source": [
        "# Section A *(2 Marks each)*"
      ],
      "metadata": {
        "id": "UhXvUdK6Stt_"
      }
    },
    {
      "cell_type": "markdown",
      "source": [
        "## NumPy (Numerical Python)\n",
        "**bold text**\n",
        "### Multidimensional array object\n",
        "- Array is a grid of homogeneous elements which can be indexed in various ways\n",
        "- Different from Python list which can store different data types\n",
        "- NumPy stores multidimensional arrays as an instance of **ndarray**\n",
        "\n"
      ],
      "metadata": {
        "id": "oc77CrhjAGlR"
      }
    },
    {
      "cell_type": "code",
      "source": [
        "import numpy as np"
      ],
      "metadata": {
        "id": "WGtRigfyBpgb"
      },
      "execution_count": 110,
      "outputs": []
    },
    {
      "cell_type": "code",
      "execution_count": 111,
      "metadata": {
        "id": "UR9ftRnU8_lu",
        "colab": {
          "base_uri": "https://localhost:8080/"
        },
        "outputId": "b030f5cb-e9e0-4448-9a9c-8da76cf15308"
      },
      "outputs": [
        {
          "output_type": "stream",
          "name": "stdout",
          "text": [
            "[1 2 3 4 5]\n",
            "[[1 2 3]\n",
            " [4 5 6]\n",
            " [7 8 9]]\n"
          ]
        }
      ],
      "source": [
        "# Python list to initialize a one dimensional NumPy array of numbers 1 to 5 and then print it\n",
        "numbers=[1,2,3,4,5]\n",
        "arr= np.array(numbers)\n",
        "print(arr)\n",
        "# Python list to initialize a two dimensional NumPy array of shape [3,3] and then print it\n",
        "twoD= np.array([[1,2,3],[4,5,6],[7,8,9]])\n",
        "print(twoD)"
      ]
    },
    {
      "cell_type": "code",
      "source": [
        "# Write a NumPy function to create an array with random values of shape [3,4]\n",
        "ran=np.random.rand(3,4)\n",
        "print(ran)\n",
        "# Write a NumPy function to create an array with all elements initialized as zero of shape [3,4]\n",
        "arr1=np.zeros((3,4))\n",
        "print(arr1)\n",
        "# Write a NumPy function to create an array with all elements initialized as ones of shape [3,4]\n",
        "arr2=np.ones((3,4))\n",
        "print(arr2)"
      ],
      "metadata": {
        "id": "WZf-M7KnBkhu",
        "colab": {
          "base_uri": "https://localhost:8080/"
        },
        "outputId": "15aa1090-f7a8-45bd-8e97-8480e5edd4fa"
      },
      "execution_count": 112,
      "outputs": [
        {
          "output_type": "stream",
          "name": "stdout",
          "text": [
            "[[0.84058652 0.32315625 0.60074972 0.11908013]\n",
            " [0.45567386 0.70730164 0.15550027 0.59345217]\n",
            " [0.28848682 0.47550081 0.34795617 0.99869316]]\n",
            "[[0. 0. 0. 0.]\n",
            " [0. 0. 0. 0.]\n",
            " [0. 0. 0. 0.]]\n",
            "[[1. 1. 1. 1.]\n",
            " [1. 1. 1. 1.]\n",
            " [1. 1. 1. 1.]]\n"
          ]
        }
      ]
    },
    {
      "cell_type": "code",
      "source": [
        "# Write a NumPy function to create an array containing a range of evenly spaced intervals\n",
        "even= np.arange(3,18)\n",
        "print(even)\n",
        "# Hint : Use np.arange or np.linspace"
      ],
      "metadata": {
        "id": "Uagv5WtWBknb",
        "colab": {
          "base_uri": "https://localhost:8080/"
        },
        "outputId": "6fb36d02-b29f-47e0-d01d-22b830d9705f"
      },
      "execution_count": 113,
      "outputs": [
        {
          "output_type": "stream",
          "name": "stdout",
          "text": [
            "[ 3  4  5  6  7  8  9 10 11 12 13 14 15 16 17]\n"
          ]
        }
      ]
    },
    {
      "cell_type": "markdown",
      "source": [
        "### Basic array operations\n",
        "- algebraic operations\n",
        "- logical operations"
      ],
      "metadata": {
        "id": "dFeKiGA5CNXx"
      }
    },
    {
      "cell_type": "code",
      "source": [
        "a = np.array([[-4,6,8], [9, 3, 1], [1, 8, 5]])\n",
        "b = np.array([[11,16,18], [90, 37, 81], [61, 48, 75]])"
      ],
      "metadata": {
        "id": "mZbgCNnRDVbV"
      },
      "execution_count": 114,
      "outputs": []
    },
    {
      "cell_type": "code",
      "source": [
        "# Write a NumPy function to add, subtract, multiply and divide arrays 'a' and 'b'\n",
        "sum=np.add(a,b)\n",
        "print(sum)\n",
        "diff=np.subtract(a,b)\n",
        "print(diff)\n",
        "pdt=np.multiply(a,b)\n",
        "print(pdt)\n",
        "div=np.divide(a,b)\n",
        "print(div)"
      ],
      "metadata": {
        "id": "QajfAkNHCMqe",
        "colab": {
          "base_uri": "https://localhost:8080/"
        },
        "outputId": "31f89372-938a-407d-dc7b-e53b868c1ef5"
      },
      "execution_count": 115,
      "outputs": [
        {
          "output_type": "stream",
          "name": "stdout",
          "text": [
            "[[ 7 22 26]\n",
            " [99 40 82]\n",
            " [62 56 80]]\n",
            "[[-15 -10 -10]\n",
            " [-81 -34 -80]\n",
            " [-60 -40 -70]]\n",
            "[[-44  96 144]\n",
            " [810 111  81]\n",
            " [ 61 384 375]]\n",
            "[[-0.36363636  0.375       0.44444444]\n",
            " [ 0.1         0.08108108  0.01234568]\n",
            " [ 0.01639344  0.16666667  0.06666667]]\n"
          ]
        }
      ]
    },
    {
      "cell_type": "code",
      "source": [
        "# Write a NumPy function to get the sum of the array 'a' along axis=0\n",
        "alongZERO=np.sum(a,axis=0)\n",
        "print(alongZERO)\n",
        "# Write a NumPy function to get the sum of the array 'a' along axis=1\n",
        "alongONE=np.sum(a,axis=1)\n",
        "print(alongONE)"
      ],
      "metadata": {
        "id": "hfBR7r80C_qh",
        "colab": {
          "base_uri": "https://localhost:8080/"
        },
        "outputId": "d8c933a1-ee96-4460-a0c8-bb962a2dd8b0"
      },
      "execution_count": 116,
      "outputs": [
        {
          "output_type": "stream",
          "name": "stdout",
          "text": [
            "[ 6 17 14]\n",
            "[10 13 14]\n"
          ]
        }
      ]
    },
    {
      "cell_type": "code",
      "source": [
        "# Write a NumPy function to reverse the array 'a'\n",
        "rev=np.flip(a)\n",
        "print(rev)\n",
        "# Write a NumPy function to reverse the array 'a' along axis=0\n",
        "rev1=np.flip(a,axis=0)\n",
        "print(rev1)\n",
        "# Write a NumPy function to reverse the array 'a' along axis=1\n",
        "rev2=np.flip(a,axis=1)\n",
        "print(rev2)"
      ],
      "metadata": {
        "id": "rBTxfTuFDSiA",
        "colab": {
          "base_uri": "https://localhost:8080/"
        },
        "outputId": "c77c7b3c-f7a5-4665-a013-9c88fda209c4"
      },
      "execution_count": 117,
      "outputs": [
        {
          "output_type": "stream",
          "name": "stdout",
          "text": [
            "[[ 5  8  1]\n",
            " [ 1  3  9]\n",
            " [ 8  6 -4]]\n",
            "[[ 1  8  5]\n",
            " [ 9  3  1]\n",
            " [-4  6  8]]\n",
            "[[ 8  6 -4]\n",
            " [ 1  3  9]\n",
            " [ 5  8  1]]\n"
          ]
        }
      ]
    },
    {
      "cell_type": "markdown",
      "source": [
        "### Sorting and concatenation\n",
        "- sort arrays\n",
        "- join multiple arrays\n"
      ],
      "metadata": {
        "id": "WnCvXc3jCdWH"
      }
    },
    {
      "cell_type": "code",
      "source": [
        "a = np.array([[-4,6,8], [9, 3, 1], [1, 8, 5]])\n",
        "\n",
        "b = np.array([[11,16,18], [90, 37, 81], [61, 48, 75]])"
      ],
      "metadata": {
        "id": "Qsg-EPq7EbPx"
      },
      "execution_count": 118,
      "outputs": []
    },
    {
      "cell_type": "code",
      "source": [
        "# Write a NumPy function to sort the array 'a'\n",
        "sort1=np.sort(a)\n",
        "print(sort1)\n",
        "# Write a NumPy function to sort the array 'a' along axis=0\n",
        "sort2=np.sort(a,axis=0)\n",
        "print(sort2)\n",
        "# Write a NumPy function to sort the array 'a' along axis=1\n",
        "sort3=np.sort(a,axis=1)\n",
        "print(sort3)\n",
        "# Write a NumPy function to sort the array 'a' in descending order along axis=0\n",
        "sort4=np.sort(a,axis=0)[::-1]\n",
        "print(sort4)"
      ],
      "metadata": {
        "id": "_7VfP1anCc0O",
        "colab": {
          "base_uri": "https://localhost:8080/"
        },
        "outputId": "b331511d-cc0f-461f-e334-eecb14c2da96"
      },
      "execution_count": 119,
      "outputs": [
        {
          "output_type": "stream",
          "name": "stdout",
          "text": [
            "[[-4  6  8]\n",
            " [ 1  3  9]\n",
            " [ 1  5  8]]\n",
            "[[-4  3  1]\n",
            " [ 1  6  5]\n",
            " [ 9  8  8]]\n",
            "[[-4  6  8]\n",
            " [ 1  3  9]\n",
            " [ 1  5  8]]\n",
            "[[ 9  8  8]\n",
            " [ 1  6  5]\n",
            " [-4  3  1]]\n"
          ]
        }
      ]
    },
    {
      "cell_type": "code",
      "source": [
        "# Write a NumPy function to argsort the array along axis=0\n",
        "sort5=np.argsort(a,axis=0)\n",
        "print(sort5)\n",
        "# Write a NumPy function to argsort the array along axis=1\n",
        "sort6=np.argsort(a,axis=1)\n",
        "print(sort6)"
      ],
      "metadata": {
        "id": "6BqbtdLYEWng",
        "colab": {
          "base_uri": "https://localhost:8080/"
        },
        "outputId": "5fbe6603-d5ba-434b-98d2-d8465527bfda"
      },
      "execution_count": 120,
      "outputs": [
        {
          "output_type": "stream",
          "name": "stdout",
          "text": [
            "[[0 1 1]\n",
            " [2 0 2]\n",
            " [1 2 0]]\n",
            "[[0 1 2]\n",
            " [2 1 0]\n",
            " [0 2 1]]\n"
          ]
        }
      ]
    },
    {
      "cell_type": "code",
      "source": [
        "# Write a NumPy function to concatenate the arrays 'a' and 'b'\n",
        "conc1= np.concatenate((a,b))\n",
        "print(conc1)\n",
        "# Write a NumPy function to concatenate the arrays 'a' and 'b' along axis = 0\n",
        "conc2= np.concatenate((a,b),axis=0)\n",
        "print(conc2)\n",
        "# Note: You can do the same function using stacking, discover and try that :)\n",
        "stack1=np.vstack((a,b))   #along columns\n",
        "print(stack1)  #along columns\n",
        "stack2=np.hstack((a,b))   #along rows\n",
        "print(stack2)"
      ],
      "metadata": {
        "id": "cixOoXZhEY8-",
        "colab": {
          "base_uri": "https://localhost:8080/"
        },
        "outputId": "4f16bf69-1f15-4742-9c37-9104e1f906e7"
      },
      "execution_count": 121,
      "outputs": [
        {
          "output_type": "stream",
          "name": "stdout",
          "text": [
            "[[-4  6  8]\n",
            " [ 9  3  1]\n",
            " [ 1  8  5]\n",
            " [11 16 18]\n",
            " [90 37 81]\n",
            " [61 48 75]]\n",
            "[[-4  6  8]\n",
            " [ 9  3  1]\n",
            " [ 1  8  5]\n",
            " [11 16 18]\n",
            " [90 37 81]\n",
            " [61 48 75]]\n",
            "[[-4  6  8]\n",
            " [ 9  3  1]\n",
            " [ 1  8  5]\n",
            " [11 16 18]\n",
            " [90 37 81]\n",
            " [61 48 75]]\n",
            "[[-4  6  8 11 16 18]\n",
            " [ 9  3  1 90 37 81]\n",
            " [ 1  8  5 61 48 75]]\n"
          ]
        }
      ]
    },
    {
      "cell_type": "markdown",
      "source": [
        "### Reshaping arrays\n",
        "- the number of dimensions of the array\n",
        "-  shape of n-dimensional array as a tuple with n elements s.t. $i^{th}$ element is the length of the $i^{th}$ dimension of the array\n",
        "- total number of elements of the array\n",
        "- reshapes the array\n",
        "- flattens multidimensional array into a 1D array\n",
        "- adds new dimensions to the array"
      ],
      "metadata": {
        "id": "aY0j33z2EjNx"
      }
    },
    {
      "cell_type": "code",
      "source": [
        "a = np.array([[4,6,8], [9, 3, 1], [1, 8, 5]])"
      ],
      "metadata": {
        "id": "sStUkoh1FG4N"
      },
      "execution_count": 122,
      "outputs": []
    },
    {
      "cell_type": "code",
      "source": [
        "# Write a NumPy function to get the Number of dimensions\n",
        "d=np.ndim(a)\n",
        "print(d)\n",
        "# Write a NumPy function to get the Shape of the array\n",
        "sha=np.shape(a)\n",
        "print(sha)\n",
        "# Write a NumPy function to get the Size of the array\n",
        "siz=np.size(a)\n",
        "print(siz)"
      ],
      "metadata": {
        "id": "vb35oi57Ev1f",
        "colab": {
          "base_uri": "https://localhost:8080/"
        },
        "outputId": "0ea4e581-387c-46cc-8843-05c6ead39b67"
      },
      "execution_count": 123,
      "outputs": [
        {
          "output_type": "stream",
          "name": "stdout",
          "text": [
            "2\n",
            "(3, 3)\n",
            "9\n"
          ]
        }
      ]
    },
    {
      "cell_type": "code",
      "source": [
        "# Write a NumPy function to Reshape the array 'a' to the dimension (1,9)\n",
        "reshaped=np.reshape(a,(1,9))\n",
        "print(reshaped)"
      ],
      "metadata": {
        "id": "MznU0NWKE54c",
        "colab": {
          "base_uri": "https://localhost:8080/"
        },
        "outputId": "237b9c26-1b80-4a95-e39d-d2d798ff14ca"
      },
      "execution_count": 124,
      "outputs": [
        {
          "output_type": "stream",
          "name": "stdout",
          "text": [
            "[[4 6 8 9 3 1 1 8 5]]\n"
          ]
        }
      ]
    },
    {
      "cell_type": "code",
      "source": [
        "# Write a NumPy function to add a new axis to the array 'a'\n",
        "\n",
        "# Note : Show atleast two different ways of doing this\n",
        "#1st way:\n",
        "ThreeD=a[np.newaxis]\n",
        "print(np.ndim(ThreeD))\n",
        "print(np.shape(ThreeD))\n",
        "#2nd way:\n",
        "ThreeD2= np.expand_dims(a,axis=1)\n",
        "print(np.ndim(ThreeD2))\n",
        "print(np.shape(ThreeD2))"
      ],
      "metadata": {
        "id": "p1dlxcNYE8tv",
        "colab": {
          "base_uri": "https://localhost:8080/"
        },
        "outputId": "61734e14-a589-4323-e617-34d65df19b7f"
      },
      "execution_count": 125,
      "outputs": [
        {
          "output_type": "stream",
          "name": "stdout",
          "text": [
            "3\n",
            "(1, 3, 3)\n",
            "3\n",
            "(3, 1, 3)\n"
          ]
        }
      ]
    },
    {
      "cell_type": "markdown",
      "source": [
        "### Indexing and slicing\n",
        "- NumPy allows indexing array using tuple of nonnegative integers, booleans, array or integers"
      ],
      "metadata": {
        "id": "Ng4xWkwpFtao"
      }
    },
    {
      "cell_type": "code",
      "source": [
        "a = np.array([[4,6,0], [0, 3, 1], [1, 8, 5]])"
      ],
      "metadata": {
        "id": "swrtOhPGGB7r"
      },
      "execution_count": 126,
      "outputs": []
    },
    {
      "cell_type": "code",
      "source": [
        "# Write a NumPy function to index and slice NumPy arrays similar to Python lists\n",
        "print(a[1,1])\n",
        "print(a[1:3,0:2])\n",
        "# Show all three - indexing by a integer, indexing by a tuple, using range\n",
        "#indexing by integer\n",
        "print(a[[0,1,2],[0,1,2]])\n",
        "#indexing by a tuple\n",
        "print(a[(0,1,2)[0]])\n",
        "#indexing using range\n",
        "for i in range(3):\n",
        "  for j in range(3):\n",
        "     print(a[i][j])"
      ],
      "metadata": {
        "id": "w3QaVYRyFs77",
        "colab": {
          "base_uri": "https://localhost:8080/"
        },
        "outputId": "076c122b-46c0-4831-e579-6050868c1c48"
      },
      "execution_count": 127,
      "outputs": [
        {
          "output_type": "stream",
          "name": "stdout",
          "text": [
            "3\n",
            "[[0 3]\n",
            " [1 8]]\n",
            "[4 3 5]\n",
            "[4 6 0]\n",
            "4\n",
            "6\n",
            "0\n",
            "0\n",
            "3\n",
            "1\n",
            "1\n",
            "8\n",
            "5\n"
          ]
        }
      ]
    },
    {
      "cell_type": "code",
      "source": [
        "# Write a NumPy function to select values satisfying a specific condition like Values greater than 4\n",
        "selected= np.extract([a>4],[a])\n",
        "print(selected)\n",
        "# Write a NumPy function to select values satisfying mulitple conditions like Values greater than 4 and divisible by 2\n",
        "selectedM=np.extract([(a>4) & (a%2==0)],[a])\n",
        "print(selectedM)"
      ],
      "metadata": {
        "id": "Xn2_z5h-Fmrd",
        "colab": {
          "base_uri": "https://localhost:8080/"
        },
        "outputId": "ac5a203d-5802-4ac3-f6b1-2be0973a1366"
      },
      "execution_count": 150,
      "outputs": [
        {
          "output_type": "stream",
          "name": "stdout",
          "text": [
            "[6 8 5]\n",
            "[6 8]\n"
          ]
        }
      ]
    },
    {
      "cell_type": "markdown",
      "source": [
        "### Copying arrays\n",
        "- new array object with a copy of the data\n",
        "- Changes made in the copy array is not reflected in the original array"
      ],
      "metadata": {
        "id": "GWU0EfaAG2ll"
      }
    },
    {
      "cell_type": "code",
      "source": [
        "a = np.array([[4,6,0], [0, 3, 1], [1, 8, 5]])"
      ],
      "metadata": {
        "id": "ijdgy02lHMJW"
      },
      "execution_count": 129,
      "outputs": []
    },
    {
      "cell_type": "code",
      "source": [
        "# Write a NumPy function to copy the array 'a' and finally print an array where all elements are increased by 1\n",
        "copied=np.copy(a)\n",
        "copied+=1\n",
        "print(copied)"
      ],
      "metadata": {
        "id": "FmgUdh66GuQH",
        "colab": {
          "base_uri": "https://localhost:8080/"
        },
        "outputId": "15106d4a-a7a8-45c9-9d5c-3e5d67b61d29"
      },
      "execution_count": 130,
      "outputs": [
        {
          "output_type": "stream",
          "name": "stdout",
          "text": [
            "[[5 7 1]\n",
            " [1 4 2]\n",
            " [2 9 6]]\n"
          ]
        }
      ]
    },
    {
      "cell_type": "markdown",
      "source": [
        "## Pandas ( Python Data Analysis Library)\n",
        "\n",
        "### Main Features\n",
        "- Easy handling of missing data in both floating point and non-floating point data.\n",
        "- Automatic and explicit data alignment, making it easy to perform computations and transformations on data sets.\n",
        "\n"
      ],
      "metadata": {
        "id": "M1KLD5QxHsVw"
      }
    },
    {
      "cell_type": "markdown",
      "source": [
        "#### Generating the dataset"
      ],
      "metadata": {
        "id": "v1CuU3FeIq1a"
      }
    },
    {
      "cell_type": "markdown",
      "source": [
        "Run the following load command to get the 2-Dim iris dataset. Do the following operations on it and please dont edit this cell"
      ],
      "metadata": {
        "id": "fp36ZqOMIy7k"
      }
    },
    {
      "cell_type": "code",
      "source": [
        "import pandas as pd"
      ],
      "metadata": {
        "id": "3X7bVtF-T10_"
      },
      "execution_count": 131,
      "outputs": []
    },
    {
      "cell_type": "code",
      "source": [
        "url = 'https://archive.ics.uci.edu/ml/machine-learning-databases/iris/iris.data'\n",
        "iris_2d = np.genfromtxt(url, delimiter=',', dtype='float', usecols=[0,1,2,3])"
      ],
      "metadata": {
        "id": "A_O5RTBXIyK-"
      },
      "execution_count": 132,
      "outputs": []
    },
    {
      "cell_type": "markdown",
      "source": [
        "#### Basic Data Analysis"
      ],
      "metadata": {
        "id": "EILb6pPrS8Ju"
      }
    },
    {
      "cell_type": "code",
      "source": [
        "# Write a Pandas function to drop rows that contain a missing value.\n",
        "\n",
        "dframe=pd.DataFrame(iris_2d)\n",
        "afterDrop=dframe.dropna()\n",
        "print(afterDrop)"
      ],
      "metadata": {
        "id": "bViO1LLoI7sz",
        "colab": {
          "base_uri": "https://localhost:8080/"
        },
        "outputId": "f58b606d-fa01-469c-c8cc-b4f445603016"
      },
      "execution_count": 133,
      "outputs": [
        {
          "output_type": "stream",
          "name": "stdout",
          "text": [
            "       0    1    2    3\n",
            "0    5.1  3.5  1.4  0.2\n",
            "1    4.9  3.0  1.4  0.2\n",
            "2    4.7  3.2  1.3  0.2\n",
            "3    4.6  3.1  1.5  0.2\n",
            "4    5.0  3.6  1.4  0.2\n",
            "..   ...  ...  ...  ...\n",
            "145  6.7  3.0  5.2  2.3\n",
            "146  6.3  2.5  5.0  1.9\n",
            "147  6.5  3.0  5.2  2.0\n",
            "148  6.2  3.4  5.4  2.3\n",
            "149  5.9  3.0  5.1  1.8\n",
            "\n",
            "[150 rows x 4 columns]\n"
          ]
        }
      ]
    },
    {
      "cell_type": "code",
      "source": [
        "# Write a Pandas function to find the correlation between the first two columns.\n",
        "correlation=dframe[0].corr(dframe[1])\n",
        "print(correlation)"
      ],
      "metadata": {
        "id": "zp_BYv5EJDjJ",
        "colab": {
          "base_uri": "https://localhost:8080/"
        },
        "outputId": "acab38d5-e4b7-44d8-aa07-1d661af653a1"
      },
      "execution_count": 134,
      "outputs": [
        {
          "output_type": "stream",
          "name": "stdout",
          "text": [
            "-0.10936924995064937\n"
          ]
        }
      ]
    },
    {
      "cell_type": "code",
      "source": [
        "# Write a Pandas function to find the mean, median and standard deviation of column 3.\n",
        "mean=dframe[2].mean()\n",
        "print(mean)\n",
        "median=dframe[2].median()\n",
        "print(median)\n",
        "std=dframe[2].std()\n",
        "print(std)\n"
      ],
      "metadata": {
        "id": "0mjeoZCwJDoW",
        "colab": {
          "base_uri": "https://localhost:8080/"
        },
        "outputId": "af5514a8-1ca6-4341-96cf-8bce2d1508ad"
      },
      "execution_count": 135,
      "outputs": [
        {
          "output_type": "stream",
          "name": "stdout",
          "text": [
            "3.758666666666666\n",
            "4.35\n",
            "1.7644204199522626\n"
          ]
        }
      ]
    },
    {
      "cell_type": "code",
      "source": [
        "# Write a Pandas function to create a new column for volume in iris_2d, where volume is (pi x petallength x sepal_length^2)/3\n",
        "# Hints:\n",
        "# 1. Introduce new dimension to match iris_2d's\n",
        "# 2. Add the new column\n",
        "\n",
        "dframe['Volume'] = (np.pi * dframe[2] * dframe[0]**2) / 3\n",
        "print(dframe)"
      ],
      "metadata": {
        "id": "bRiYEhWTJDrM",
        "colab": {
          "base_uri": "https://localhost:8080/"
        },
        "outputId": "d81a5fa9-28d2-44bc-9aee-6e5f6bd0f429"
      },
      "execution_count": 151,
      "outputs": [
        {
          "output_type": "stream",
          "name": "stdout",
          "text": [
            "       0    1    2    3      Volume\n",
            "0    5.1  3.5  1.4  0.2   38.132652\n",
            "1    4.9  3.0  1.4  0.2   35.200498\n",
            "2    4.7  3.2  1.3  0.2   30.072372\n",
            "3    4.6  3.1  1.5  0.2   33.238050\n",
            "4    5.0  3.6  1.4  0.2   36.651914\n",
            "..   ...  ...  ...  ...         ...\n",
            "145  6.7  3.0  5.2  2.3  244.445230\n",
            "146  6.3  2.5  5.0  1.9  207.816354\n",
            "147  6.5  3.0  5.2  2.0  230.069302\n",
            "148  6.2  3.4  5.4  2.3  217.373079\n",
            "149  5.9  3.0  5.1  1.8  185.910028\n",
            "\n",
            "[150 rows x 5 columns]\n"
          ]
        }
      ]
    },
    {
      "cell_type": "markdown",
      "source": [
        "# Section B *(2 Marks each)*"
      ],
      "metadata": {
        "id": "dGqrG93ELEQ3"
      }
    },
    {
      "cell_type": "markdown",
      "source": [
        "###NumPy"
      ],
      "metadata": {
        "id": "OLm8jv7tMH6h"
      }
    },
    {
      "cell_type": "markdown",
      "source": [
        "Q1 Let x = np.arange(4, dtype=np.int64). Create an array of ones with the same shape and type as X."
      ],
      "metadata": {
        "id": "zE1n0x7ZLRLU"
      }
    },
    {
      "cell_type": "code",
      "source": [
        "import numpy as np\n",
        "x = np.arange(4, dtype=np.int64)"
      ],
      "metadata": {
        "id": "KmlMhLH8rPOE"
      },
      "execution_count": 137,
      "outputs": []
    },
    {
      "cell_type": "code",
      "source": [
        "copy=np.ones_like(x)\n",
        "print(copy)"
      ],
      "metadata": {
        "id": "H8o9C6b7LJzA",
        "colab": {
          "base_uri": "https://localhost:8080/"
        },
        "outputId": "223acdec-3fa8-44d7-9c21-6e0aae64451a"
      },
      "execution_count": 138,
      "outputs": [
        {
          "output_type": "stream",
          "name": "stdout",
          "text": [
            "[1 1 1 1]\n"
          ]
        }
      ]
    },
    {
      "cell_type": "markdown",
      "source": [
        "Q2 Let x be an array [1, 2, 3, ..., 9]. Split x into 3 arrays, each of which has 4, 2, and 3 elements in the original order."
      ],
      "metadata": {
        "id": "PPYeTqoHLSNj"
      }
    },
    {
      "cell_type": "code",
      "source": [
        "arr=np.array([1,2,3,4,5,6,7,8,9])\n",
        "split=np.split(arr,[4,6])\n",
        "print(split)"
      ],
      "metadata": {
        "id": "DS9mr30LLYdg",
        "colab": {
          "base_uri": "https://localhost:8080/"
        },
        "outputId": "d6ef1480-d848-4930-d1e8-c77a2cbebb0f"
      },
      "execution_count": 139,
      "outputs": [
        {
          "output_type": "stream",
          "name": "stdout",
          "text": [
            "[array([1, 2, 3, 4]), array([5, 6]), array([7, 8, 9])]\n"
          ]
        }
      ]
    },
    {
      "cell_type": "markdown",
      "source": [
        "Q3 Initiate x as a 2x5 array with random values from 0 to 10(not inclusive).Get the maximum and minimum values and their indices of x along the second axis."
      ],
      "metadata": {
        "id": "b1wJaooRLXjN"
      }
    },
    {
      "cell_type": "code",
      "source": [
        "x=np.arange(0,10)\n",
        "x=x.reshape(2,5)\n",
        "print(x)\n",
        "\n",
        "max_value = np.max(x, axis=1)\n",
        "max_indices = np.argmax(x, axis=1)\n",
        "print(max_value)\n",
        "print(max_indices)\n",
        "\n",
        "min_value = np.min(x, axis=1)\n",
        "min_indices = np.argmin(x, axis=1)\n",
        "print(min_value)\n",
        "print(min_indices)"
      ],
      "metadata": {
        "id": "GnXDqksjLf89",
        "colab": {
          "base_uri": "https://localhost:8080/"
        },
        "outputId": "6a74d2bd-fc34-4df0-ac6e-7615006f8c14"
      },
      "execution_count": 140,
      "outputs": [
        {
          "output_type": "stream",
          "name": "stdout",
          "text": [
            "[[0 1 2 3 4]\n",
            " [5 6 7 8 9]]\n",
            "[4 9]\n",
            "[4 4]\n",
            "[0 5]\n",
            "[0 0]\n"
          ]
        }
      ]
    },
    {
      "cell_type": "markdown",
      "source": [
        "### Pandas"
      ],
      "metadata": {
        "id": "8_Q7fbyxMMHM"
      }
    },
    {
      "cell_type": "markdown",
      "source": [
        "Run the following load command and solve the following questions"
      ],
      "metadata": {
        "id": "3QpaFHkxJUho"
      }
    },
    {
      "cell_type": "code",
      "source": [
        "import pandas as pd"
      ],
      "metadata": {
        "id": "_G1SO2ZDNPjl"
      },
      "execution_count": 141,
      "outputs": []
    },
    {
      "cell_type": "code",
      "source": [
        "url = 'https://archive.ics.uci.edu/ml/machine-learning-databases/iris/iris.data'\n",
        "iris = np.genfromtxt(url, delimiter=',', dtype='object')\n",
        "names = ('sepallength', 'sepalwidth', 'petallength', 'petalwidth', 'species')"
      ],
      "metadata": {
        "id": "mLdcY49iJDtl"
      },
      "execution_count": 142,
      "outputs": []
    },
    {
      "cell_type": "code",
      "source": [
        "dataFrame=pd.DataFrame(iris)\n",
        "print(dataFrame)\n"
      ],
      "metadata": {
        "colab": {
          "base_uri": "https://localhost:8080/"
        },
        "id": "SBOKcO5wM5fx",
        "outputId": "21897d14-ddc9-48b9-b080-3889bedda455"
      },
      "execution_count": 143,
      "outputs": [
        {
          "output_type": "stream",
          "name": "stdout",
          "text": [
            "          0       1       2       3                  4\n",
            "0    b'5.1'  b'3.5'  b'1.4'  b'0.2'     b'Iris-setosa'\n",
            "1    b'4.9'  b'3.0'  b'1.4'  b'0.2'     b'Iris-setosa'\n",
            "2    b'4.7'  b'3.2'  b'1.3'  b'0.2'     b'Iris-setosa'\n",
            "3    b'4.6'  b'3.1'  b'1.5'  b'0.2'     b'Iris-setosa'\n",
            "4    b'5.0'  b'3.6'  b'1.4'  b'0.2'     b'Iris-setosa'\n",
            "..      ...     ...     ...     ...                ...\n",
            "145  b'6.7'  b'3.0'  b'5.2'  b'2.3'  b'Iris-virginica'\n",
            "146  b'6.3'  b'2.5'  b'5.0'  b'1.9'  b'Iris-virginica'\n",
            "147  b'6.5'  b'3.0'  b'5.2'  b'2.0'  b'Iris-virginica'\n",
            "148  b'6.2'  b'3.4'  b'5.4'  b'2.3'  b'Iris-virginica'\n",
            "149  b'5.9'  b'3.0'  b'5.1'  b'1.8'  b'Iris-virginica'\n",
            "\n",
            "[150 rows x 5 columns]\n"
          ]
        }
      ]
    },
    {
      "cell_type": "markdown",
      "source": [
        "Q4 Write a Pandas function to find the count of unique species."
      ],
      "metadata": {
        "id": "zbDepnx9RtV8"
      }
    },
    {
      "cell_type": "code",
      "source": [
        "count=dataFrame.nunique()\n",
        "print(count)"
      ],
      "metadata": {
        "id": "oAkO0UnqJDv7",
        "colab": {
          "base_uri": "https://localhost:8080/"
        },
        "outputId": "8a751acb-6506-461f-ee2e-22cb6a443b26"
      },
      "execution_count": 144,
      "outputs": [
        {
          "output_type": "stream",
          "name": "stdout",
          "text": [
            "0    35\n",
            "1    23\n",
            "2    43\n",
            "3    22\n",
            "4     3\n",
            "dtype: int64\n"
          ]
        }
      ]
    },
    {
      "cell_type": "markdown",
      "source": [
        "# Q5 Write a Pandas function to bin the petal length (3rd) column of iris_2d to form a text array, such that if petal length is:\n",
        "- Less than 3 –> ‘small’\n",
        "- 3-5 –> ‘medium’\n",
        "- greater than equal to 5 –> ‘large’"
      ],
      "metadata": {
        "id": "Usj5HlvyRxal"
      }
    },
    {
      "cell_type": "code",
      "source": [
        "    dataFrame[2]=dataFrame[2].astype(float)\n",
        "    bins = [0, 2.9, 4.9, float('inf')]\n",
        "    labels = ['small', 'medium', 'large']\n",
        "\n",
        "    dataFrame['petal_length'] = pd.cut(dataFrame[2], bins=bins, labels=labels)\n",
        "    print(dataFrame)\n",
        "\n",
        "\n"
      ],
      "metadata": {
        "id": "gTWWJoLMJDxx",
        "colab": {
          "base_uri": "https://localhost:8080/"
        },
        "outputId": "b5186c15-da4c-4493-f3bc-fd2f6ca18b90"
      },
      "execution_count": 145,
      "outputs": [
        {
          "output_type": "stream",
          "name": "stdout",
          "text": [
            "          0       1    2       3                  4 petal_length\n",
            "0    b'5.1'  b'3.5'  1.4  b'0.2'     b'Iris-setosa'        small\n",
            "1    b'4.9'  b'3.0'  1.4  b'0.2'     b'Iris-setosa'        small\n",
            "2    b'4.7'  b'3.2'  1.3  b'0.2'     b'Iris-setosa'        small\n",
            "3    b'4.6'  b'3.1'  1.5  b'0.2'     b'Iris-setosa'        small\n",
            "4    b'5.0'  b'3.6'  1.4  b'0.2'     b'Iris-setosa'        small\n",
            "..      ...     ...  ...     ...                ...          ...\n",
            "145  b'6.7'  b'3.0'  5.2  b'2.3'  b'Iris-virginica'        large\n",
            "146  b'6.3'  b'2.5'  5.0  b'1.9'  b'Iris-virginica'        large\n",
            "147  b'6.5'  b'3.0'  5.2  b'2.0'  b'Iris-virginica'        large\n",
            "148  b'6.2'  b'3.4'  5.4  b'2.3'  b'Iris-virginica'        large\n",
            "149  b'5.9'  b'3.0'  5.1  b'1.8'  b'Iris-virginica'        large\n",
            "\n",
            "[150 rows x 6 columns]\n"
          ]
        }
      ]
    },
    {
      "cell_type": "markdown",
      "source": [
        "Q6 Write a Pandas function to find the most frequent value of petal length (3rd column) in iris dataset"
      ],
      "metadata": {
        "id": "IbBYP_8sSBrB"
      }
    },
    {
      "cell_type": "code",
      "source": [
        "most_frequent = dataFrame[2].mode()\n",
        "print(most_frequent)"
      ],
      "metadata": {
        "id": "DNk_tlVWJufR",
        "colab": {
          "base_uri": "https://localhost:8080/"
        },
        "outputId": "84d7a982-3a72-4bd4-e238-d4e564cca847"
      },
      "execution_count": 146,
      "outputs": [
        {
          "output_type": "stream",
          "name": "stdout",
          "text": [
            "0    1.5\n",
            "Name: 2, dtype: float64\n"
          ]
        }
      ]
    }
  ]
}