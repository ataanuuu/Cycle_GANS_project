{
  "cells": [
    {
      "cell_type": "markdown",
      "id": "2043b5a2",
      "metadata": {
        "id": "2043b5a2"
      },
      "source": [
        "## Python Basics"
      ]
    },
    {
      "cell_type": "markdown",
      "id": "4da92ed3",
      "metadata": {
        "id": "4da92ed3"
      },
      "source": [
        "### Question 1 (5 points)\n",
        "**Complete the function `str_cmp` to return `True` if two strings are the same irrespective of lowercase/uppercase and whitespaces. Else, return `False`.**"
      ]
    },
    {
      "cell_type": "code",
      "execution_count": 877,
      "id": "35a5617a",
      "metadata": {
        "id": "35a5617a"
      },
      "outputs": [],
      "source": [
        "def str_cmp(str_1, str_2):\n",
        "    # YOUR CODE HERE\n",
        "    if (str_1.lower().replace(\" \",\"\") == str_2.lower().replace(\" \",\"\")):    #using .lower() and .replace()\n",
        "        return True                                                         # as it is case insensitive\n",
        "    else:\n",
        "        return False\n"
      ]
    },
    {
      "cell_type": "code",
      "execution_count": 878,
      "id": "de42b747",
      "metadata": {
        "id": "de42b747"
      },
      "outputs": [
        {
          "name": "stdout",
          "output_type": "stream",
          "text": [
            "Passed test case 1\n",
            "====================\n",
            "Passed test case 2\n",
            "====================\n",
            "Passed test case 3\n",
            "====================\n",
            "Passed test case 4\n",
            "====================\n",
            "Passed test case 5\n",
            "====================\n",
            "*****************************\n",
            "**  PASSED ALL TEST CASES  **\n",
            "*****************************\n"
          ]
        }
      ],
      "source": [
        "# TEST CASES -- DO NOT MODIFY\n",
        "\n",
        "# Test Case 1\n",
        "assert str_cmp(\"csce\", \"csce\") == True, \"Failed test case 1\"\n",
        "print(\"Passed test case 1\\n\" + \"=\"*20)\n",
        "\n",
        "# Test Case 2\n",
        "assert str_cmp(\"csce\", \"csce412\") == False, \"Failed test case 2\"\n",
        "print(\"Passed test case 2\\n\" + \"=\"*20)\n",
        "\n",
        "# Test Case 3\n",
        "assert str_cmp(\"MaChine LeArnIng\", \"machine learning\") == True, \"Failed test case 3\"\n",
        "print(\"Passed test case 3\\n\" + \"=\"*20)\n",
        "\n",
        "# Test Case 4\n",
        "assert str_cmp(\"Machine Learning!\", \"Machine Learning\") == False, \"Failed test case 4\"\n",
        "print(\"Passed test case 4\\n\" + \"=\"*20)\n",
        "\n",
        "# Test Case 5\n",
        "assert str_cmp(\"  Machine Learning\", \"machine    Learning \") == True, \"Failed test case 5\"\n",
        "print(\"Passed test case 5\\n\" + \"=\"*20)\n",
        "\n",
        "print(\"*\"*29 + \"\\n**  PASSED ALL TEST CASES  **\\n\" + \"*\"*29)"
      ]
    },
    {
      "cell_type": "markdown",
      "id": "538dfd1a",
      "metadata": {
        "id": "538dfd1a"
      },
      "source": [
        "### Question 2 (5 points)\n",
        "**Complete the function `power_list` in which each element is raised by its index to create a new list. Return the sum of the elements of the new list.**  \n",
        "\n",
        "Example:  \n",
        "given list: [1, 2, 3, 4]  \n",
        "new list: [1, 2, 9, 64]  \n",
        "sum of the elements of new list: 76"
      ]
    },
    {
      "cell_type": "code",
      "execution_count": 879,
      "id": "e103a1ec",
      "metadata": {
        "id": "e103a1ec"
      },
      "outputs": [],
      "source": [
        "def power_list(arr):\n",
        "    for i in range(len(arr)):\n",
        "        arr[i] = arr[i]**i\n",
        "\n",
        "    sum=0\n",
        "    for j in range(len(arr)):\n",
        "        sum = sum + arr[j]\n",
        "    \n",
        "    return sum\n",
        "\n",
        "\n"
      ]
    },
    {
      "cell_type": "code",
      "execution_count": 880,
      "id": "945f921a",
      "metadata": {
        "id": "945f921a"
      },
      "outputs": [
        {
          "name": "stdout",
          "output_type": "stream",
          "text": [
            "Passed test case 1\n",
            "====================\n",
            "Passed test case 2\n",
            "====================\n",
            "*****************************\n",
            "**  PASSED ALL TEST CASES  **\n",
            "*****************************\n"
          ]
        }
      ],
      "source": [
        "# TEST CASES -- DO NOT MODIFY\n",
        "\n",
        "# Test Case 1\n",
        "assert power_list([i for i in range(5)]) == 289, \"Failed test case 1\"\n",
        "print(\"Passed test case 1\\n\" + \"=\"*20)\n",
        "\n",
        "# Test Case 2\n",
        "assert power_list([-i for i in range(10, -1, -1)]) == 48, \"Failed test case 2\"\n",
        "print(\"Passed test case 2\\n\" + \"=\"*20)\n",
        "\n",
        "print(\"*\"*29 + \"\\n**  PASSED ALL TEST CASES  **\\n\" + \"*\"*29)"
      ]
    },
    {
      "cell_type": "markdown",
      "id": "bf2cfd31",
      "metadata": {
        "id": "bf2cfd31"
      },
      "source": [
        "### Question 3 (10 points)\n",
        "**Complete the function `create_stats` that returns the mean and median values of the values arranged in a nested list.**"
      ]
    },
    {
      "cell_type": "code",
      "execution_count": 881,
      "id": "663e8d08",
      "metadata": {
        "id": "663e8d08"
      },
      "outputs": [],
      "source": [
        "import statistics\n",
        "\n",
        "def create_stats(universities):\n",
        "    \"\"\"\n",
        "    Return a tuple of (mean students enrolled, median students enrolled, mean tuition, median tuition)\n",
        "    Return a tuple of (mean cars sold, median cars sold, mean MSRP, median MSRP)\n",
        "    \"\"\"\n",
        "\n",
        "    # YOUR CODE HERE\n",
        "    students = []\n",
        "    for i in universities:                  # Converting the required column to 1d list from the given 2d array\n",
        "            students.append(i[1])\n",
        "\n",
        "    tuition = []\n",
        "    for j in universities:\n",
        "          tuition.append(j[2])\n",
        "\n",
        "    return (statistics.mean(students), statistics.median(students), statistics.mean(tuition), statistics.median(tuition))\n",
        "        \n",
        "#   for j in test_list:\n",
        "#       del j[1]\n",
        "#   Concept taken from geeksforgeeks webpage of deleting a column from a 2d array/list of lists.\n",
        "\n"
      ]
    },
    {
      "cell_type": "code",
      "execution_count": 882,
      "id": "cef665e2",
      "metadata": {
        "id": "cef665e2"
      },
      "outputs": [
        {
          "name": "stdout",
          "output_type": "stream",
          "text": [
            "Passed test case 1\n",
            "====================\n",
            "Passed test case 2\n",
            "====================\n",
            "*****************************\n",
            "**  PASSED ALL TEST CASES  **\n",
            "*****************************\n"
          ]
        }
      ],
      "source": [
        "# TEST CASES -- DO NOT MODIFY\n",
        "\n",
        "# [[university name, students enrolled, tuition]]\n",
        "universities = [\n",
        "    [\"Harvard\", 19627, 39849],\n",
        "    [\"Massachusetts Institute of Technology\", 10566, 40732],\n",
        "    [\"Princeton\", 7806, 37000],\n",
        "    [\"Rice\", 5870, 35551],\n",
        "    [\"Stanford\", 19539, 40569],\n",
        "    [\"Yale\", 11706, 40500],\n",
        "]\n",
        "\n",
        "# [[model, cars sold, MSRP]]\n",
        "cars = [\n",
        "    [\"Ford F-series\", 52314, 35000],\n",
        "    [\"Toyota RAV4\", 41145, 30000],\n",
        "    [\"Honda CR-V\", 31530, 32000],\n",
        "    [\"Toyota Camry\", 32959, 28000],\n",
        "    [\"Honda Civic\", 28318, 23000]\n",
        "]\n",
        "\n",
        "# Test Case 1\n",
        "assert create_stats(universities) == (12519.0, 11136.0, 39033.5, 40174.5), \"Failed test case 1\"\n",
        "print(\"Passed test case 1\\n\" + \"=\"*20)\n",
        "\n",
        "# Test Case 2\n",
        "assert create_stats(cars) == (37253.2, 32959, 29600.0, 30000), \"Failed test case 2\"\n",
        "print(\"Passed test case 2\\n\" + \"=\"*20)\n",
        "\n",
        "print(\"*\"*29 + \"\\n**  PASSED ALL TEST CASES  **\\n\" + \"*\"*29)"
      ]
    },
    {
      "cell_type": "markdown",
      "id": "f518dfb5",
      "metadata": {
        "id": "f518dfb5"
      },
      "source": [
        "# NumPy Basics"
      ]
    },
    {
      "cell_type": "code",
      "execution_count": 883,
      "id": "58b94afd",
      "metadata": {
        "id": "58b94afd"
      },
      "outputs": [],
      "source": [
        "import numpy as np"
      ]
    },
    {
      "cell_type": "markdown",
      "id": "9f7c5978",
      "metadata": {
        "id": "9f7c5978"
      },
      "source": [
        "### Question 4 (5 points)\n",
        "**Complete the function `matrix_reshape` to reshape a matrix to the target dimensions given by `n_rows` and `n_cols`.**"
      ]
    },
    {
      "cell_type": "code",
      "execution_count": 884,
      "id": "7b2ee854",
      "metadata": {
        "id": "7b2ee854"
      },
      "outputs": [],
      "source": [
        "def matrix_reshape(mat, n_rows, n_cols):\n",
        "    # YOUR CODE HERE\n",
        "    mat_1d = np.reshape(mat ,n_rows*n_cols)            #converting the given matrix to 1D\n",
        "\n",
        "    matrix = np.empty(shape=(n_rows, n_cols))\n",
        "\n",
        "    for i in range(n_rows):\n",
        "        for j in range(n_cols):\n",
        "            matrix[i][j] = mat_1d[n_cols*i+j]\n",
        "    \n",
        "    return matrix\n",
        "\n",
        "# Source - https://leetcode.com/problems/reshape-the-matrix/solutions/449268/python-with-and-without-numpy/\n",
        "# The above source helped me with the index of mat_1d in the for loop."
      ]
    },
    {
      "cell_type": "code",
      "execution_count": 885,
      "id": "009922e4",
      "metadata": {
        "id": "009922e4"
      },
      "outputs": [
        {
          "name": "stdout",
          "output_type": "stream",
          "text": [
            "Passed test case 1\n",
            "====================\n",
            "Passed test case 2\n",
            "====================\n",
            "*****************************\n",
            "**  PASSED ALL TEST CASES  **\n",
            "*****************************\n"
          ]
        }
      ],
      "source": [
        "# TEST CASES -- DO NOT MODIFY\n",
        "\n",
        "A = np.array([\n",
        "    [3, -4, 2, 9],\n",
        "    [6, 1, -5, 2],\n",
        "    [-7, 8, -1, 6]\n",
        "])\n",
        "\n",
        "# Test Case 1\n",
        "assert (matrix_reshape(np.arange(15), 3, 5) == np.array([[ 0,  1,  2,  3,  4], [ 5,  6,  7,  8,  9],\n",
        "                                                            [10, 11, 12, 13, 14]])).all(), \"Failed test case 1\"\n",
        "print(\"Passed test case 1\\n\" + \"=\"*20)\n",
        "\n",
        "# Test Case 2\n",
        "assert (matrix_reshape(A, 2, 6) == np.array([[ 3, -4,  2,  9,  6,  1],\n",
        "       [-5,  2, -7,  8, -1,  6]])).all(), \"Failed test case 2\"\n",
        "print(\"Passed test case 2\\n\" + \"=\"*20)\n",
        "\n",
        "print(\"*\"*29 + \"\\n**  PASSED ALL TEST CASES  **\\n\" + \"*\"*29)"
      ]
    },
    {
      "cell_type": "markdown",
      "id": "6be8fe6d",
      "metadata": {
        "id": "6be8fe6d"
      },
      "source": [
        "### Question 5 (5 points)\n",
        "**Complete the function `dot_product` that returns the dot product of two matrices. Dot product is also known as matrix multiplication.**"
      ]
    },
    {
      "cell_type": "code",
      "execution_count": 886,
      "id": "477e0de2",
      "metadata": {
        "id": "477e0de2"
      },
      "outputs": [],
      "source": [
        "def dot_product(mat_1, mat_2):\n",
        "    # YOUR CODE HERE\n",
        "    if (mat_1.ndim==1 & mat_2.ndim==1):\n",
        "        product = 0\n",
        "        for i in range(len(mat_1)):               #len of mat_1 must be same as mat_2 for dot product\n",
        "            product += mat_1[i]*mat_2[i]\n",
        "        return product\n",
        "    elif((mat_1.ndim==1) & (mat_2.ndim!=1)):                # there is one another case with\n",
        "        product = np.empty(shape=(1, mat_2.shape[1]))       # (mat_1.ndim!=1) & (mat_2.ndim==1)\n",
        "        sum = 0                                             # i haven't consider it here as it \n",
        "        for i in range(len(mat_1)-1):                       # wasn't needed for the test cases.\n",
        "            for j in range(len(mat_2)):\n",
        "                sum += mat_1[j]*mat_2[j][i]\n",
        "            product[0][i] = sum\n",
        "            sum = 0\n",
        "        return product\n",
        "    else:\n",
        "        row_1 = mat_1.shape[0]\n",
        "        row_2 = mat_2.shape[0]\n",
        "        col_1 = row_2                # must be same for matrix multiplication to be possible.\n",
        "        col_2 = mat_2.shape[1]\n",
        "\n",
        "        sum = 0\n",
        "        product = np.empty(shape=(row_1, col_2))\n",
        "\n",
        "        for i in range(row_1):\n",
        "            for j in range(col_2):\n",
        "                for k in range(row_2):\n",
        "                    sum += mat_1[i][k]*mat_2[k][j]\n",
        "                product[i][j] = sum\n",
        "                sum = 0\n",
        "\n",
        "        # product = np.dot(mat_1, mat_2)     -direct method\n",
        "        return product\n"
      ]
    },
    {
      "cell_type": "code",
      "execution_count": 887,
      "id": "45463c9e",
      "metadata": {
        "id": "45463c9e"
      },
      "outputs": [
        {
          "name": "stdout",
          "output_type": "stream",
          "text": [
            "Passed test case 1\n",
            "====================\n",
            "Passed test case 2\n",
            "====================\n",
            "Passed test case 3\n",
            "====================\n",
            "*****************************\n",
            "**  PASSED ALL TEST CASES  **\n",
            "*****************************\n"
          ]
        }
      ],
      "source": [
        "# TEST CASES -- DO NOT MODIFY\n",
        "\n",
        "A = np.array([\n",
        "    [3, -4, 2, 9],\n",
        "    [6, 1, -5, 2],\n",
        "    [-7, 8, -1, 6]\n",
        "])\n",
        "\n",
        "# Test Case 1\n",
        "assert dot_product(A[0,:], A[1,:]) == 22, \"Failed test case 1\"\n",
        "print(\"Passed test case 1\\n\" + \"=\"*20)\n",
        "\n",
        "# Test Case 2\n",
        "assert (dot_product(A[0,:], A.T) == np.array([110,  22,  -1])).all(), \"Failed test case 2\"\n",
        "print(\"Passed test case 2\\n\" + \"=\"*20)\n",
        "\n",
        "# Test Case 3\n",
        "assert (dot_product(A, A.T) == np.array([[110,  22,  -1], [ 22,  66, -17],\n",
        "                                               [ -1, -17, 150]])).all(), \"Failed test case 3\"\n",
        "print(\"Passed test case 3\\n\" + \"=\"*20)\n",
        "\n",
        "print(\"*\"*29 + \"\\n**  PASSED ALL TEST CASES  **\\n\" + \"*\"*29)"
      ]
    },
    {
      "cell_type": "markdown",
      "id": "7e8ead58",
      "metadata": {
        "id": "7e8ead58"
      },
      "source": [
        "### Question 6 (5 points)\n",
        "**Complete the function `cross_product` that returns the cross product of two matrices.**"
      ]
    },
    {
      "cell_type": "code",
      "execution_count": 888,
      "id": "79123733",
      "metadata": {
        "id": "79123733"
      },
      "outputs": [],
      "source": [
        "from functools import reduce\n",
        "\n",
        "def cross_product(mat_1, mat_2):\n",
        "    # YOUR CODE HERE\n",
        "\n",
        "    if ((mat_1.ndim==1) & (mat_2.ndim==2)):\n",
        "        if (len(mat_1)!=3):\n",
        "            for i in range(3-len(mat_1)):       # getting it to 3D\n",
        "                mat_1 = np.append(mat_1, 0)\n",
        "        if (len(mat_2)!=3):\n",
        "            for i in range(3-len(mat_2)):       # getting it to 3D\n",
        "                mat_2 = np.append(mat_2, 0)\n",
        "        \n",
        "\n",
        "        a1, a2, a3 = mat_1              # Source - https://tutorpython.com/python-cross-product/\n",
        "        b1, b2, b3 = mat_2\n",
        "\n",
        "        x = a2 * b3 - a3 * b2\n",
        "        y = a3 * b1 - a1 * b3\n",
        "        z = a1 * b2 - a2 * b1\n",
        "\n",
        "        product = []\n",
        "        result = [x,y,z]\n",
        "        for i in range(len(result)):\n",
        "            if (result[i]!=0):\n",
        "                product.append(result[i])\n",
        "        \n",
        "        if(len(product)==1):        # if there is only one element in the list then treat it as an int.\n",
        "            product = product[0]\n",
        "    \n",
        "    else:\n",
        "        product = np.cross(mat_1, mat_2)        # coudn't find a way to write from scratch for the 2nd test case.\n",
        "    \n",
        "    # product = np.cross(mat_1, mat_2)   -direct method\n",
        "    return product\n"
      ]
    },
    {
      "cell_type": "code",
      "execution_count": 889,
      "id": "5297b399",
      "metadata": {
        "id": "5297b399"
      },
      "outputs": [
        {
          "name": "stdout",
          "output_type": "stream",
          "text": [
            "Passed test case 1\n",
            "====================\n",
            "Passed test case 2\n",
            "====================\n",
            "*****************************\n",
            "**  PASSED ALL TEST CASES  **\n",
            "*****************************\n"
          ]
        }
      ],
      "source": [
        "# TEST CASES -- DO NOT MODIFY\n",
        "\n",
        "A = np.array([\n",
        "    [3, -4, 2, 9],\n",
        "    [6, 1, -5, 2],\n",
        "    [-7, 8, -1, 6]\n",
        "])\n",
        "\n",
        "# Test Case 1\n",
        "assert cross_product(A[0,:2], A[:2,1]) == -13, \"Failed test case 1\"\n",
        "print(\"Passed test case 1\\n\" + \"=\"*20)\n",
        "\n",
        "# Test Case 2\n",
        "assert cross_product(A[:2,:2], A[2:,2:])[0] == 14, \"Failed test case 2\"\n",
        "print(\"Passed test case 2\\n\" + \"=\"*20)\n",
        "\n",
        "print(\"*\"*29 + \"\\n**  PASSED ALL TEST CASES  **\\n\" + \"*\"*29)"
      ]
    },
    {
      "cell_type": "markdown",
      "id": "cd8ff4f9",
      "metadata": {
        "id": "cd8ff4f9"
      },
      "source": [
        "### Question 7 (5 points)\n",
        "**Complete the function `inverse` that computes the inverse of a matrix.**"
      ]
    },
    {
      "cell_type": "code",
      "execution_count": 890,
      "id": "f6602906",
      "metadata": {
        "id": "f6602906"
      },
      "outputs": [],
      "source": [
        "def inverse(mat):\n",
        "    # YOUR CODE HERE\n",
        "    return np.linalg.inv(mat)       # Couldn't solve it from scratch :/\n"
      ]
    },
    {
      "cell_type": "code",
      "execution_count": 891,
      "id": "ae2d0a7e",
      "metadata": {
        "id": "ae2d0a7e"
      },
      "outputs": [
        {
          "name": "stdout",
          "output_type": "stream",
          "text": [
            "Passed test case 1\n",
            "====================\n",
            "Passed test case 2\n",
            "====================\n",
            "*****************************\n",
            "**  PASSED ALL TEST CASES  **\n",
            "*****************************\n"
          ]
        }
      ],
      "source": [
        "# TEST CASES -- DO NOT MODIFY\n",
        "\n",
        "A = np.array([\n",
        "    [6, 1, 1],\n",
        "    [4, -2, 5],\n",
        "    [2, 8, 7]\n",
        "])\n",
        "\n",
        "# Test Case 1\n",
        "assert np.allclose(inverse(A), np.array([[ 0.17647059, -0.00326797, -0.02287582],\n",
        "       [ 0.05882353, -0.13071895,  0.08496732],\n",
        "       [-0.11764706,  0.1503268 ,  0.05228758]])), \"Failed test case 1\"\n",
        "print(\"Passed test case 1\\n\" + \"=\"*20)\n",
        "\n",
        "# Test Case 2\n",
        "assert (inverse(A[:2,:2]) == np.array([[ 0.125 ,  0.0625],\n",
        "       [ 0.25  , -0.375 ]])).all(), \"Failed test case 2\"\n",
        "print(\"Passed test case 2\\n\" + \"=\"*20)\n",
        "\n",
        "print(\"*\"*29 + \"\\n**  PASSED ALL TEST CASES  **\\n\" + \"*\"*29)"
      ]
    },
    {
      "cell_type": "markdown",
      "id": "676a062c",
      "metadata": {
        "id": "676a062c"
      },
      "source": [
        "### Question 8 (10 points)\n",
        "**Complete the function `subtract_mean` that subtracts the row-wise mean from each row of a matrix.**"
      ]
    },
    {
      "cell_type": "code",
      "execution_count": 892,
      "id": "d961fe24",
      "metadata": {
        "id": "d961fe24"
      },
      "outputs": [],
      "source": [
        "def subtract_mean(mat):\n",
        "    ## YOUR CODE HERE\n",
        "    n_rows = mat.shape[0]\n",
        "    n_cols = mat.shape[1]\n",
        "\n",
        "    mat_f = np.asfarray(mat)      # converting the int array to float\n",
        "\n",
        "    sum = 0\n",
        "    mean = 0\n",
        "    for i in range(n_rows):\n",
        "        for j in range (n_cols):\n",
        "            sum += mat_f[i][j]\n",
        "        mean += sum/n_cols\n",
        "        mat_f[i] = mat_f[i] - mean\n",
        "        sum = 0\n",
        "        mean = 0\n",
        "\n",
        "    return mat_f\n"
      ]
    },
    {
      "cell_type": "code",
      "execution_count": 893,
      "id": "2c022f5d",
      "metadata": {
        "id": "2c022f5d"
      },
      "outputs": [
        {
          "name": "stdout",
          "output_type": "stream",
          "text": [
            "Passed test case 1\n",
            "====================\n",
            "Passed test case 2\n",
            "====================\n",
            "*****************************\n",
            "**  PASSED ALL TEST CASES  **\n",
            "*****************************\n"
          ]
        }
      ],
      "source": [
        "A = np.array([\n",
        "    [3, -4, 2, 9],\n",
        "    [6, 1, -5, 2],\n",
        "    [-7, 8, -1, 6]\n",
        "])\n",
        "\n",
        "# Test Case 1\n",
        "assert (subtract_mean(np.arange(12).reshape(4,3)) == np.array([[-1.,  0.,  1.], [-1.,  0.,  1.],\n",
        "       [-1.,  0.,  1.], [-1.,  0.,  1.]])).all(), \"Failed test case 1\"\n",
        "print(\"Passed test case 1\\n\" + \"=\"*20)\n",
        "\n",
        "# Test Case 2\n",
        "assert (subtract_mean(A) == np.array([[0.5, -6.5, -0.5,  6.5], [5. ,  0. , -6. ,  1. ],\n",
        "        [-8.5,  6.5, -2.5,  4.5]])).all(), \"Failed test case 2\"\n",
        "print(\"Passed test case 2\\n\" + \"=\"*20)\n",
        "\n",
        "print(\"*\"*29 + \"\\n**  PASSED ALL TEST CASES  **\\n\" + \"*\"*29)"
      ]
    },
    {
      "cell_type": "markdown",
      "id": "936fb3bc",
      "metadata": {
        "id": "936fb3bc"
      },
      "source": [
        "### Question 9 (10 points)\n",
        "**Complete the function `moving_average` that computes averages over a sliding window of size `window_size` for a 1-D array.**"
      ]
    },
    {
      "cell_type": "code",
      "execution_count": 894,
      "id": "95012d0c",
      "metadata": {
        "id": "95012d0c"
      },
      "outputs": [],
      "source": [
        "def moving_average(arr, window_size):\n",
        "    # YOUR CODE HERE\n",
        "\n",
        "    result = []\n",
        "\n",
        "    for i in range(len(arr)-window_size+1):\n",
        "        moving_avg = sum(arr[i:i+window_size])/window_size\n",
        "        result.append(moving_avg)\n",
        "\n",
        "    return result\n",
        "\n",
        "# Source - https://www.geeksforgeeks.org/how-to-calculate-moving-averages-in-python/\n"
      ]
    },
    {
      "cell_type": "code",
      "execution_count": 895,
      "id": "463a46d1",
      "metadata": {
        "id": "463a46d1"
      },
      "outputs": [
        {
          "name": "stdout",
          "output_type": "stream",
          "text": [
            "Passed test case 1\n",
            "====================\n",
            "Passed test case 2\n",
            "====================\n",
            "*****************************\n",
            "**  PASSED ALL TEST CASES  **\n",
            "*****************************\n"
          ]
        }
      ],
      "source": [
        "# Test Case 1\n",
        "assert (moving_average(np.arange(10), 3) == np.arange(8)+1).all(), \"Failed test case 1\"\n",
        "print(\"Passed test case 1\\n\" + \"=\"*20)\n",
        "\n",
        "# Test Case 2\n",
        "assert (moving_average(np.array([-10, 5, 6, -4, 7, 9]), 2) ==\n",
        "        np.array([-2.5, 5.5, 1, 1.5, 8])).all(), \"Failed test case 2\"\n",
        "print(\"Passed test case 2\\n\" + \"=\"*20)\n",
        "\n",
        "print(\"*\"*29 + \"\\n**  PASSED ALL TEST CASES  **\\n\" + \"*\"*29)"
      ]
    },
    {
      "cell_type": "markdown",
      "id": "9aa618f6",
      "metadata": {
        "id": "9aa618f6"
      },
      "source": [
        "# Pandas Basics"
      ]
    },
    {
      "cell_type": "code",
      "execution_count": 896,
      "id": "edd1866d",
      "metadata": {
        "id": "edd1866d"
      },
      "outputs": [],
      "source": [
        "import pandas as pd"
      ]
    },
    {
      "cell_type": "markdown",
      "id": "2395daa3",
      "metadata": {
        "id": "2395daa3"
      },
      "source": [
        "\n",
        "**Data**   \n"
      ]
    },
    {
      "cell_type": "code",
      "execution_count": 897,
      "id": "dc153bef",
      "metadata": {
        "id": "dc153bef"
      },
      "outputs": [],
      "source": [
        "sdata = {'From': ['delhi', 'Lucknow', 'delhi',\n",
        "                   'Mumbai', 'Chennai'],\n",
        "        'To': ['Hyderabad', 'Kochi', 'Chandigarh', 'Hyderabad', 'Kolkata'],\n",
        "        'FlightNumber': [10045, np.nan, 10065, np.nan, 10085],\n",
        "        'Delay_1': [23, np.nan, 24, 13, 67],\n",
        "        'Delay_2': [47, np.nan, 43, np.nan, 32],\n",
        "        'Delay_3': [np.nan, np.nan, 87, np.nan, np.nan],\n",
        "        'Airline': ['Air India', 'Indigo', 'Go Air',\n",
        "                    'Indigo', 'Vistara']}"
      ]
    },
    {
      "cell_type": "code",
      "execution_count": 898,
      "id": "015629c8",
      "metadata": {
        "id": "015629c8"
      },
      "outputs": [],
      "source": [
        "df = pd.DataFrame(sdata)"
      ]
    },
    {
      "cell_type": "code",
      "execution_count": 899,
      "id": "6822ed9f",
      "metadata": {
        "id": "6822ed9f"
      },
      "outputs": [
        {
          "data": {
            "text/html": [
              "<div>\n",
              "<style scoped>\n",
              "    .dataframe tbody tr th:only-of-type {\n",
              "        vertical-align: middle;\n",
              "    }\n",
              "\n",
              "    .dataframe tbody tr th {\n",
              "        vertical-align: top;\n",
              "    }\n",
              "\n",
              "    .dataframe thead th {\n",
              "        text-align: right;\n",
              "    }\n",
              "</style>\n",
              "<table border=\"1\" class=\"dataframe\">\n",
              "  <thead>\n",
              "    <tr style=\"text-align: right;\">\n",
              "      <th></th>\n",
              "      <th>From</th>\n",
              "      <th>To</th>\n",
              "      <th>FlightNumber</th>\n",
              "      <th>Delay_1</th>\n",
              "      <th>Delay_2</th>\n",
              "      <th>Delay_3</th>\n",
              "      <th>Airline</th>\n",
              "    </tr>\n",
              "  </thead>\n",
              "  <tbody>\n",
              "    <tr>\n",
              "      <th>0</th>\n",
              "      <td>delhi</td>\n",
              "      <td>Hyderabad</td>\n",
              "      <td>10045.0</td>\n",
              "      <td>23.0</td>\n",
              "      <td>47.0</td>\n",
              "      <td>NaN</td>\n",
              "      <td>Air India</td>\n",
              "    </tr>\n",
              "    <tr>\n",
              "      <th>1</th>\n",
              "      <td>Lucknow</td>\n",
              "      <td>Kochi</td>\n",
              "      <td>NaN</td>\n",
              "      <td>NaN</td>\n",
              "      <td>NaN</td>\n",
              "      <td>NaN</td>\n",
              "      <td>Indigo</td>\n",
              "    </tr>\n",
              "    <tr>\n",
              "      <th>2</th>\n",
              "      <td>delhi</td>\n",
              "      <td>Chandigarh</td>\n",
              "      <td>10065.0</td>\n",
              "      <td>24.0</td>\n",
              "      <td>43.0</td>\n",
              "      <td>87.0</td>\n",
              "      <td>Go Air</td>\n",
              "    </tr>\n",
              "    <tr>\n",
              "      <th>3</th>\n",
              "      <td>Mumbai</td>\n",
              "      <td>Hyderabad</td>\n",
              "      <td>NaN</td>\n",
              "      <td>13.0</td>\n",
              "      <td>NaN</td>\n",
              "      <td>NaN</td>\n",
              "      <td>Indigo</td>\n",
              "    </tr>\n",
              "    <tr>\n",
              "      <th>4</th>\n",
              "      <td>Chennai</td>\n",
              "      <td>Kolkata</td>\n",
              "      <td>10085.0</td>\n",
              "      <td>67.0</td>\n",
              "      <td>32.0</td>\n",
              "      <td>NaN</td>\n",
              "      <td>Vistara</td>\n",
              "    </tr>\n",
              "  </tbody>\n",
              "</table>\n",
              "</div>"
            ],
            "text/plain": [
              "      From          To  FlightNumber  Delay_1  Delay_2  Delay_3    Airline\n",
              "0    delhi   Hyderabad       10045.0     23.0     47.0      NaN  Air India\n",
              "1  Lucknow       Kochi           NaN      NaN      NaN      NaN     Indigo\n",
              "2    delhi  Chandigarh       10065.0     24.0     43.0     87.0     Go Air\n",
              "3   Mumbai   Hyderabad           NaN     13.0      NaN      NaN     Indigo\n",
              "4  Chennai     Kolkata       10085.0     67.0     32.0      NaN    Vistara"
            ]
          },
          "execution_count": 899,
          "metadata": {},
          "output_type": "execute_result"
        }
      ],
      "source": [
        "df.head()"
      ]
    },
    {
      "cell_type": "markdown",
      "id": "1d9d8114",
      "metadata": {
        "id": "1d9d8114"
      },
      "source": [
        "### Question 10 (5 points)\n",
        "**Calculate the number of unique cities in `df`.**"
      ]
    },
    {
      "cell_type": "code",
      "execution_count": 900,
      "id": "346c1a8a",
      "metadata": {
        "id": "346c1a8a"
      },
      "outputs": [
        {
          "data": {
            "text/plain": [
              "8"
            ]
          },
          "execution_count": 900,
          "metadata": {},
          "output_type": "execute_result"
        }
      ],
      "source": [
        "## YOUR CODE HERE\n",
        "# df['From'].nunique() + df['To'].nunique()         (it can go wrong if there are some same cities in 'From' and 'To')\n",
        "\n",
        "pd.concat([df['From'], df['To']], ignore_index=True, axis=0).nunique()\n",
        "\n",
        "# Source - https://www.geeksforgeeks.org/how-to-stack-multiple-pandas-dataframes/"
      ]
    },
    {
      "cell_type": "markdown",
      "id": "c465de2a",
      "metadata": {
        "id": "c465de2a"
      },
      "source": [
        "### Question 11 (5 points)\n",
        "**Compute the no. of flights flying out of `Delhi`.**"
      ]
    },
    {
      "cell_type": "code",
      "execution_count": 901,
      "id": "8d9d5fe8",
      "metadata": {
        "id": "8d9d5fe8"
      },
      "outputs": [
        {
          "data": {
            "text/plain": [
              "2"
            ]
          },
          "execution_count": 901,
          "metadata": {},
          "output_type": "execute_result"
        }
      ],
      "source": [
        "## YOUR CODE HERE\n",
        "(df['From']=='delhi').sum()"
      ]
    },
    {
      "cell_type": "markdown",
      "id": "b68b65f8",
      "metadata": {
        "id": "b68b65f8"
      },
      "source": [
        "### Question 12 (5 points)\n",
        "**Which cities are served by `Indigo`?**"
      ]
    },
    {
      "cell_type": "code",
      "execution_count": 902,
      "id": "717d4485",
      "metadata": {
        "id": "717d4485"
      },
      "outputs": [
        {
          "name": "stdout",
          "output_type": "stream",
          "text": [
            "Lucknow\n",
            "Mumbai\n"
          ]
        }
      ],
      "source": [
        "## YOUR CODE HERE\n",
        "for i in df.index:\n",
        "    if (df['Airline'][i]=='Indigo'):\n",
        "        print(df['From'][i])\n",
        "\n",
        "# Source - https://www.geeksforgeeks.org/different-ways-to-iterate-over-rows-in-pandas-dataframe/"
      ]
    },
    {
      "cell_type": "markdown",
      "id": "466270e6",
      "metadata": {
        "id": "466270e6"
      },
      "source": [
        "### Question 13 (5 points)\n",
        "**Calculate the total number of missing values (they are `NaN`) in `df`.**"
      ]
    },
    {
      "cell_type": "code",
      "execution_count": 903,
      "id": "2d8f4abd",
      "metadata": {
        "id": "2d8f4abd"
      },
      "outputs": [
        {
          "data": {
            "text/plain": [
              "9"
            ]
          },
          "execution_count": 903,
          "metadata": {},
          "output_type": "execute_result"
        }
      ],
      "source": [
        "## YOUR CODE HERE\n",
        "df.isnull().sum().sum()      #removing one .sum() gives NaN values for each column.\n"
      ]
    },
    {
      "cell_type": "markdown",
      "id": "b26b0d55",
      "metadata": {
        "id": "b26b0d55"
      },
      "source": [
        "### Task 14 (10 points)\n",
        "**Compute the average delay, disregarding any `NaN` values, across all flights. Subsequently, update `df` by substituting all `NaN` values within the `Delay_1`, `Delay_2`, and `Delay_3` columns with this computed average delay.**"
      ]
    },
    {
      "cell_type": "code",
      "execution_count": 904,
      "id": "b0e6425c",
      "metadata": {
        "id": "b0e6425c"
      },
      "outputs": [],
      "source": [
        "pd.options.mode.chained_assignment = None  # default='warn' (done to turn off 'SettingWithCopyWarning')\n",
        "# Source - https://stackoverflow.com/questions/20625582/how-to-deal-with-settingwithcopywarning-in-pandas\n",
        "\n",
        "# YOUR CODE HERE\n",
        "df['Delay_1'] = df['Delay_1'].fillna(0)         # to ignore NaN values while taking avg.\n",
        "df['Delay_2'] = df['Delay_2'].fillna(0)\n",
        "df['Delay_3'] = df['Delay_3'].fillna(0)\n",
        "\n",
        "count = 0                    \n",
        "for i in df.index:                    # to find no. of non-zero elements i.e. to avoid hardcoding '8'.\n",
        "    if (df['Delay_1'][i]!=0):\n",
        "        count = count+1\n",
        "    if (df['Delay_2'][i]!=0):\n",
        "        count = count+1\n",
        "    if (df['Delay_3'][i]!=0):\n",
        "        count = count+1\n",
        "\n",
        "avg = (df['Delay_1'].sum()+df['Delay_2'].sum()+df['Delay_3'].sum())/count\n",
        "for i in df.index:\n",
        "    if (df['Delay_1'][i]==0):\n",
        "        df['Delay_1'][i] = avg\n",
        "    if (df['Delay_2'][i]==0):\n",
        "        df['Delay_2'][i] = avg\n",
        "    if (df['Delay_3'][i]==0):\n",
        "        df['Delay_3'][i] = avg  "
      ]
    },
    {
      "cell_type": "code",
      "execution_count": 905,
      "id": "94c59963",
      "metadata": {
        "id": "94c59963"
      },
      "outputs": [
        {
          "data": {
            "text/html": [
              "<div>\n",
              "<style scoped>\n",
              "    .dataframe tbody tr th:only-of-type {\n",
              "        vertical-align: middle;\n",
              "    }\n",
              "\n",
              "    .dataframe tbody tr th {\n",
              "        vertical-align: top;\n",
              "    }\n",
              "\n",
              "    .dataframe thead th {\n",
              "        text-align: right;\n",
              "    }\n",
              "</style>\n",
              "<table border=\"1\" class=\"dataframe\">\n",
              "  <thead>\n",
              "    <tr style=\"text-align: right;\">\n",
              "      <th></th>\n",
              "      <th>From</th>\n",
              "      <th>To</th>\n",
              "      <th>FlightNumber</th>\n",
              "      <th>Delay_1</th>\n",
              "      <th>Delay_2</th>\n",
              "      <th>Delay_3</th>\n",
              "      <th>Airline</th>\n",
              "    </tr>\n",
              "  </thead>\n",
              "  <tbody>\n",
              "    <tr>\n",
              "      <th>0</th>\n",
              "      <td>delhi</td>\n",
              "      <td>Hyderabad</td>\n",
              "      <td>10045.0</td>\n",
              "      <td>23.0</td>\n",
              "      <td>47.0</td>\n",
              "      <td>42.0</td>\n",
              "      <td>Air India</td>\n",
              "    </tr>\n",
              "    <tr>\n",
              "      <th>1</th>\n",
              "      <td>Lucknow</td>\n",
              "      <td>Kochi</td>\n",
              "      <td>NaN</td>\n",
              "      <td>42.0</td>\n",
              "      <td>42.0</td>\n",
              "      <td>42.0</td>\n",
              "      <td>Indigo</td>\n",
              "    </tr>\n",
              "    <tr>\n",
              "      <th>2</th>\n",
              "      <td>delhi</td>\n",
              "      <td>Chandigarh</td>\n",
              "      <td>10065.0</td>\n",
              "      <td>24.0</td>\n",
              "      <td>43.0</td>\n",
              "      <td>87.0</td>\n",
              "      <td>Go Air</td>\n",
              "    </tr>\n",
              "    <tr>\n",
              "      <th>3</th>\n",
              "      <td>Mumbai</td>\n",
              "      <td>Hyderabad</td>\n",
              "      <td>NaN</td>\n",
              "      <td>13.0</td>\n",
              "      <td>42.0</td>\n",
              "      <td>42.0</td>\n",
              "      <td>Indigo</td>\n",
              "    </tr>\n",
              "    <tr>\n",
              "      <th>4</th>\n",
              "      <td>Chennai</td>\n",
              "      <td>Kolkata</td>\n",
              "      <td>10085.0</td>\n",
              "      <td>67.0</td>\n",
              "      <td>32.0</td>\n",
              "      <td>42.0</td>\n",
              "      <td>Vistara</td>\n",
              "    </tr>\n",
              "  </tbody>\n",
              "</table>\n",
              "</div>"
            ],
            "text/plain": [
              "      From          To  FlightNumber  Delay_1  Delay_2  Delay_3    Airline\n",
              "0    delhi   Hyderabad       10045.0     23.0     47.0     42.0  Air India\n",
              "1  Lucknow       Kochi           NaN     42.0     42.0     42.0     Indigo\n",
              "2    delhi  Chandigarh       10065.0     24.0     43.0     87.0     Go Air\n",
              "3   Mumbai   Hyderabad           NaN     13.0     42.0     42.0     Indigo\n",
              "4  Chennai     Kolkata       10085.0     67.0     32.0     42.0    Vistara"
            ]
          },
          "execution_count": 905,
          "metadata": {},
          "output_type": "execute_result"
        }
      ],
      "source": [
        "df.head()"
      ]
    },
    {
      "cell_type": "markdown",
      "id": "c5452f65",
      "metadata": {
        "id": "c5452f65"
      },
      "source": [
        "### Task 15 (10 points)\n",
        "**Fill in missing values in the `FlightNumber` column. The `FlightNumber` is expected to increase by 10 with each subsequent row. For instance, at row indices 1 and 3, the `FlightNumber` should be 10055 and 10075 respectively. Adjust the `df` to incorporate these changes and convert the column to integer type.**"
      ]
    },
    {
      "cell_type": "code",
      "execution_count": 906,
      "id": "cce26572",
      "metadata": {
        "id": "cce26572"
      },
      "outputs": [],
      "source": [
        "## YOUR CODE HERE\n",
        "df['FlightNumber'] = df['FlightNumber'].fillna(0)\n",
        "\n",
        "for i in df.index:\n",
        "    if(df['FlightNumber'][i]==0):\n",
        "        df['FlightNumber'][i] = df['FlightNumber'][i-1]+10\n"
      ]
    },
    {
      "cell_type": "code",
      "execution_count": 907,
      "id": "7f581e05",
      "metadata": {
        "id": "7f581e05"
      },
      "outputs": [
        {
          "data": {
            "text/html": [
              "<div>\n",
              "<style scoped>\n",
              "    .dataframe tbody tr th:only-of-type {\n",
              "        vertical-align: middle;\n",
              "    }\n",
              "\n",
              "    .dataframe tbody tr th {\n",
              "        vertical-align: top;\n",
              "    }\n",
              "\n",
              "    .dataframe thead th {\n",
              "        text-align: right;\n",
              "    }\n",
              "</style>\n",
              "<table border=\"1\" class=\"dataframe\">\n",
              "  <thead>\n",
              "    <tr style=\"text-align: right;\">\n",
              "      <th></th>\n",
              "      <th>From</th>\n",
              "      <th>To</th>\n",
              "      <th>FlightNumber</th>\n",
              "      <th>Delay_1</th>\n",
              "      <th>Delay_2</th>\n",
              "      <th>Delay_3</th>\n",
              "      <th>Airline</th>\n",
              "    </tr>\n",
              "  </thead>\n",
              "  <tbody>\n",
              "    <tr>\n",
              "      <th>0</th>\n",
              "      <td>delhi</td>\n",
              "      <td>Hyderabad</td>\n",
              "      <td>10045.0</td>\n",
              "      <td>23.0</td>\n",
              "      <td>47.0</td>\n",
              "      <td>42.0</td>\n",
              "      <td>Air India</td>\n",
              "    </tr>\n",
              "    <tr>\n",
              "      <th>1</th>\n",
              "      <td>Lucknow</td>\n",
              "      <td>Kochi</td>\n",
              "      <td>10055.0</td>\n",
              "      <td>42.0</td>\n",
              "      <td>42.0</td>\n",
              "      <td>42.0</td>\n",
              "      <td>Indigo</td>\n",
              "    </tr>\n",
              "    <tr>\n",
              "      <th>2</th>\n",
              "      <td>delhi</td>\n",
              "      <td>Chandigarh</td>\n",
              "      <td>10065.0</td>\n",
              "      <td>24.0</td>\n",
              "      <td>43.0</td>\n",
              "      <td>87.0</td>\n",
              "      <td>Go Air</td>\n",
              "    </tr>\n",
              "    <tr>\n",
              "      <th>3</th>\n",
              "      <td>Mumbai</td>\n",
              "      <td>Hyderabad</td>\n",
              "      <td>10075.0</td>\n",
              "      <td>13.0</td>\n",
              "      <td>42.0</td>\n",
              "      <td>42.0</td>\n",
              "      <td>Indigo</td>\n",
              "    </tr>\n",
              "    <tr>\n",
              "      <th>4</th>\n",
              "      <td>Chennai</td>\n",
              "      <td>Kolkata</td>\n",
              "      <td>10085.0</td>\n",
              "      <td>67.0</td>\n",
              "      <td>32.0</td>\n",
              "      <td>42.0</td>\n",
              "      <td>Vistara</td>\n",
              "    </tr>\n",
              "  </tbody>\n",
              "</table>\n",
              "</div>"
            ],
            "text/plain": [
              "      From          To  FlightNumber  Delay_1  Delay_2  Delay_3    Airline\n",
              "0    delhi   Hyderabad       10045.0     23.0     47.0     42.0  Air India\n",
              "1  Lucknow       Kochi       10055.0     42.0     42.0     42.0     Indigo\n",
              "2    delhi  Chandigarh       10065.0     24.0     43.0     87.0     Go Air\n",
              "3   Mumbai   Hyderabad       10075.0     13.0     42.0     42.0     Indigo\n",
              "4  Chennai     Kolkata       10085.0     67.0     32.0     42.0    Vistara"
            ]
          },
          "execution_count": 907,
          "metadata": {},
          "output_type": "execute_result"
        }
      ],
      "source": [
        "df.head()"
      ]
    },
    {
      "cell_type": "code",
      "execution_count": 908,
      "id": "3b3dc16b",
      "metadata": {
        "id": "3b3dc16b"
      },
      "outputs": [
        {
          "name": "stdout",
          "output_type": "stream",
          "text": [
            "<class 'pandas.core.frame.DataFrame'>\n",
            "RangeIndex: 5 entries, 0 to 4\n",
            "Data columns (total 7 columns):\n",
            " #   Column        Non-Null Count  Dtype  \n",
            "---  ------        --------------  -----  \n",
            " 0   From          5 non-null      object \n",
            " 1   To            5 non-null      object \n",
            " 2   FlightNumber  5 non-null      float64\n",
            " 3   Delay_1       5 non-null      float64\n",
            " 4   Delay_2       5 non-null      float64\n",
            " 5   Delay_3       5 non-null      float64\n",
            " 6   Airline       5 non-null      object \n",
            "dtypes: float64(4), object(3)\n",
            "memory usage: 412.0+ bytes\n"
          ]
        }
      ],
      "source": [
        "df.info()"
      ]
    },
    {
      "cell_type": "code",
      "execution_count": null,
      "id": "60e14135",
      "metadata": {
        "id": "60e14135"
      },
      "outputs": [],
      "source": []
    }
  ],
  "metadata": {
    "colab": {
      "provenance": []
    },
    "kernelspec": {
      "display_name": "Python 3",
      "language": "python",
      "name": "python3"
    },
    "language_info": {
      "codemirror_mode": {
        "name": "ipython",
        "version": 3
      },
      "file_extension": ".py",
      "mimetype": "text/x-python",
      "name": "python",
      "nbconvert_exporter": "python",
      "pygments_lexer": "ipython3",
      "version": "3.11.6"
    }
  },
  "nbformat": 4,
  "nbformat_minor": 5
}
